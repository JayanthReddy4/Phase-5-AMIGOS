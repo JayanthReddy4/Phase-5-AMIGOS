{
 "cells": [
  {
   "cell_type": "code",
   "execution_count": 1,
   "id": "e72f918c",
   "metadata": {},
   "outputs": [
    {
     "name": "stdout",
     "output_type": "stream",
     "text": [
      "Collecting hyperoptNote: you may need to restart the kernel to use updated packages.\n",
      "\n",
      "  Downloading hyperopt-0.2.7-py2.py3-none-any.whl (1.6 MB)\n",
      "     ---------------------------------------- 1.6/1.6 MB 2.1 MB/s eta 0:00:00\n",
      "Collecting py4j\n",
      "  Downloading py4j-0.10.9.7-py2.py3-none-any.whl (200 kB)\n",
      "     -------------------------------------- 200.5/200.5 kB 2.4 MB/s eta 0:00:00\n",
      "Requirement already satisfied: six in c:\\users\\jayanth reddy\\anaconda3\\lib\\site-packages (from hyperopt) (1.16.0)\n",
      "Requirement already satisfied: cloudpickle in c:\\users\\jayanth reddy\\anaconda3\\lib\\site-packages (from hyperopt) (2.0.0)\n",
      "Requirement already satisfied: future in c:\\users\\jayanth reddy\\anaconda3\\lib\\site-packages (from hyperopt) (0.18.2)\n",
      "Requirement already satisfied: numpy in c:\\users\\jayanth reddy\\anaconda3\\lib\\site-packages (from hyperopt) (1.23.5)\n",
      "Requirement already satisfied: tqdm in c:\\users\\jayanth reddy\\anaconda3\\lib\\site-packages (from hyperopt) (4.64.1)\n",
      "Requirement already satisfied: scipy in c:\\users\\jayanth reddy\\anaconda3\\lib\\site-packages (from hyperopt) (1.9.1)\n",
      "Requirement already satisfied: networkx>=2.2 in c:\\users\\jayanth reddy\\anaconda3\\lib\\site-packages (from hyperopt) (2.8.4)\n",
      "Requirement already satisfied: colorama in c:\\users\\jayanth reddy\\anaconda3\\lib\\site-packages (from tqdm->hyperopt) (0.4.5)\n",
      "Installing collected packages: py4j, hyperopt\n",
      "Successfully installed hyperopt-0.2.7 py4j-0.10.9.7\n"
     ]
    }
   ],
   "source": [
    "pip install hyperopt"
   ]
  },
  {
   "cell_type": "code",
   "execution_count": 3,
   "id": "3b3930b2",
   "metadata": {},
   "outputs": [],
   "source": [
    "# import packages \n",
    "import numpy as np \n",
    "import pandas as pd \n",
    "from sklearn.ensemble import RandomForestClassifier \n",
    "from sklearn import metrics\n",
    "from sklearn.model_selection import cross_val_score\n",
    "from sklearn.preprocessing import StandardScaler \n",
    "from hyperopt import tpe, hp, fmin, STATUS_OK,Trials\n",
    "from hyperopt.pyll.base import scope\n",
    "\n",
    "import warnings\n",
    "warnings.filterwarnings(\"ignore\")"
   ]
  },
  {
   "cell_type": "code",
   "execution_count": 5,
   "id": "ed8256df",
   "metadata": {},
   "outputs": [],
   "source": [
    "data = pd.read_csv(\"Full_data.csv\")"
   ]
  },
  {
   "cell_type": "code",
   "execution_count": 6,
   "id": "e3ffaea4",
   "metadata": {},
   "outputs": [
    {
     "data": {
      "text/html": [
       "<div>\n",
       "<style scoped>\n",
       "    .dataframe tbody tr th:only-of-type {\n",
       "        vertical-align: middle;\n",
       "    }\n",
       "\n",
       "    .dataframe tbody tr th {\n",
       "        vertical-align: top;\n",
       "    }\n",
       "\n",
       "    .dataframe thead th {\n",
       "        text-align: right;\n",
       "    }\n",
       "</style>\n",
       "<table border=\"1\" class=\"dataframe\">\n",
       "  <thead>\n",
       "    <tr style=\"text-align: right;\">\n",
       "      <th></th>\n",
       "      <th>lat</th>\n",
       "      <th>lng</th>\n",
       "      <th>name</th>\n",
       "      <th>vicinity</th>\n",
       "      <th>Type1</th>\n",
       "      <th>Type2</th>\n",
       "      <th>Type3</th>\n",
       "      <th>Type4</th>\n",
       "      <th>Type5</th>\n",
       "      <th>Type6</th>\n",
       "      <th>rating</th>\n",
       "      <th>user_ratings_total</th>\n",
       "      <th>price_level</th>\n",
       "    </tr>\n",
       "  </thead>\n",
       "  <tbody>\n",
       "    <tr>\n",
       "      <th>0</th>\n",
       "      <td>41.270548</td>\n",
       "      <td>-72.946971</td>\n",
       "      <td>West Haven</td>\n",
       "      <td>West Haven</td>\n",
       "      <td>accounting</td>\n",
       "      <td>finance</td>\n",
       "      <td>point_of_interest</td>\n",
       "      <td>establishment</td>\n",
       "      <td>NaN</td>\n",
       "      <td>NaN</td>\n",
       "      <td>0.0</td>\n",
       "      <td>0</td>\n",
       "      <td>0</td>\n",
       "    </tr>\n",
       "    <tr>\n",
       "      <th>1</th>\n",
       "      <td>41.233086</td>\n",
       "      <td>-73.026043</td>\n",
       "      <td>Hilton Garden Inn Milford</td>\n",
       "      <td>291 Old Gate Lane, Milford</td>\n",
       "      <td>accounting</td>\n",
       "      <td>finance</td>\n",
       "      <td>local_government_office</td>\n",
       "      <td>point_of_interest</td>\n",
       "      <td>establishment</td>\n",
       "      <td>NaN</td>\n",
       "      <td>4.0</td>\n",
       "      <td>813</td>\n",
       "      <td>0</td>\n",
       "    </tr>\n",
       "    <tr>\n",
       "      <th>2</th>\n",
       "      <td>41.231155</td>\n",
       "      <td>-73.029880</td>\n",
       "      <td>Hyatt Place Milford / New Haven</td>\n",
       "      <td>190 Old Gate Lane, Milford</td>\n",
       "      <td>accounting</td>\n",
       "      <td>local_government_office</td>\n",
       "      <td>finance</td>\n",
       "      <td>point_of_interest</td>\n",
       "      <td>establishment</td>\n",
       "      <td>NaN</td>\n",
       "      <td>4.0</td>\n",
       "      <td>664</td>\n",
       "      <td>0</td>\n",
       "    </tr>\n",
       "    <tr>\n",
       "      <th>3</th>\n",
       "      <td>41.255831</td>\n",
       "      <td>-73.001768</td>\n",
       "      <td>Courtyard by Marriott New Haven Orange/Milford</td>\n",
       "      <td>136 Marsh Hill Road, Orange</td>\n",
       "      <td>accounting</td>\n",
       "      <td>finance</td>\n",
       "      <td>point_of_interest</td>\n",
       "      <td>establishment</td>\n",
       "      <td>NaN</td>\n",
       "      <td>NaN</td>\n",
       "      <td>4.0</td>\n",
       "      <td>499</td>\n",
       "      <td>0</td>\n",
       "    </tr>\n",
       "    <tr>\n",
       "      <th>4</th>\n",
       "      <td>41.223208</td>\n",
       "      <td>-73.077087</td>\n",
       "      <td>Hampton Inn Milford</td>\n",
       "      <td>129 Plains Road, Milford</td>\n",
       "      <td>accounting</td>\n",
       "      <td>finance</td>\n",
       "      <td>point_of_interest</td>\n",
       "      <td>establishment</td>\n",
       "      <td>NaN</td>\n",
       "      <td>NaN</td>\n",
       "      <td>3.8</td>\n",
       "      <td>824</td>\n",
       "      <td>0</td>\n",
       "    </tr>\n",
       "  </tbody>\n",
       "</table>\n",
       "</div>"
      ],
      "text/plain": [
       "         lat        lng                                            name  \\\n",
       "0  41.270548 -72.946971                                      West Haven   \n",
       "1  41.233086 -73.026043                       Hilton Garden Inn Milford   \n",
       "2  41.231155 -73.029880                 Hyatt Place Milford / New Haven   \n",
       "3  41.255831 -73.001768  Courtyard by Marriott New Haven Orange/Milford   \n",
       "4  41.223208 -73.077087                             Hampton Inn Milford   \n",
       "\n",
       "                      vicinity       Type1                    Type2  \\\n",
       "0                   West Haven  accounting                  finance   \n",
       "1   291 Old Gate Lane, Milford  accounting                  finance   \n",
       "2   190 Old Gate Lane, Milford  accounting  local_government_office   \n",
       "3  136 Marsh Hill Road, Orange  accounting                  finance   \n",
       "4     129 Plains Road, Milford  accounting                  finance   \n",
       "\n",
       "                     Type3              Type4          Type5 Type6  rating  \\\n",
       "0        point_of_interest      establishment            NaN   NaN     0.0   \n",
       "1  local_government_office  point_of_interest  establishment   NaN     4.0   \n",
       "2                  finance  point_of_interest  establishment   NaN     4.0   \n",
       "3        point_of_interest      establishment            NaN   NaN     4.0   \n",
       "4        point_of_interest      establishment            NaN   NaN     3.8   \n",
       "\n",
       "   user_ratings_total  price_level  \n",
       "0                   0            0  \n",
       "1                 813            0  \n",
       "2                 664            0  \n",
       "3                 499            0  \n",
       "4                 824            0  "
      ]
     },
     "execution_count": 6,
     "metadata": {},
     "output_type": "execute_result"
    }
   ],
   "source": [
    "data.head()"
   ]
  },
  {
   "cell_type": "code",
   "execution_count": 7,
   "id": "6477c865",
   "metadata": {},
   "outputs": [
    {
     "data": {
      "text/plain": [
       "(2280, 13)"
      ]
     },
     "execution_count": 7,
     "metadata": {},
     "output_type": "execute_result"
    }
   ],
   "source": [
    "#show shape\n",
    "data.shape"
   ]
  },
  {
   "cell_type": "code",
   "execution_count": 8,
   "id": "5e640ecb",
   "metadata": {},
   "outputs": [
    {
     "data": {
      "text/plain": [
       "['lat',\n",
       " 'lng',\n",
       " 'name',\n",
       " 'vicinity',\n",
       " 'Type1',\n",
       " 'Type2',\n",
       " 'Type3',\n",
       " 'Type4',\n",
       " 'Type5',\n",
       " 'Type6',\n",
       " 'rating',\n",
       " 'user_ratings_total',\n",
       " 'price_level']"
      ]
     },
     "execution_count": 8,
     "metadata": {},
     "output_type": "execute_result"
    }
   ],
   "source": [
    "list(data.columns)"
   ]
  },
  {
   "cell_type": "code",
   "execution_count": 10,
   "id": "e5946ff8",
   "metadata": {},
   "outputs": [],
   "source": [
    "# split data into features and target \n",
    "X = data.drop(\"price_level\", axis=1).values \n",
    "y = data.price_level.values"
   ]
  },
  {
   "cell_type": "code",
   "execution_count": 12,
   "id": "829e07ad",
   "metadata": {},
   "outputs": [],
   "source": [
    "X = data[['rating', 'user_ratings_total', ]]\n",
    "y = data['price_level']"
   ]
  },
  {
   "cell_type": "code",
   "execution_count": 13,
   "id": "3e773f36",
   "metadata": {},
   "outputs": [],
   "source": [
    "# standardize the feature variables \n",
    "scaler = StandardScaler()\n",
    "X_scaled = scaler.fit_transform(X)"
   ]
  },
  {
   "cell_type": "code",
   "execution_count": 14,
   "id": "98744b0e",
   "metadata": {},
   "outputs": [],
   "source": [
    "space = {\n",
    "    \"n_estimators\": hp.choice(\"n_estimators\", [100, 200, 300, 400,500,600]),\n",
    "    \"max_depth\": hp.quniform(\"max_depth\", 1, 15,1),\n",
    "    \"criterion\": hp.choice(\"criterion\", [\"gini\", \"entropy\"]),\n",
    "}"
   ]
  },
  {
   "cell_type": "code",
   "execution_count": 15,
   "id": "0cb400f0",
   "metadata": {},
   "outputs": [],
   "source": [
    "\n",
    "def hyperparameter_tuning(params):\n",
    "    clf = RandomForestClassifier(**params,n_jobs=-1)\n",
    "    acc = cross_val_score(clf, X_scaled, y,scoring=\"accuracy\").mean()\n",
    "    return {\"loss\": -acc, \"status\": STATUS_OK}"
   ]
  },
  {
   "cell_type": "code",
   "execution_count": 16,
   "id": "908e29bc",
   "metadata": {},
   "outputs": [
    {
     "name": "stdout",
     "output_type": "stream",
     "text": [
      "100%|█████████████████████████████████████████████| 100/100 [03:41<00:00,  2.21s/trial, best loss: -0.9368421052631579]\n",
      "Best: {'criterion': 1, 'max_depth': 14.0, 'n_estimators': 2}\n"
     ]
    }
   ],
   "source": [
    "# Initialize trials object\n",
    "trials = Trials()\n",
    "\n",
    "best = fmin(\n",
    "    fn=hyperparameter_tuning,\n",
    "    space = space, \n",
    "    algo=tpe.suggest, \n",
    "    max_evals=100, \n",
    "    trials=trials\n",
    ")\n",
    "\n",
    "print(\"Best: {}\".format(best))"
   ]
  },
  {
   "cell_type": "code",
   "execution_count": 17,
   "id": "31f99b90",
   "metadata": {},
   "outputs": [
    {
     "data": {
      "text/plain": [
       "[{'loss': -0.9346491228070175, 'status': 'ok'},\n",
       " {'loss': -0.8807017543859649, 'status': 'ok'},\n",
       " {'loss': -0.881140350877193, 'status': 'ok'},\n",
       " {'loss': -0.9175438596491228, 'status': 'ok'},\n",
       " {'loss': -0.9324561403508772, 'status': 'ok'},\n",
       " {'loss': -0.9043859649122806, 'status': 'ok'},\n",
       " {'loss': -0.9346491228070175, 'status': 'ok'},\n",
       " {'loss': -0.918859649122807, 'status': 'ok'},\n",
       " {'loss': -0.8368421052631578, 'status': 'ok'},\n",
       " {'loss': -0.9311403508771929, 'status': 'ok'},\n",
       " {'loss': -0.9035087719298247, 'status': 'ok'},\n",
       " {'loss': -0.9118421052631579, 'status': 'ok'},\n",
       " {'loss': -0.881578947368421, 'status': 'ok'},\n",
       " {'loss': -0.9048245614035088, 'status': 'ok'},\n",
       " {'loss': -0.8728070175438598, 'status': 'ok'},\n",
       " {'loss': -0.9324561403508772, 'status': 'ok'},\n",
       " {'loss': -0.8368421052631578, 'status': 'ok'},\n",
       " {'loss': -0.8368421052631578, 'status': 'ok'},\n",
       " {'loss': -0.912719298245614, 'status': 'ok'},\n",
       " {'loss': -0.8785087719298247, 'status': 'ok'},\n",
       " {'loss': -0.9337719298245613, 'status': 'ok'},\n",
       " {'loss': -0.9333333333333332, 'status': 'ok'},\n",
       " {'loss': -0.9346491228070175, 'status': 'ok'},\n",
       " {'loss': -0.9350877192982455, 'status': 'ok'},\n",
       " {'loss': -0.9350877192982455, 'status': 'ok'},\n",
       " {'loss': -0.9280701754385966, 'status': 'ok'},\n",
       " {'loss': -0.8710526315789473, 'status': 'ok'},\n",
       " {'loss': -0.9328947368421051, 'status': 'ok'},\n",
       " {'loss': -0.9355263157894737, 'status': 'ok'},\n",
       " {'loss': -0.9271929824561405, 'status': 'ok'},\n",
       " {'loss': -0.8973684210526315, 'status': 'ok'},\n",
       " {'loss': -0.9298245614035088, 'status': 'ok'},\n",
       " {'loss': -0.9350877192982455, 'status': 'ok'},\n",
       " {'loss': -0.9210526315789475, 'status': 'ok'},\n",
       " {'loss': -0.887280701754386, 'status': 'ok'},\n",
       " {'loss': -0.9320175438596492, 'status': 'ok'},\n",
       " {'loss': -0.9342105263157894, 'status': 'ok'},\n",
       " {'loss': -0.8701754385964913, 'status': 'ok'},\n",
       " {'loss': -0.9109649122807019, 'status': 'ok'},\n",
       " {'loss': -0.9219298245614036, 'status': 'ok'},\n",
       " {'loss': -0.9333333333333332, 'status': 'ok'},\n",
       " {'loss': -0.8964912280701753, 'status': 'ok'},\n",
       " {'loss': -0.9293859649122806, 'status': 'ok'},\n",
       " {'loss': -0.9350877192982455, 'status': 'ok'},\n",
       " {'loss': -0.9355263157894737, 'status': 'ok'},\n",
       " {'loss': -0.9048245614035088, 'status': 'ok'},\n",
       " {'loss': -0.887719298245614, 'status': 'ok'},\n",
       " {'loss': -0.9206140350877193, 'status': 'ok'},\n",
       " {'loss': -0.9096491228070176, 'status': 'ok'},\n",
       " {'loss': -0.9307017543859649, 'status': 'ok'},\n",
       " {'loss': -0.85, 'status': 'ok'},\n",
       " {'loss': -0.9350877192982455, 'status': 'ok'},\n",
       " {'loss': -0.8881578947368421, 'status': 'ok'},\n",
       " {'loss': -0.9267543859649123, 'status': 'ok'},\n",
       " {'loss': -0.9039473684210526, 'status': 'ok'},\n",
       " {'loss': -0.8723684210526317, 'status': 'ok'},\n",
       " {'loss': -0.8368421052631578, 'status': 'ok'},\n",
       " {'loss': -0.9320175438596492, 'status': 'ok'},\n",
       " {'loss': -0.9355263157894737, 'status': 'ok'},\n",
       " {'loss': -0.9328947368421053, 'status': 'ok'},\n",
       " {'loss': -0.9109649122807018, 'status': 'ok'},\n",
       " {'loss': -0.9350877192982455, 'status': 'ok'},\n",
       " {'loss': -0.9039473684210527, 'status': 'ok'},\n",
       " {'loss': -0.9342105263157894, 'status': 'ok'},\n",
       " {'loss': -0.9197368421052632, 'status': 'ok'},\n",
       " {'loss': -0.9355263157894737, 'status': 'ok'},\n",
       " {'loss': -0.9324561403508772, 'status': 'ok'},\n",
       " {'loss': -0.9328947368421051, 'status': 'ok'},\n",
       " {'loss': -0.9328947368421051, 'status': 'ok'},\n",
       " {'loss': -0.9285087719298246, 'status': 'ok'},\n",
       " {'loss': -0.9337719298245613, 'status': 'ok'},\n",
       " {'loss': -0.9328947368421053, 'status': 'ok'},\n",
       " {'loss': -0.9364035087719298, 'status': 'ok'},\n",
       " {'loss': -0.9364035087719298, 'status': 'ok'},\n",
       " {'loss': -0.9311403508771929, 'status': 'ok'},\n",
       " {'loss': -0.8368421052631578, 'status': 'ok'},\n",
       " {'loss': -0.9201754385964913, 'status': 'ok'},\n",
       " {'loss': -0.9342105263157894, 'status': 'ok'},\n",
       " {'loss': -0.9333333333333332, 'status': 'ok'},\n",
       " {'loss': -0.9333333333333332, 'status': 'ok'},\n",
       " {'loss': -0.9364035087719298, 'status': 'ok'},\n",
       " {'loss': -0.8982456140350876, 'status': 'ok'},\n",
       " {'loss': -0.8732456140350878, 'status': 'ok'},\n",
       " {'loss': -0.9276315789473684, 'status': 'ok'},\n",
       " {'loss': -0.9109649122807018, 'status': 'ok'},\n",
       " {'loss': -0.9333333333333332, 'status': 'ok'},\n",
       " {'loss': -0.9302631578947368, 'status': 'ok'},\n",
       " {'loss': -0.9342105263157894, 'status': 'ok'},\n",
       " {'loss': -0.8447368421052632, 'status': 'ok'},\n",
       " {'loss': -0.9293859649122806, 'status': 'ok'},\n",
       " {'loss': -0.9333333333333333, 'status': 'ok'},\n",
       " {'loss': -0.9192982456140351, 'status': 'ok'},\n",
       " {'loss': -0.9333333333333332, 'status': 'ok'},\n",
       " {'loss': -0.9368421052631579, 'status': 'ok'},\n",
       " {'loss': -0.9342105263157894, 'status': 'ok'},\n",
       " {'loss': -0.8864035087719297, 'status': 'ok'},\n",
       " {'loss': -0.8798245614035087, 'status': 'ok'},\n",
       " {'loss': -0.9342105263157894, 'status': 'ok'},\n",
       " {'loss': -0.9043859649122806, 'status': 'ok'},\n",
       " {'loss': -0.9100877192982457, 'status': 'ok'}]"
      ]
     },
     "execution_count": 17,
     "metadata": {},
     "output_type": "execute_result"
    }
   ],
   "source": [
    "trials.results"
   ]
  },
  {
   "cell_type": "code",
   "execution_count": 18,
   "id": "b20dde70",
   "metadata": {},
   "outputs": [
    {
     "data": {
      "text/plain": [
       "[-0.9346491228070175,\n",
       " -0.8807017543859649,\n",
       " -0.881140350877193,\n",
       " -0.9175438596491228,\n",
       " -0.9324561403508772,\n",
       " -0.9043859649122806,\n",
       " -0.9346491228070175,\n",
       " -0.918859649122807,\n",
       " -0.8368421052631578,\n",
       " -0.9311403508771929,\n",
       " -0.9035087719298247,\n",
       " -0.9118421052631579,\n",
       " -0.881578947368421,\n",
       " -0.9048245614035088,\n",
       " -0.8728070175438598,\n",
       " -0.9324561403508772,\n",
       " -0.8368421052631578,\n",
       " -0.8368421052631578,\n",
       " -0.912719298245614,\n",
       " -0.8785087719298247,\n",
       " -0.9337719298245613,\n",
       " -0.9333333333333332,\n",
       " -0.9346491228070175,\n",
       " -0.9350877192982455,\n",
       " -0.9350877192982455,\n",
       " -0.9280701754385966,\n",
       " -0.8710526315789473,\n",
       " -0.9328947368421051,\n",
       " -0.9355263157894737,\n",
       " -0.9271929824561405,\n",
       " -0.8973684210526315,\n",
       " -0.9298245614035088,\n",
       " -0.9350877192982455,\n",
       " -0.9210526315789475,\n",
       " -0.887280701754386,\n",
       " -0.9320175438596492,\n",
       " -0.9342105263157894,\n",
       " -0.8701754385964913,\n",
       " -0.9109649122807019,\n",
       " -0.9219298245614036,\n",
       " -0.9333333333333332,\n",
       " -0.8964912280701753,\n",
       " -0.9293859649122806,\n",
       " -0.9350877192982455,\n",
       " -0.9355263157894737,\n",
       " -0.9048245614035088,\n",
       " -0.887719298245614,\n",
       " -0.9206140350877193,\n",
       " -0.9096491228070176,\n",
       " -0.9307017543859649,\n",
       " -0.85,\n",
       " -0.9350877192982455,\n",
       " -0.8881578947368421,\n",
       " -0.9267543859649123,\n",
       " -0.9039473684210526,\n",
       " -0.8723684210526317,\n",
       " -0.8368421052631578,\n",
       " -0.9320175438596492,\n",
       " -0.9355263157894737,\n",
       " -0.9328947368421053,\n",
       " -0.9109649122807018,\n",
       " -0.9350877192982455,\n",
       " -0.9039473684210527,\n",
       " -0.9342105263157894,\n",
       " -0.9197368421052632,\n",
       " -0.9355263157894737,\n",
       " -0.9324561403508772,\n",
       " -0.9328947368421051,\n",
       " -0.9328947368421051,\n",
       " -0.9285087719298246,\n",
       " -0.9337719298245613,\n",
       " -0.9328947368421053,\n",
       " -0.9364035087719298,\n",
       " -0.9364035087719298,\n",
       " -0.9311403508771929,\n",
       " -0.8368421052631578,\n",
       " -0.9201754385964913,\n",
       " -0.9342105263157894,\n",
       " -0.9333333333333332,\n",
       " -0.9333333333333332,\n",
       " -0.9364035087719298,\n",
       " -0.8982456140350876,\n",
       " -0.8732456140350878,\n",
       " -0.9276315789473684,\n",
       " -0.9109649122807018,\n",
       " -0.9333333333333332,\n",
       " -0.9302631578947368,\n",
       " -0.9342105263157894,\n",
       " -0.8447368421052632,\n",
       " -0.9293859649122806,\n",
       " -0.9333333333333333,\n",
       " -0.9192982456140351,\n",
       " -0.9333333333333332,\n",
       " -0.9368421052631579,\n",
       " -0.9342105263157894,\n",
       " -0.8864035087719297,\n",
       " -0.8798245614035087,\n",
       " -0.9342105263157894,\n",
       " -0.9043859649122806,\n",
       " -0.9100877192982457]"
      ]
     },
     "execution_count": 18,
     "metadata": {},
     "output_type": "execute_result"
    }
   ],
   "source": [
    "trials.losses()"
   ]
  },
  {
   "cell_type": "code",
   "execution_count": 30,
   "id": "4f6d7717",
   "metadata": {},
   "outputs": [
    {
     "name": "stdout",
     "output_type": "stream",
     "text": [
      "Collecting optuna\n",
      "  Downloading optuna-3.1.0-py3-none-any.whl (365 kB)\n",
      "     -------------------------------------- 365.3/365.3 kB 7.6 MB/s eta 0:00:00\n",
      "Collecting cmaes>=0.9.1\n",
      "  Downloading cmaes-0.9.1-py3-none-any.whl (21 kB)\n",
      "Requirement already satisfied: tqdm in c:\\users\\jayanth reddy\\anaconda3\\lib\\site-packages (from optuna) (4.64.1)\n",
      "Requirement already satisfied: sqlalchemy>=1.3.0 in c:\\users\\jayanth reddy\\anaconda3\\lib\\site-packages (from optuna) (1.4.39)\n",
      "Requirement already satisfied: packaging>=20.0 in c:\\users\\jayanth reddy\\anaconda3\\lib\\site-packages (from optuna) (21.3)\n",
      "Collecting colorlog\n",
      "  Downloading colorlog-6.7.0-py2.py3-none-any.whl (11 kB)\n",
      "Requirement already satisfied: numpy in c:\\users\\jayanth reddy\\anaconda3\\lib\\site-packages (from optuna) (1.23.5)\n",
      "Requirement already satisfied: PyYAML in c:\\users\\jayanth reddy\\anaconda3\\lib\\site-packages (from optuna) (6.0)\n",
      "Collecting alembic>=1.5.0\n",
      "  Downloading alembic-1.10.2-py3-none-any.whl (212 kB)\n",
      "     -------------------------------------- 212.2/212.2 kB 6.5 MB/s eta 0:00:00\n",
      "Collecting Mako\n",
      "  Downloading Mako-1.2.4-py3-none-any.whl (78 kB)\n",
      "     ---------------------------------------- 78.7/78.7 kB 4.6 MB/s eta 0:00:00\n",
      "Requirement already satisfied: typing-extensions>=4 in c:\\users\\jayanth reddy\\anaconda3\\lib\\site-packages (from alembic>=1.5.0->optuna) (4.3.0)\n",
      "Requirement already satisfied: pyparsing!=3.0.5,>=2.0.2 in c:\\users\\jayanth reddy\\anaconda3\\lib\\site-packages (from packaging>=20.0->optuna) (3.0.9)\n",
      "Requirement already satisfied: greenlet!=0.4.17 in c:\\users\\jayanth reddy\\anaconda3\\lib\\site-packages (from sqlalchemy>=1.3.0->optuna) (1.1.1)\n",
      "Requirement already satisfied: colorama in c:\\users\\jayanth reddy\\anaconda3\\lib\\site-packages (from colorlog->optuna) (0.4.5)\n",
      "Requirement already satisfied: MarkupSafe>=0.9.2 in c:\\users\\jayanth reddy\\anaconda3\\lib\\site-packages (from Mako->alembic>=1.5.0->optuna) (2.0.1)\n",
      "Installing collected packages: Mako, colorlog, cmaes, alembic, optuna\n",
      "Successfully installed Mako-1.2.4 alembic-1.10.2 cmaes-0.9.1 colorlog-6.7.0 optuna-3.1.0\n",
      "Note: you may need to restart the kernel to use updated packages.\n"
     ]
    }
   ],
   "source": [
    "pip install optuna"
   ]
  },
  {
   "cell_type": "code",
   "execution_count": 33,
   "id": "c5b2b7de",
   "metadata": {},
   "outputs": [],
   "source": [
    "# import packages \n",
    "# import packages \n",
    "import numpy as np \n",
    "import pandas as pd \n",
    "from sklearn.ensemble import RandomForestClassifier \n",
    "from sklearn import metrics \n",
    "from sklearn.model_selection import cross_val_score \n",
    "from sklearn.preprocessing import StandardScaler \n",
    "import joblib \n",
    "\n",
    "import optuna \n",
    "from optuna.samplers import TPESampler\n",
    "\n",
    "\n",
    "import warnings\n",
    "warnings.filterwarnings(\"ignore\")"
   ]
  },
  {
   "cell_type": "code",
   "execution_count": 34,
   "id": "b0a47e0e",
   "metadata": {},
   "outputs": [],
   "source": [
    "data=pd.read_csv(\"full_data.csv\")"
   ]
  },
  {
   "cell_type": "code",
   "execution_count": 35,
   "id": "e37958fa",
   "metadata": {},
   "outputs": [
    {
     "data": {
      "text/html": [
       "<div>\n",
       "<style scoped>\n",
       "    .dataframe tbody tr th:only-of-type {\n",
       "        vertical-align: middle;\n",
       "    }\n",
       "\n",
       "    .dataframe tbody tr th {\n",
       "        vertical-align: top;\n",
       "    }\n",
       "\n",
       "    .dataframe thead th {\n",
       "        text-align: right;\n",
       "    }\n",
       "</style>\n",
       "<table border=\"1\" class=\"dataframe\">\n",
       "  <thead>\n",
       "    <tr style=\"text-align: right;\">\n",
       "      <th></th>\n",
       "      <th>lat</th>\n",
       "      <th>lng</th>\n",
       "      <th>name</th>\n",
       "      <th>vicinity</th>\n",
       "      <th>Type1</th>\n",
       "      <th>Type2</th>\n",
       "      <th>Type3</th>\n",
       "      <th>Type4</th>\n",
       "      <th>Type5</th>\n",
       "      <th>Type6</th>\n",
       "      <th>rating</th>\n",
       "      <th>user_ratings_total</th>\n",
       "      <th>price_level</th>\n",
       "    </tr>\n",
       "  </thead>\n",
       "  <tbody>\n",
       "    <tr>\n",
       "      <th>0</th>\n",
       "      <td>41.270548</td>\n",
       "      <td>-72.946971</td>\n",
       "      <td>West Haven</td>\n",
       "      <td>West Haven</td>\n",
       "      <td>accounting</td>\n",
       "      <td>finance</td>\n",
       "      <td>point_of_interest</td>\n",
       "      <td>establishment</td>\n",
       "      <td>NaN</td>\n",
       "      <td>NaN</td>\n",
       "      <td>0.0</td>\n",
       "      <td>0</td>\n",
       "      <td>0</td>\n",
       "    </tr>\n",
       "    <tr>\n",
       "      <th>1</th>\n",
       "      <td>41.233086</td>\n",
       "      <td>-73.026043</td>\n",
       "      <td>Hilton Garden Inn Milford</td>\n",
       "      <td>291 Old Gate Lane, Milford</td>\n",
       "      <td>accounting</td>\n",
       "      <td>finance</td>\n",
       "      <td>local_government_office</td>\n",
       "      <td>point_of_interest</td>\n",
       "      <td>establishment</td>\n",
       "      <td>NaN</td>\n",
       "      <td>4.0</td>\n",
       "      <td>813</td>\n",
       "      <td>0</td>\n",
       "    </tr>\n",
       "    <tr>\n",
       "      <th>2</th>\n",
       "      <td>41.231155</td>\n",
       "      <td>-73.029880</td>\n",
       "      <td>Hyatt Place Milford / New Haven</td>\n",
       "      <td>190 Old Gate Lane, Milford</td>\n",
       "      <td>accounting</td>\n",
       "      <td>local_government_office</td>\n",
       "      <td>finance</td>\n",
       "      <td>point_of_interest</td>\n",
       "      <td>establishment</td>\n",
       "      <td>NaN</td>\n",
       "      <td>4.0</td>\n",
       "      <td>664</td>\n",
       "      <td>0</td>\n",
       "    </tr>\n",
       "    <tr>\n",
       "      <th>3</th>\n",
       "      <td>41.255831</td>\n",
       "      <td>-73.001768</td>\n",
       "      <td>Courtyard by Marriott New Haven Orange/Milford</td>\n",
       "      <td>136 Marsh Hill Road, Orange</td>\n",
       "      <td>accounting</td>\n",
       "      <td>finance</td>\n",
       "      <td>point_of_interest</td>\n",
       "      <td>establishment</td>\n",
       "      <td>NaN</td>\n",
       "      <td>NaN</td>\n",
       "      <td>4.0</td>\n",
       "      <td>499</td>\n",
       "      <td>0</td>\n",
       "    </tr>\n",
       "    <tr>\n",
       "      <th>4</th>\n",
       "      <td>41.223208</td>\n",
       "      <td>-73.077087</td>\n",
       "      <td>Hampton Inn Milford</td>\n",
       "      <td>129 Plains Road, Milford</td>\n",
       "      <td>accounting</td>\n",
       "      <td>finance</td>\n",
       "      <td>point_of_interest</td>\n",
       "      <td>establishment</td>\n",
       "      <td>NaN</td>\n",
       "      <td>NaN</td>\n",
       "      <td>3.8</td>\n",
       "      <td>824</td>\n",
       "      <td>0</td>\n",
       "    </tr>\n",
       "  </tbody>\n",
       "</table>\n",
       "</div>"
      ],
      "text/plain": [
       "         lat        lng                                            name  \\\n",
       "0  41.270548 -72.946971                                      West Haven   \n",
       "1  41.233086 -73.026043                       Hilton Garden Inn Milford   \n",
       "2  41.231155 -73.029880                 Hyatt Place Milford / New Haven   \n",
       "3  41.255831 -73.001768  Courtyard by Marriott New Haven Orange/Milford   \n",
       "4  41.223208 -73.077087                             Hampton Inn Milford   \n",
       "\n",
       "                      vicinity       Type1                    Type2  \\\n",
       "0                   West Haven  accounting                  finance   \n",
       "1   291 Old Gate Lane, Milford  accounting                  finance   \n",
       "2   190 Old Gate Lane, Milford  accounting  local_government_office   \n",
       "3  136 Marsh Hill Road, Orange  accounting                  finance   \n",
       "4     129 Plains Road, Milford  accounting                  finance   \n",
       "\n",
       "                     Type3              Type4          Type5 Type6  rating  \\\n",
       "0        point_of_interest      establishment            NaN   NaN     0.0   \n",
       "1  local_government_office  point_of_interest  establishment   NaN     4.0   \n",
       "2                  finance  point_of_interest  establishment   NaN     4.0   \n",
       "3        point_of_interest      establishment            NaN   NaN     4.0   \n",
       "4        point_of_interest      establishment            NaN   NaN     3.8   \n",
       "\n",
       "   user_ratings_total  price_level  \n",
       "0                   0            0  \n",
       "1                 813            0  \n",
       "2                 664            0  \n",
       "3                 499            0  \n",
       "4                 824            0  "
      ]
     },
     "execution_count": 35,
     "metadata": {},
     "output_type": "execute_result"
    }
   ],
   "source": [
    "data.head()"
   ]
  },
  {
   "cell_type": "code",
   "execution_count": 36,
   "id": "5b2f9ca6",
   "metadata": {},
   "outputs": [
    {
     "data": {
      "text/plain": [
       "(2280, 13)"
      ]
     },
     "execution_count": 36,
     "metadata": {},
     "output_type": "execute_result"
    }
   ],
   "source": [
    "data.shape"
   ]
  },
  {
   "cell_type": "code",
   "execution_count": 37,
   "id": "7a53474b",
   "metadata": {},
   "outputs": [
    {
     "data": {
      "text/plain": [
       "['lat',\n",
       " 'lng',\n",
       " 'name',\n",
       " 'vicinity',\n",
       " 'Type1',\n",
       " 'Type2',\n",
       " 'Type3',\n",
       " 'Type4',\n",
       " 'Type5',\n",
       " 'Type6',\n",
       " 'rating',\n",
       " 'user_ratings_total',\n",
       " 'price_level']"
      ]
     },
     "execution_count": 37,
     "metadata": {},
     "output_type": "execute_result"
    }
   ],
   "source": [
    "#show list of columns \n",
    "list(data.columns)"
   ]
  },
  {
   "cell_type": "code",
   "execution_count": 38,
   "id": "721239f5",
   "metadata": {},
   "outputs": [
    {
     "data": {
      "text/html": [
       "<div>\n",
       "<style scoped>\n",
       "    .dataframe tbody tr th:only-of-type {\n",
       "        vertical-align: middle;\n",
       "    }\n",
       "\n",
       "    .dataframe tbody tr th {\n",
       "        vertical-align: top;\n",
       "    }\n",
       "\n",
       "    .dataframe thead th {\n",
       "        text-align: right;\n",
       "    }\n",
       "</style>\n",
       "<table border=\"1\" class=\"dataframe\">\n",
       "  <thead>\n",
       "    <tr style=\"text-align: right;\">\n",
       "      <th></th>\n",
       "      <th>lat</th>\n",
       "      <th>lng</th>\n",
       "      <th>rating</th>\n",
       "      <th>user_ratings_total</th>\n",
       "      <th>price_level</th>\n",
       "    </tr>\n",
       "  </thead>\n",
       "  <tbody>\n",
       "    <tr>\n",
       "      <th>count</th>\n",
       "      <td>2280.000000</td>\n",
       "      <td>2280.000000</td>\n",
       "      <td>2280.000000</td>\n",
       "      <td>2280.000000</td>\n",
       "      <td>2280.000000</td>\n",
       "    </tr>\n",
       "    <tr>\n",
       "      <th>mean</th>\n",
       "      <td>41.435773</td>\n",
       "      <td>-72.783370</td>\n",
       "      <td>2.746272</td>\n",
       "      <td>344.301316</td>\n",
       "      <td>0.305263</td>\n",
       "    </tr>\n",
       "    <tr>\n",
       "      <th>std</th>\n",
       "      <td>0.217592</td>\n",
       "      <td>0.353734</td>\n",
       "      <td>2.029706</td>\n",
       "      <td>918.820560</td>\n",
       "      <td>0.741054</td>\n",
       "    </tr>\n",
       "    <tr>\n",
       "      <th>min</th>\n",
       "      <td>41.053430</td>\n",
       "      <td>-73.557534</td>\n",
       "      <td>0.000000</td>\n",
       "      <td>0.000000</td>\n",
       "      <td>0.000000</td>\n",
       "    </tr>\n",
       "    <tr>\n",
       "      <th>25%</th>\n",
       "      <td>41.284400</td>\n",
       "      <td>-72.957610</td>\n",
       "      <td>0.000000</td>\n",
       "      <td>0.000000</td>\n",
       "      <td>0.000000</td>\n",
       "    </tr>\n",
       "    <tr>\n",
       "      <th>50%</th>\n",
       "      <td>41.316789</td>\n",
       "      <td>-72.924454</td>\n",
       "      <td>3.800000</td>\n",
       "      <td>13.000000</td>\n",
       "      <td>0.000000</td>\n",
       "    </tr>\n",
       "    <tr>\n",
       "      <th>75%</th>\n",
       "      <td>41.659346</td>\n",
       "      <td>-72.662967</td>\n",
       "      <td>4.500000</td>\n",
       "      <td>242.000000</td>\n",
       "      <td>0.000000</td>\n",
       "    </tr>\n",
       "    <tr>\n",
       "      <th>max</th>\n",
       "      <td>41.868338</td>\n",
       "      <td>-71.833415</td>\n",
       "      <td>5.000000</td>\n",
       "      <td>13335.000000</td>\n",
       "      <td>4.000000</td>\n",
       "    </tr>\n",
       "  </tbody>\n",
       "</table>\n",
       "</div>"
      ],
      "text/plain": [
       "               lat          lng       rating  user_ratings_total  price_level\n",
       "count  2280.000000  2280.000000  2280.000000         2280.000000  2280.000000\n",
       "mean     41.435773   -72.783370     2.746272          344.301316     0.305263\n",
       "std       0.217592     0.353734     2.029706          918.820560     0.741054\n",
       "min      41.053430   -73.557534     0.000000            0.000000     0.000000\n",
       "25%      41.284400   -72.957610     0.000000            0.000000     0.000000\n",
       "50%      41.316789   -72.924454     3.800000           13.000000     0.000000\n",
       "75%      41.659346   -72.662967     4.500000          242.000000     0.000000\n",
       "max      41.868338   -71.833415     5.000000        13335.000000     4.000000"
      ]
     },
     "execution_count": 38,
     "metadata": {},
     "output_type": "execute_result"
    }
   ],
   "source": [
    "# show data properties\n",
    "data.describe()"
   ]
  },
  {
   "cell_type": "code",
   "execution_count": 39,
   "id": "d6a26fd4",
   "metadata": {},
   "outputs": [
    {
     "name": "stdout",
     "output_type": "stream",
     "text": [
      "<class 'pandas.core.frame.DataFrame'>\n",
      "RangeIndex: 2280 entries, 0 to 2279\n",
      "Data columns (total 13 columns):\n",
      " #   Column              Non-Null Count  Dtype  \n",
      "---  ------              --------------  -----  \n",
      " 0   lat                 2280 non-null   float64\n",
      " 1   lng                 2280 non-null   float64\n",
      " 2   name                2280 non-null   object \n",
      " 3   vicinity            2280 non-null   object \n",
      " 4   Type1               2280 non-null   object \n",
      " 5   Type2               2279 non-null   object \n",
      " 6   Type3               1998 non-null   object \n",
      " 7   Type4               1392 non-null   object \n",
      " 8   Type5               401 non-null    object \n",
      " 9   Type6               163 non-null    object \n",
      " 10  rating              2280 non-null   float64\n",
      " 11  user_ratings_total  2280 non-null   int64  \n",
      " 12  price_level         2280 non-null   int64  \n",
      "dtypes: float64(3), int64(2), object(8)\n",
      "memory usage: 231.7+ KB\n"
     ]
    }
   ],
   "source": [
    "# show data information \n",
    "data.info()"
   ]
  },
  {
   "cell_type": "code",
   "execution_count": 40,
   "id": "661a2ff0",
   "metadata": {},
   "outputs": [
    {
     "data": {
      "text/plain": [
       "lat                      0\n",
       "lng                      0\n",
       "name                     0\n",
       "vicinity                 0\n",
       "Type1                    0\n",
       "Type2                    1\n",
       "Type3                  282\n",
       "Type4                  888\n",
       "Type5                 1879\n",
       "Type6                 2117\n",
       "rating                   0\n",
       "user_ratings_total       0\n",
       "price_level              0\n",
       "dtype: int64"
      ]
     },
     "execution_count": 40,
     "metadata": {},
     "output_type": "execute_result"
    }
   ],
   "source": [
    "# check if it has missing values \n",
    "data.isnull().sum() "
   ]
  },
  {
   "cell_type": "code",
   "execution_count": 41,
   "id": "f4090985",
   "metadata": {},
   "outputs": [],
   "source": [
    "\n",
    "X = data[['rating', 'user_ratings_total', ]]\n",
    "y = data['price_level']"
   ]
  },
  {
   "cell_type": "code",
   "execution_count": 42,
   "id": "c37d447c",
   "metadata": {},
   "outputs": [],
   "source": [
    "# standardize the feature variables \n",
    "scaler = StandardScaler()\n",
    "X_scaled = scaler.fit_transform(X)"
   ]
  },
  {
   "cell_type": "code",
   "execution_count": 44,
   "id": "3d67dfcb",
   "metadata": {},
   "outputs": [],
   "source": [
    "# define the search space and the objecive function\n",
    "\n",
    "\n",
    "def objective(trial):\n",
    "    # Define the search space\n",
    "    criterions = trial.suggest_categorical('criterion', ['gini', 'entropy'])\n",
    "    max_depths = trial.suggest_int('max_depth', 1, 9, 1)\n",
    "    n_estimators = trial.suggest_int('n_estimators', 100, 1000, 100)\n",
    "\n",
    "    clf = RandomForestClassifier(n_estimators=n_estimators,\n",
    "                                 criterion=criterions,\n",
    "                                 max_depth=max_depths,\n",
    "                                 n_jobs=-1)\n",
    "    score = cross_val_score(clf, X_scaled, y, scoring=\"accuracy\").mean()\n",
    "\n",
    "    return score"
   ]
  },
  {
   "cell_type": "code",
   "execution_count": 45,
   "id": "a44ae003",
   "metadata": {},
   "outputs": [
    {
     "name": "stderr",
     "output_type": "stream",
     "text": [
      "\u001b[32m[I 2023-04-12 11:24:20,837]\u001b[0m A new study created in memory with name: randomForest_optimization\u001b[0m\n",
      "\u001b[32m[I 2023-04-12 11:24:28,152]\u001b[0m Trial 0 finished with value: 0.8368421052631578 and parameters: {'criterion': 'entropy', 'max_depth': 2, 'n_estimators': 500}. Best is trial 0 with value: 0.8368421052631578.\u001b[0m\n",
      "\u001b[32m[I 2023-04-12 11:24:35,831]\u001b[0m Trial 1 finished with value: 0.9035087719298247 and parameters: {'criterion': 'gini', 'max_depth': 9, 'n_estimators': 800}. Best is trial 1 with value: 0.9035087719298247.\u001b[0m\n",
      "\u001b[32m[I 2023-04-12 11:24:40,610]\u001b[0m Trial 2 finished with value: 0.887280701754386 and parameters: {'criterion': 'gini', 'max_depth': 7, 'n_estimators': 500}. Best is trial 1 with value: 0.9035087719298247.\u001b[0m\n",
      "\u001b[32m[I 2023-04-12 11:24:44,990]\u001b[0m Trial 3 finished with value: 0.8732456140350878 and parameters: {'criterion': 'entropy', 'max_depth': 5, 'n_estimators': 400}. Best is trial 1 with value: 0.9035087719298247.\u001b[0m\n",
      "\u001b[32m[I 2023-04-12 11:24:52,690]\u001b[0m Trial 4 finished with value: 0.8864035087719297 and parameters: {'criterion': 'entropy', 'max_depth': 7, 'n_estimators': 700}. Best is trial 1 with value: 0.9035087719298247.\u001b[0m\n",
      "\u001b[32m[I 2023-04-12 11:25:02,615]\u001b[0m Trial 5 finished with value: 0.8662280701754387 and parameters: {'criterion': 'entropy', 'max_depth': 4, 'n_estimators': 1000}. Best is trial 1 with value: 0.9035087719298247.\u001b[0m\n",
      "\u001b[32m[I 2023-04-12 11:25:07,267]\u001b[0m Trial 6 finished with value: 0.9021929824561404 and parameters: {'criterion': 'gini', 'max_depth': 9, 'n_estimators': 400}. Best is trial 1 with value: 0.9035087719298247.\u001b[0m\n",
      "\u001b[32m[I 2023-04-12 11:25:17,900]\u001b[0m Trial 7 finished with value: 0.8942982456140349 and parameters: {'criterion': 'gini', 'max_depth': 8, 'n_estimators': 900}. Best is trial 1 with value: 0.9035087719298247.\u001b[0m\n",
      "\u001b[32m[I 2023-04-12 11:25:20,386]\u001b[0m Trial 8 finished with value: 0.8697368421052631 and parameters: {'criterion': 'gini', 'max_depth': 4, 'n_estimators': 200}. Best is trial 1 with value: 0.9035087719298247.\u001b[0m\n",
      "\u001b[32m[I 2023-04-12 11:25:28,529]\u001b[0m Trial 9 finished with value: 0.8368421052631578 and parameters: {'criterion': 'gini', 'max_depth': 2, 'n_estimators': 800}. Best is trial 1 with value: 0.9035087719298247.\u001b[0m\n"
     ]
    }
   ],
   "source": [
    "# create a study object and pass the objective function to method optimize()\n",
    "\n",
    "study = optuna.create_study(study_name=\"randomForest_optimization\",\n",
    "                            direction=\"maximize\",\n",
    "                            sampler=TPESampler())\n",
    "\n",
    "study.optimize(objective, n_trials=10)"
   ]
  },
  {
   "cell_type": "code",
   "execution_count": 46,
   "id": "35ffbb7a",
   "metadata": {},
   "outputs": [
    {
     "name": "stdout",
     "output_type": "stream",
     "text": [
      "{'criterion': 'gini', 'max_depth': 9, 'n_estimators': 800}\n"
     ]
    }
   ],
   "source": [
    "# print best parameters \n",
    "print(study.best_params)"
   ]
  },
  {
   "cell_type": "code",
   "execution_count": 47,
   "id": "a28cac2a",
   "metadata": {},
   "outputs": [
    {
     "name": "stdout",
     "output_type": "stream",
     "text": [
      "0.9035087719298247\n"
     ]
    }
   ],
   "source": [
    "# print best score \n",
    "print(study.best_value)"
   ]
  },
  {
   "cell_type": "code",
   "execution_count": 48,
   "id": "77fcc005",
   "metadata": {},
   "outputs": [
    {
     "data": {
      "application/vnd.plotly.v1+json": {
       "config": {
        "plotlyServerURL": "https://plot.ly"
       },
       "data": [
        {
         "dimensions": [
          {
           "label": "Objective Value",
           "range": [
            0.8368421052631578,
            0.9035087719298247
           ],
           "values": [
            0.8368421052631578,
            0.9035087719298247,
            0.887280701754386,
            0.8732456140350878,
            0.8864035087719297,
            0.8662280701754387,
            0.9021929824561404,
            0.8942982456140349,
            0.8697368421052631,
            0.8368421052631578
           ]
          },
          {
           "label": "criterion",
           "range": [
            0,
            1
           ],
           "ticktext": [
            "entropy",
            "gini"
           ],
           "tickvals": [
            0,
            1
           ],
           "values": [
            0,
            1,
            1,
            0,
            0,
            0,
            1,
            1,
            1,
            1
           ]
          },
          {
           "label": "max_depth",
           "range": [
            2,
            9
           ],
           "values": [
            2,
            9,
            7,
            5,
            7,
            4,
            9,
            8,
            4,
            2
           ]
          },
          {
           "label": "n_estimators",
           "range": [
            200,
            1000
           ],
           "values": [
            500,
            800,
            500,
            400,
            700,
            1000,
            400,
            900,
            200,
            800
           ]
          }
         ],
         "labelangle": 30,
         "labelside": "bottom",
         "line": {
          "color": [
           0.8368421052631578,
           0.9035087719298247,
           0.887280701754386,
           0.8732456140350878,
           0.8864035087719297,
           0.8662280701754387,
           0.9021929824561404,
           0.8942982456140349,
           0.8697368421052631,
           0.8368421052631578
          ],
          "colorbar": {
           "title": {
            "text": "Objective Value"
           }
          },
          "colorscale": [
           [
            0,
            "rgb(247,251,255)"
           ],
           [
            0.125,
            "rgb(222,235,247)"
           ],
           [
            0.25,
            "rgb(198,219,239)"
           ],
           [
            0.375,
            "rgb(158,202,225)"
           ],
           [
            0.5,
            "rgb(107,174,214)"
           ],
           [
            0.625,
            "rgb(66,146,198)"
           ],
           [
            0.75,
            "rgb(33,113,181)"
           ],
           [
            0.875,
            "rgb(8,81,156)"
           ],
           [
            1,
            "rgb(8,48,107)"
           ]
          ],
          "reversescale": false,
          "showscale": true
         },
         "type": "parcoords"
        }
       ],
       "layout": {
        "template": {
         "data": {
          "bar": [
           {
            "error_x": {
             "color": "#2a3f5f"
            },
            "error_y": {
             "color": "#2a3f5f"
            },
            "marker": {
             "line": {
              "color": "#E5ECF6",
              "width": 0.5
             },
             "pattern": {
              "fillmode": "overlay",
              "size": 10,
              "solidity": 0.2
             }
            },
            "type": "bar"
           }
          ],
          "barpolar": [
           {
            "marker": {
             "line": {
              "color": "#E5ECF6",
              "width": 0.5
             },
             "pattern": {
              "fillmode": "overlay",
              "size": 10,
              "solidity": 0.2
             }
            },
            "type": "barpolar"
           }
          ],
          "carpet": [
           {
            "aaxis": {
             "endlinecolor": "#2a3f5f",
             "gridcolor": "white",
             "linecolor": "white",
             "minorgridcolor": "white",
             "startlinecolor": "#2a3f5f"
            },
            "baxis": {
             "endlinecolor": "#2a3f5f",
             "gridcolor": "white",
             "linecolor": "white",
             "minorgridcolor": "white",
             "startlinecolor": "#2a3f5f"
            },
            "type": "carpet"
           }
          ],
          "choropleth": [
           {
            "colorbar": {
             "outlinewidth": 0,
             "ticks": ""
            },
            "type": "choropleth"
           }
          ],
          "contour": [
           {
            "colorbar": {
             "outlinewidth": 0,
             "ticks": ""
            },
            "colorscale": [
             [
              0,
              "#0d0887"
             ],
             [
              0.1111111111111111,
              "#46039f"
             ],
             [
              0.2222222222222222,
              "#7201a8"
             ],
             [
              0.3333333333333333,
              "#9c179e"
             ],
             [
              0.4444444444444444,
              "#bd3786"
             ],
             [
              0.5555555555555556,
              "#d8576b"
             ],
             [
              0.6666666666666666,
              "#ed7953"
             ],
             [
              0.7777777777777778,
              "#fb9f3a"
             ],
             [
              0.8888888888888888,
              "#fdca26"
             ],
             [
              1,
              "#f0f921"
             ]
            ],
            "type": "contour"
           }
          ],
          "contourcarpet": [
           {
            "colorbar": {
             "outlinewidth": 0,
             "ticks": ""
            },
            "type": "contourcarpet"
           }
          ],
          "heatmap": [
           {
            "colorbar": {
             "outlinewidth": 0,
             "ticks": ""
            },
            "colorscale": [
             [
              0,
              "#0d0887"
             ],
             [
              0.1111111111111111,
              "#46039f"
             ],
             [
              0.2222222222222222,
              "#7201a8"
             ],
             [
              0.3333333333333333,
              "#9c179e"
             ],
             [
              0.4444444444444444,
              "#bd3786"
             ],
             [
              0.5555555555555556,
              "#d8576b"
             ],
             [
              0.6666666666666666,
              "#ed7953"
             ],
             [
              0.7777777777777778,
              "#fb9f3a"
             ],
             [
              0.8888888888888888,
              "#fdca26"
             ],
             [
              1,
              "#f0f921"
             ]
            ],
            "type": "heatmap"
           }
          ],
          "heatmapgl": [
           {
            "colorbar": {
             "outlinewidth": 0,
             "ticks": ""
            },
            "colorscale": [
             [
              0,
              "#0d0887"
             ],
             [
              0.1111111111111111,
              "#46039f"
             ],
             [
              0.2222222222222222,
              "#7201a8"
             ],
             [
              0.3333333333333333,
              "#9c179e"
             ],
             [
              0.4444444444444444,
              "#bd3786"
             ],
             [
              0.5555555555555556,
              "#d8576b"
             ],
             [
              0.6666666666666666,
              "#ed7953"
             ],
             [
              0.7777777777777778,
              "#fb9f3a"
             ],
             [
              0.8888888888888888,
              "#fdca26"
             ],
             [
              1,
              "#f0f921"
             ]
            ],
            "type": "heatmapgl"
           }
          ],
          "histogram": [
           {
            "marker": {
             "pattern": {
              "fillmode": "overlay",
              "size": 10,
              "solidity": 0.2
             }
            },
            "type": "histogram"
           }
          ],
          "histogram2d": [
           {
            "colorbar": {
             "outlinewidth": 0,
             "ticks": ""
            },
            "colorscale": [
             [
              0,
              "#0d0887"
             ],
             [
              0.1111111111111111,
              "#46039f"
             ],
             [
              0.2222222222222222,
              "#7201a8"
             ],
             [
              0.3333333333333333,
              "#9c179e"
             ],
             [
              0.4444444444444444,
              "#bd3786"
             ],
             [
              0.5555555555555556,
              "#d8576b"
             ],
             [
              0.6666666666666666,
              "#ed7953"
             ],
             [
              0.7777777777777778,
              "#fb9f3a"
             ],
             [
              0.8888888888888888,
              "#fdca26"
             ],
             [
              1,
              "#f0f921"
             ]
            ],
            "type": "histogram2d"
           }
          ],
          "histogram2dcontour": [
           {
            "colorbar": {
             "outlinewidth": 0,
             "ticks": ""
            },
            "colorscale": [
             [
              0,
              "#0d0887"
             ],
             [
              0.1111111111111111,
              "#46039f"
             ],
             [
              0.2222222222222222,
              "#7201a8"
             ],
             [
              0.3333333333333333,
              "#9c179e"
             ],
             [
              0.4444444444444444,
              "#bd3786"
             ],
             [
              0.5555555555555556,
              "#d8576b"
             ],
             [
              0.6666666666666666,
              "#ed7953"
             ],
             [
              0.7777777777777778,
              "#fb9f3a"
             ],
             [
              0.8888888888888888,
              "#fdca26"
             ],
             [
              1,
              "#f0f921"
             ]
            ],
            "type": "histogram2dcontour"
           }
          ],
          "mesh3d": [
           {
            "colorbar": {
             "outlinewidth": 0,
             "ticks": ""
            },
            "type": "mesh3d"
           }
          ],
          "parcoords": [
           {
            "line": {
             "colorbar": {
              "outlinewidth": 0,
              "ticks": ""
             }
            },
            "type": "parcoords"
           }
          ],
          "pie": [
           {
            "automargin": true,
            "type": "pie"
           }
          ],
          "scatter": [
           {
            "fillpattern": {
             "fillmode": "overlay",
             "size": 10,
             "solidity": 0.2
            },
            "type": "scatter"
           }
          ],
          "scatter3d": [
           {
            "line": {
             "colorbar": {
              "outlinewidth": 0,
              "ticks": ""
             }
            },
            "marker": {
             "colorbar": {
              "outlinewidth": 0,
              "ticks": ""
             }
            },
            "type": "scatter3d"
           }
          ],
          "scattercarpet": [
           {
            "marker": {
             "colorbar": {
              "outlinewidth": 0,
              "ticks": ""
             }
            },
            "type": "scattercarpet"
           }
          ],
          "scattergeo": [
           {
            "marker": {
             "colorbar": {
              "outlinewidth": 0,
              "ticks": ""
             }
            },
            "type": "scattergeo"
           }
          ],
          "scattergl": [
           {
            "marker": {
             "colorbar": {
              "outlinewidth": 0,
              "ticks": ""
             }
            },
            "type": "scattergl"
           }
          ],
          "scattermapbox": [
           {
            "marker": {
             "colorbar": {
              "outlinewidth": 0,
              "ticks": ""
             }
            },
            "type": "scattermapbox"
           }
          ],
          "scatterpolar": [
           {
            "marker": {
             "colorbar": {
              "outlinewidth": 0,
              "ticks": ""
             }
            },
            "type": "scatterpolar"
           }
          ],
          "scatterpolargl": [
           {
            "marker": {
             "colorbar": {
              "outlinewidth": 0,
              "ticks": ""
             }
            },
            "type": "scatterpolargl"
           }
          ],
          "scatterternary": [
           {
            "marker": {
             "colorbar": {
              "outlinewidth": 0,
              "ticks": ""
             }
            },
            "type": "scatterternary"
           }
          ],
          "surface": [
           {
            "colorbar": {
             "outlinewidth": 0,
             "ticks": ""
            },
            "colorscale": [
             [
              0,
              "#0d0887"
             ],
             [
              0.1111111111111111,
              "#46039f"
             ],
             [
              0.2222222222222222,
              "#7201a8"
             ],
             [
              0.3333333333333333,
              "#9c179e"
             ],
             [
              0.4444444444444444,
              "#bd3786"
             ],
             [
              0.5555555555555556,
              "#d8576b"
             ],
             [
              0.6666666666666666,
              "#ed7953"
             ],
             [
              0.7777777777777778,
              "#fb9f3a"
             ],
             [
              0.8888888888888888,
              "#fdca26"
             ],
             [
              1,
              "#f0f921"
             ]
            ],
            "type": "surface"
           }
          ],
          "table": [
           {
            "cells": {
             "fill": {
              "color": "#EBF0F8"
             },
             "line": {
              "color": "white"
             }
            },
            "header": {
             "fill": {
              "color": "#C8D4E3"
             },
             "line": {
              "color": "white"
             }
            },
            "type": "table"
           }
          ]
         },
         "layout": {
          "annotationdefaults": {
           "arrowcolor": "#2a3f5f",
           "arrowhead": 0,
           "arrowwidth": 1
          },
          "autotypenumbers": "strict",
          "coloraxis": {
           "colorbar": {
            "outlinewidth": 0,
            "ticks": ""
           }
          },
          "colorscale": {
           "diverging": [
            [
             0,
             "#8e0152"
            ],
            [
             0.1,
             "#c51b7d"
            ],
            [
             0.2,
             "#de77ae"
            ],
            [
             0.3,
             "#f1b6da"
            ],
            [
             0.4,
             "#fde0ef"
            ],
            [
             0.5,
             "#f7f7f7"
            ],
            [
             0.6,
             "#e6f5d0"
            ],
            [
             0.7,
             "#b8e186"
            ],
            [
             0.8,
             "#7fbc41"
            ],
            [
             0.9,
             "#4d9221"
            ],
            [
             1,
             "#276419"
            ]
           ],
           "sequential": [
            [
             0,
             "#0d0887"
            ],
            [
             0.1111111111111111,
             "#46039f"
            ],
            [
             0.2222222222222222,
             "#7201a8"
            ],
            [
             0.3333333333333333,
             "#9c179e"
            ],
            [
             0.4444444444444444,
             "#bd3786"
            ],
            [
             0.5555555555555556,
             "#d8576b"
            ],
            [
             0.6666666666666666,
             "#ed7953"
            ],
            [
             0.7777777777777778,
             "#fb9f3a"
            ],
            [
             0.8888888888888888,
             "#fdca26"
            ],
            [
             1,
             "#f0f921"
            ]
           ],
           "sequentialminus": [
            [
             0,
             "#0d0887"
            ],
            [
             0.1111111111111111,
             "#46039f"
            ],
            [
             0.2222222222222222,
             "#7201a8"
            ],
            [
             0.3333333333333333,
             "#9c179e"
            ],
            [
             0.4444444444444444,
             "#bd3786"
            ],
            [
             0.5555555555555556,
             "#d8576b"
            ],
            [
             0.6666666666666666,
             "#ed7953"
            ],
            [
             0.7777777777777778,
             "#fb9f3a"
            ],
            [
             0.8888888888888888,
             "#fdca26"
            ],
            [
             1,
             "#f0f921"
            ]
           ]
          },
          "colorway": [
           "#636efa",
           "#EF553B",
           "#00cc96",
           "#ab63fa",
           "#FFA15A",
           "#19d3f3",
           "#FF6692",
           "#B6E880",
           "#FF97FF",
           "#FECB52"
          ],
          "font": {
           "color": "#2a3f5f"
          },
          "geo": {
           "bgcolor": "white",
           "lakecolor": "white",
           "landcolor": "#E5ECF6",
           "showlakes": true,
           "showland": true,
           "subunitcolor": "white"
          },
          "hoverlabel": {
           "align": "left"
          },
          "hovermode": "closest",
          "mapbox": {
           "style": "light"
          },
          "paper_bgcolor": "white",
          "plot_bgcolor": "#E5ECF6",
          "polar": {
           "angularaxis": {
            "gridcolor": "white",
            "linecolor": "white",
            "ticks": ""
           },
           "bgcolor": "#E5ECF6",
           "radialaxis": {
            "gridcolor": "white",
            "linecolor": "white",
            "ticks": ""
           }
          },
          "scene": {
           "xaxis": {
            "backgroundcolor": "#E5ECF6",
            "gridcolor": "white",
            "gridwidth": 2,
            "linecolor": "white",
            "showbackground": true,
            "ticks": "",
            "zerolinecolor": "white"
           },
           "yaxis": {
            "backgroundcolor": "#E5ECF6",
            "gridcolor": "white",
            "gridwidth": 2,
            "linecolor": "white",
            "showbackground": true,
            "ticks": "",
            "zerolinecolor": "white"
           },
           "zaxis": {
            "backgroundcolor": "#E5ECF6",
            "gridcolor": "white",
            "gridwidth": 2,
            "linecolor": "white",
            "showbackground": true,
            "ticks": "",
            "zerolinecolor": "white"
           }
          },
          "shapedefaults": {
           "line": {
            "color": "#2a3f5f"
           }
          },
          "ternary": {
           "aaxis": {
            "gridcolor": "white",
            "linecolor": "white",
            "ticks": ""
           },
           "baxis": {
            "gridcolor": "white",
            "linecolor": "white",
            "ticks": ""
           },
           "bgcolor": "#E5ECF6",
           "caxis": {
            "gridcolor": "white",
            "linecolor": "white",
            "ticks": ""
           }
          },
          "title": {
           "x": 0.05
          },
          "xaxis": {
           "automargin": true,
           "gridcolor": "white",
           "linecolor": "white",
           "ticks": "",
           "title": {
            "standoff": 15
           },
           "zerolinecolor": "white",
           "zerolinewidth": 2
          },
          "yaxis": {
           "automargin": true,
           "gridcolor": "white",
           "linecolor": "white",
           "ticks": "",
           "title": {
            "standoff": 15
           },
           "zerolinecolor": "white",
           "zerolinewidth": 2
          }
         }
        },
        "title": {
         "text": "Parallel Coordinate Plot"
        }
       }
      },
      "text/html": [
       "<div>                            <div id=\"e837c36a-7b10-4d67-86f0-aa850e75bf0a\" class=\"plotly-graph-div\" style=\"height:525px; width:100%;\"></div>            <script type=\"text/javascript\">                require([\"plotly\"], function(Plotly) {                    window.PLOTLYENV=window.PLOTLYENV || {};                                    if (document.getElementById(\"e837c36a-7b10-4d67-86f0-aa850e75bf0a\")) {                    Plotly.newPlot(                        \"e837c36a-7b10-4d67-86f0-aa850e75bf0a\",                        [{\"dimensions\":[{\"label\":\"Objective Value\",\"range\":[0.8368421052631578,0.9035087719298247],\"values\":[0.8368421052631578,0.9035087719298247,0.887280701754386,0.8732456140350878,0.8864035087719297,0.8662280701754387,0.9021929824561404,0.8942982456140349,0.8697368421052631,0.8368421052631578]},{\"label\":\"criterion\",\"range\":[0,1],\"ticktext\":[\"entropy\",\"gini\"],\"tickvals\":[0,1],\"values\":[0,1,1,0,0,0,1,1,1,1]},{\"label\":\"max_depth\",\"range\":[2,9],\"values\":[2,9,7,5,7,4,9,8,4,2]},{\"label\":\"n_estimators\",\"range\":[200,1000],\"values\":[500,800,500,400,700,1000,400,900,200,800]}],\"labelangle\":30,\"labelside\":\"bottom\",\"line\":{\"color\":[0.8368421052631578,0.9035087719298247,0.887280701754386,0.8732456140350878,0.8864035087719297,0.8662280701754387,0.9021929824561404,0.8942982456140349,0.8697368421052631,0.8368421052631578],\"colorbar\":{\"title\":{\"text\":\"Objective Value\"}},\"colorscale\":[[0.0,\"rgb(247,251,255)\"],[0.125,\"rgb(222,235,247)\"],[0.25,\"rgb(198,219,239)\"],[0.375,\"rgb(158,202,225)\"],[0.5,\"rgb(107,174,214)\"],[0.625,\"rgb(66,146,198)\"],[0.75,\"rgb(33,113,181)\"],[0.875,\"rgb(8,81,156)\"],[1.0,\"rgb(8,48,107)\"]],\"reversescale\":false,\"showscale\":true},\"type\":\"parcoords\"}],                        {\"title\":{\"text\":\"Parallel Coordinate Plot\"},\"template\":{\"data\":{\"histogram2dcontour\":[{\"type\":\"histogram2dcontour\",\"colorbar\":{\"outlinewidth\":0,\"ticks\":\"\"},\"colorscale\":[[0.0,\"#0d0887\"],[0.1111111111111111,\"#46039f\"],[0.2222222222222222,\"#7201a8\"],[0.3333333333333333,\"#9c179e\"],[0.4444444444444444,\"#bd3786\"],[0.5555555555555556,\"#d8576b\"],[0.6666666666666666,\"#ed7953\"],[0.7777777777777778,\"#fb9f3a\"],[0.8888888888888888,\"#fdca26\"],[1.0,\"#f0f921\"]]}],\"choropleth\":[{\"type\":\"choropleth\",\"colorbar\":{\"outlinewidth\":0,\"ticks\":\"\"}}],\"histogram2d\":[{\"type\":\"histogram2d\",\"colorbar\":{\"outlinewidth\":0,\"ticks\":\"\"},\"colorscale\":[[0.0,\"#0d0887\"],[0.1111111111111111,\"#46039f\"],[0.2222222222222222,\"#7201a8\"],[0.3333333333333333,\"#9c179e\"],[0.4444444444444444,\"#bd3786\"],[0.5555555555555556,\"#d8576b\"],[0.6666666666666666,\"#ed7953\"],[0.7777777777777778,\"#fb9f3a\"],[0.8888888888888888,\"#fdca26\"],[1.0,\"#f0f921\"]]}],\"heatmap\":[{\"type\":\"heatmap\",\"colorbar\":{\"outlinewidth\":0,\"ticks\":\"\"},\"colorscale\":[[0.0,\"#0d0887\"],[0.1111111111111111,\"#46039f\"],[0.2222222222222222,\"#7201a8\"],[0.3333333333333333,\"#9c179e\"],[0.4444444444444444,\"#bd3786\"],[0.5555555555555556,\"#d8576b\"],[0.6666666666666666,\"#ed7953\"],[0.7777777777777778,\"#fb9f3a\"],[0.8888888888888888,\"#fdca26\"],[1.0,\"#f0f921\"]]}],\"heatmapgl\":[{\"type\":\"heatmapgl\",\"colorbar\":{\"outlinewidth\":0,\"ticks\":\"\"},\"colorscale\":[[0.0,\"#0d0887\"],[0.1111111111111111,\"#46039f\"],[0.2222222222222222,\"#7201a8\"],[0.3333333333333333,\"#9c179e\"],[0.4444444444444444,\"#bd3786\"],[0.5555555555555556,\"#d8576b\"],[0.6666666666666666,\"#ed7953\"],[0.7777777777777778,\"#fb9f3a\"],[0.8888888888888888,\"#fdca26\"],[1.0,\"#f0f921\"]]}],\"contourcarpet\":[{\"type\":\"contourcarpet\",\"colorbar\":{\"outlinewidth\":0,\"ticks\":\"\"}}],\"contour\":[{\"type\":\"contour\",\"colorbar\":{\"outlinewidth\":0,\"ticks\":\"\"},\"colorscale\":[[0.0,\"#0d0887\"],[0.1111111111111111,\"#46039f\"],[0.2222222222222222,\"#7201a8\"],[0.3333333333333333,\"#9c179e\"],[0.4444444444444444,\"#bd3786\"],[0.5555555555555556,\"#d8576b\"],[0.6666666666666666,\"#ed7953\"],[0.7777777777777778,\"#fb9f3a\"],[0.8888888888888888,\"#fdca26\"],[1.0,\"#f0f921\"]]}],\"surface\":[{\"type\":\"surface\",\"colorbar\":{\"outlinewidth\":0,\"ticks\":\"\"},\"colorscale\":[[0.0,\"#0d0887\"],[0.1111111111111111,\"#46039f\"],[0.2222222222222222,\"#7201a8\"],[0.3333333333333333,\"#9c179e\"],[0.4444444444444444,\"#bd3786\"],[0.5555555555555556,\"#d8576b\"],[0.6666666666666666,\"#ed7953\"],[0.7777777777777778,\"#fb9f3a\"],[0.8888888888888888,\"#fdca26\"],[1.0,\"#f0f921\"]]}],\"mesh3d\":[{\"type\":\"mesh3d\",\"colorbar\":{\"outlinewidth\":0,\"ticks\":\"\"}}],\"scatter\":[{\"fillpattern\":{\"fillmode\":\"overlay\",\"size\":10,\"solidity\":0.2},\"type\":\"scatter\"}],\"parcoords\":[{\"type\":\"parcoords\",\"line\":{\"colorbar\":{\"outlinewidth\":0,\"ticks\":\"\"}}}],\"scatterpolargl\":[{\"type\":\"scatterpolargl\",\"marker\":{\"colorbar\":{\"outlinewidth\":0,\"ticks\":\"\"}}}],\"bar\":[{\"error_x\":{\"color\":\"#2a3f5f\"},\"error_y\":{\"color\":\"#2a3f5f\"},\"marker\":{\"line\":{\"color\":\"#E5ECF6\",\"width\":0.5},\"pattern\":{\"fillmode\":\"overlay\",\"size\":10,\"solidity\":0.2}},\"type\":\"bar\"}],\"scattergeo\":[{\"type\":\"scattergeo\",\"marker\":{\"colorbar\":{\"outlinewidth\":0,\"ticks\":\"\"}}}],\"scatterpolar\":[{\"type\":\"scatterpolar\",\"marker\":{\"colorbar\":{\"outlinewidth\":0,\"ticks\":\"\"}}}],\"histogram\":[{\"marker\":{\"pattern\":{\"fillmode\":\"overlay\",\"size\":10,\"solidity\":0.2}},\"type\":\"histogram\"}],\"scattergl\":[{\"type\":\"scattergl\",\"marker\":{\"colorbar\":{\"outlinewidth\":0,\"ticks\":\"\"}}}],\"scatter3d\":[{\"type\":\"scatter3d\",\"line\":{\"colorbar\":{\"outlinewidth\":0,\"ticks\":\"\"}},\"marker\":{\"colorbar\":{\"outlinewidth\":0,\"ticks\":\"\"}}}],\"scattermapbox\":[{\"type\":\"scattermapbox\",\"marker\":{\"colorbar\":{\"outlinewidth\":0,\"ticks\":\"\"}}}],\"scatterternary\":[{\"type\":\"scatterternary\",\"marker\":{\"colorbar\":{\"outlinewidth\":0,\"ticks\":\"\"}}}],\"scattercarpet\":[{\"type\":\"scattercarpet\",\"marker\":{\"colorbar\":{\"outlinewidth\":0,\"ticks\":\"\"}}}],\"carpet\":[{\"aaxis\":{\"endlinecolor\":\"#2a3f5f\",\"gridcolor\":\"white\",\"linecolor\":\"white\",\"minorgridcolor\":\"white\",\"startlinecolor\":\"#2a3f5f\"},\"baxis\":{\"endlinecolor\":\"#2a3f5f\",\"gridcolor\":\"white\",\"linecolor\":\"white\",\"minorgridcolor\":\"white\",\"startlinecolor\":\"#2a3f5f\"},\"type\":\"carpet\"}],\"table\":[{\"cells\":{\"fill\":{\"color\":\"#EBF0F8\"},\"line\":{\"color\":\"white\"}},\"header\":{\"fill\":{\"color\":\"#C8D4E3\"},\"line\":{\"color\":\"white\"}},\"type\":\"table\"}],\"barpolar\":[{\"marker\":{\"line\":{\"color\":\"#E5ECF6\",\"width\":0.5},\"pattern\":{\"fillmode\":\"overlay\",\"size\":10,\"solidity\":0.2}},\"type\":\"barpolar\"}],\"pie\":[{\"automargin\":true,\"type\":\"pie\"}]},\"layout\":{\"autotypenumbers\":\"strict\",\"colorway\":[\"#636efa\",\"#EF553B\",\"#00cc96\",\"#ab63fa\",\"#FFA15A\",\"#19d3f3\",\"#FF6692\",\"#B6E880\",\"#FF97FF\",\"#FECB52\"],\"font\":{\"color\":\"#2a3f5f\"},\"hovermode\":\"closest\",\"hoverlabel\":{\"align\":\"left\"},\"paper_bgcolor\":\"white\",\"plot_bgcolor\":\"#E5ECF6\",\"polar\":{\"bgcolor\":\"#E5ECF6\",\"angularaxis\":{\"gridcolor\":\"white\",\"linecolor\":\"white\",\"ticks\":\"\"},\"radialaxis\":{\"gridcolor\":\"white\",\"linecolor\":\"white\",\"ticks\":\"\"}},\"ternary\":{\"bgcolor\":\"#E5ECF6\",\"aaxis\":{\"gridcolor\":\"white\",\"linecolor\":\"white\",\"ticks\":\"\"},\"baxis\":{\"gridcolor\":\"white\",\"linecolor\":\"white\",\"ticks\":\"\"},\"caxis\":{\"gridcolor\":\"white\",\"linecolor\":\"white\",\"ticks\":\"\"}},\"coloraxis\":{\"colorbar\":{\"outlinewidth\":0,\"ticks\":\"\"}},\"colorscale\":{\"sequential\":[[0.0,\"#0d0887\"],[0.1111111111111111,\"#46039f\"],[0.2222222222222222,\"#7201a8\"],[0.3333333333333333,\"#9c179e\"],[0.4444444444444444,\"#bd3786\"],[0.5555555555555556,\"#d8576b\"],[0.6666666666666666,\"#ed7953\"],[0.7777777777777778,\"#fb9f3a\"],[0.8888888888888888,\"#fdca26\"],[1.0,\"#f0f921\"]],\"sequentialminus\":[[0.0,\"#0d0887\"],[0.1111111111111111,\"#46039f\"],[0.2222222222222222,\"#7201a8\"],[0.3333333333333333,\"#9c179e\"],[0.4444444444444444,\"#bd3786\"],[0.5555555555555556,\"#d8576b\"],[0.6666666666666666,\"#ed7953\"],[0.7777777777777778,\"#fb9f3a\"],[0.8888888888888888,\"#fdca26\"],[1.0,\"#f0f921\"]],\"diverging\":[[0,\"#8e0152\"],[0.1,\"#c51b7d\"],[0.2,\"#de77ae\"],[0.3,\"#f1b6da\"],[0.4,\"#fde0ef\"],[0.5,\"#f7f7f7\"],[0.6,\"#e6f5d0\"],[0.7,\"#b8e186\"],[0.8,\"#7fbc41\"],[0.9,\"#4d9221\"],[1,\"#276419\"]]},\"xaxis\":{\"gridcolor\":\"white\",\"linecolor\":\"white\",\"ticks\":\"\",\"title\":{\"standoff\":15},\"zerolinecolor\":\"white\",\"automargin\":true,\"zerolinewidth\":2},\"yaxis\":{\"gridcolor\":\"white\",\"linecolor\":\"white\",\"ticks\":\"\",\"title\":{\"standoff\":15},\"zerolinecolor\":\"white\",\"automargin\":true,\"zerolinewidth\":2},\"scene\":{\"xaxis\":{\"backgroundcolor\":\"#E5ECF6\",\"gridcolor\":\"white\",\"linecolor\":\"white\",\"showbackground\":true,\"ticks\":\"\",\"zerolinecolor\":\"white\",\"gridwidth\":2},\"yaxis\":{\"backgroundcolor\":\"#E5ECF6\",\"gridcolor\":\"white\",\"linecolor\":\"white\",\"showbackground\":true,\"ticks\":\"\",\"zerolinecolor\":\"white\",\"gridwidth\":2},\"zaxis\":{\"backgroundcolor\":\"#E5ECF6\",\"gridcolor\":\"white\",\"linecolor\":\"white\",\"showbackground\":true,\"ticks\":\"\",\"zerolinecolor\":\"white\",\"gridwidth\":2}},\"shapedefaults\":{\"line\":{\"color\":\"#2a3f5f\"}},\"annotationdefaults\":{\"arrowcolor\":\"#2a3f5f\",\"arrowhead\":0,\"arrowwidth\":1},\"geo\":{\"bgcolor\":\"white\",\"landcolor\":\"#E5ECF6\",\"subunitcolor\":\"white\",\"showland\":true,\"showlakes\":true,\"lakecolor\":\"white\"},\"title\":{\"x\":0.05},\"mapbox\":{\"style\":\"light\"}}}},                        {\"responsive\": true}                    ).then(function(){\n",
       "                            \n",
       "var gd = document.getElementById('e837c36a-7b10-4d67-86f0-aa850e75bf0a');\n",
       "var x = new MutationObserver(function (mutations, observer) {{\n",
       "        var display = window.getComputedStyle(gd).display;\n",
       "        if (!display || display === 'none') {{\n",
       "            console.log([gd, 'removed!']);\n",
       "            Plotly.purge(gd);\n",
       "            observer.disconnect();\n",
       "        }}\n",
       "}});\n",
       "\n",
       "// Listen for the removal of the full notebook cells\n",
       "var notebookContainer = gd.closest('#notebook-container');\n",
       "if (notebookContainer) {{\n",
       "    x.observe(notebookContainer, {childList: true});\n",
       "}}\n",
       "\n",
       "// Listen for the clearing of the current output cell\n",
       "var outputEl = gd.closest('.output');\n",
       "if (outputEl) {{\n",
       "    x.observe(outputEl, {childList: true});\n",
       "}}\n",
       "\n",
       "                        })                };                });            </script>        </div>"
      ]
     },
     "metadata": {},
     "output_type": "display_data"
    }
   ],
   "source": [
    "# Plot the high-dimentional parameter relationships in a study.\n",
    "\n",
    "optuna.visualization.plot_parallel_coordinate(study, params=['criterion', 'max_depth','n_estimators'])"
   ]
  },
  {
   "cell_type": "code",
   "execution_count": 49,
   "id": "9f1ce4e1",
   "metadata": {},
   "outputs": [
    {
     "data": {
      "application/vnd.plotly.v1+json": {
       "config": {
        "plotlyServerURL": "https://plot.ly"
       },
       "data": [
        {
         "mode": "markers",
         "name": "Objective Value",
         "type": "scatter",
         "x": [
          0,
          1,
          2,
          3,
          4,
          5,
          6,
          7,
          8,
          9
         ],
         "y": [
          0.8368421052631578,
          0.9035087719298247,
          0.887280701754386,
          0.8732456140350878,
          0.8864035087719297,
          0.8662280701754387,
          0.9021929824561404,
          0.8942982456140349,
          0.8697368421052631,
          0.8368421052631578
         ]
        },
        {
         "name": "Best Value",
         "type": "scatter",
         "x": [
          0,
          1,
          2,
          3,
          4,
          5,
          6,
          7,
          8,
          9
         ],
         "y": [
          0.8368421052631578,
          0.9035087719298247,
          0.9035087719298247,
          0.9035087719298247,
          0.9035087719298247,
          0.9035087719298247,
          0.9035087719298247,
          0.9035087719298247,
          0.9035087719298247,
          0.9035087719298247
         ]
        }
       ],
       "layout": {
        "template": {
         "data": {
          "bar": [
           {
            "error_x": {
             "color": "#2a3f5f"
            },
            "error_y": {
             "color": "#2a3f5f"
            },
            "marker": {
             "line": {
              "color": "#E5ECF6",
              "width": 0.5
             },
             "pattern": {
              "fillmode": "overlay",
              "size": 10,
              "solidity": 0.2
             }
            },
            "type": "bar"
           }
          ],
          "barpolar": [
           {
            "marker": {
             "line": {
              "color": "#E5ECF6",
              "width": 0.5
             },
             "pattern": {
              "fillmode": "overlay",
              "size": 10,
              "solidity": 0.2
             }
            },
            "type": "barpolar"
           }
          ],
          "carpet": [
           {
            "aaxis": {
             "endlinecolor": "#2a3f5f",
             "gridcolor": "white",
             "linecolor": "white",
             "minorgridcolor": "white",
             "startlinecolor": "#2a3f5f"
            },
            "baxis": {
             "endlinecolor": "#2a3f5f",
             "gridcolor": "white",
             "linecolor": "white",
             "minorgridcolor": "white",
             "startlinecolor": "#2a3f5f"
            },
            "type": "carpet"
           }
          ],
          "choropleth": [
           {
            "colorbar": {
             "outlinewidth": 0,
             "ticks": ""
            },
            "type": "choropleth"
           }
          ],
          "contour": [
           {
            "colorbar": {
             "outlinewidth": 0,
             "ticks": ""
            },
            "colorscale": [
             [
              0,
              "#0d0887"
             ],
             [
              0.1111111111111111,
              "#46039f"
             ],
             [
              0.2222222222222222,
              "#7201a8"
             ],
             [
              0.3333333333333333,
              "#9c179e"
             ],
             [
              0.4444444444444444,
              "#bd3786"
             ],
             [
              0.5555555555555556,
              "#d8576b"
             ],
             [
              0.6666666666666666,
              "#ed7953"
             ],
             [
              0.7777777777777778,
              "#fb9f3a"
             ],
             [
              0.8888888888888888,
              "#fdca26"
             ],
             [
              1,
              "#f0f921"
             ]
            ],
            "type": "contour"
           }
          ],
          "contourcarpet": [
           {
            "colorbar": {
             "outlinewidth": 0,
             "ticks": ""
            },
            "type": "contourcarpet"
           }
          ],
          "heatmap": [
           {
            "colorbar": {
             "outlinewidth": 0,
             "ticks": ""
            },
            "colorscale": [
             [
              0,
              "#0d0887"
             ],
             [
              0.1111111111111111,
              "#46039f"
             ],
             [
              0.2222222222222222,
              "#7201a8"
             ],
             [
              0.3333333333333333,
              "#9c179e"
             ],
             [
              0.4444444444444444,
              "#bd3786"
             ],
             [
              0.5555555555555556,
              "#d8576b"
             ],
             [
              0.6666666666666666,
              "#ed7953"
             ],
             [
              0.7777777777777778,
              "#fb9f3a"
             ],
             [
              0.8888888888888888,
              "#fdca26"
             ],
             [
              1,
              "#f0f921"
             ]
            ],
            "type": "heatmap"
           }
          ],
          "heatmapgl": [
           {
            "colorbar": {
             "outlinewidth": 0,
             "ticks": ""
            },
            "colorscale": [
             [
              0,
              "#0d0887"
             ],
             [
              0.1111111111111111,
              "#46039f"
             ],
             [
              0.2222222222222222,
              "#7201a8"
             ],
             [
              0.3333333333333333,
              "#9c179e"
             ],
             [
              0.4444444444444444,
              "#bd3786"
             ],
             [
              0.5555555555555556,
              "#d8576b"
             ],
             [
              0.6666666666666666,
              "#ed7953"
             ],
             [
              0.7777777777777778,
              "#fb9f3a"
             ],
             [
              0.8888888888888888,
              "#fdca26"
             ],
             [
              1,
              "#f0f921"
             ]
            ],
            "type": "heatmapgl"
           }
          ],
          "histogram": [
           {
            "marker": {
             "pattern": {
              "fillmode": "overlay",
              "size": 10,
              "solidity": 0.2
             }
            },
            "type": "histogram"
           }
          ],
          "histogram2d": [
           {
            "colorbar": {
             "outlinewidth": 0,
             "ticks": ""
            },
            "colorscale": [
             [
              0,
              "#0d0887"
             ],
             [
              0.1111111111111111,
              "#46039f"
             ],
             [
              0.2222222222222222,
              "#7201a8"
             ],
             [
              0.3333333333333333,
              "#9c179e"
             ],
             [
              0.4444444444444444,
              "#bd3786"
             ],
             [
              0.5555555555555556,
              "#d8576b"
             ],
             [
              0.6666666666666666,
              "#ed7953"
             ],
             [
              0.7777777777777778,
              "#fb9f3a"
             ],
             [
              0.8888888888888888,
              "#fdca26"
             ],
             [
              1,
              "#f0f921"
             ]
            ],
            "type": "histogram2d"
           }
          ],
          "histogram2dcontour": [
           {
            "colorbar": {
             "outlinewidth": 0,
             "ticks": ""
            },
            "colorscale": [
             [
              0,
              "#0d0887"
             ],
             [
              0.1111111111111111,
              "#46039f"
             ],
             [
              0.2222222222222222,
              "#7201a8"
             ],
             [
              0.3333333333333333,
              "#9c179e"
             ],
             [
              0.4444444444444444,
              "#bd3786"
             ],
             [
              0.5555555555555556,
              "#d8576b"
             ],
             [
              0.6666666666666666,
              "#ed7953"
             ],
             [
              0.7777777777777778,
              "#fb9f3a"
             ],
             [
              0.8888888888888888,
              "#fdca26"
             ],
             [
              1,
              "#f0f921"
             ]
            ],
            "type": "histogram2dcontour"
           }
          ],
          "mesh3d": [
           {
            "colorbar": {
             "outlinewidth": 0,
             "ticks": ""
            },
            "type": "mesh3d"
           }
          ],
          "parcoords": [
           {
            "line": {
             "colorbar": {
              "outlinewidth": 0,
              "ticks": ""
             }
            },
            "type": "parcoords"
           }
          ],
          "pie": [
           {
            "automargin": true,
            "type": "pie"
           }
          ],
          "scatter": [
           {
            "fillpattern": {
             "fillmode": "overlay",
             "size": 10,
             "solidity": 0.2
            },
            "type": "scatter"
           }
          ],
          "scatter3d": [
           {
            "line": {
             "colorbar": {
              "outlinewidth": 0,
              "ticks": ""
             }
            },
            "marker": {
             "colorbar": {
              "outlinewidth": 0,
              "ticks": ""
             }
            },
            "type": "scatter3d"
           }
          ],
          "scattercarpet": [
           {
            "marker": {
             "colorbar": {
              "outlinewidth": 0,
              "ticks": ""
             }
            },
            "type": "scattercarpet"
           }
          ],
          "scattergeo": [
           {
            "marker": {
             "colorbar": {
              "outlinewidth": 0,
              "ticks": ""
             }
            },
            "type": "scattergeo"
           }
          ],
          "scattergl": [
           {
            "marker": {
             "colorbar": {
              "outlinewidth": 0,
              "ticks": ""
             }
            },
            "type": "scattergl"
           }
          ],
          "scattermapbox": [
           {
            "marker": {
             "colorbar": {
              "outlinewidth": 0,
              "ticks": ""
             }
            },
            "type": "scattermapbox"
           }
          ],
          "scatterpolar": [
           {
            "marker": {
             "colorbar": {
              "outlinewidth": 0,
              "ticks": ""
             }
            },
            "type": "scatterpolar"
           }
          ],
          "scatterpolargl": [
           {
            "marker": {
             "colorbar": {
              "outlinewidth": 0,
              "ticks": ""
             }
            },
            "type": "scatterpolargl"
           }
          ],
          "scatterternary": [
           {
            "marker": {
             "colorbar": {
              "outlinewidth": 0,
              "ticks": ""
             }
            },
            "type": "scatterternary"
           }
          ],
          "surface": [
           {
            "colorbar": {
             "outlinewidth": 0,
             "ticks": ""
            },
            "colorscale": [
             [
              0,
              "#0d0887"
             ],
             [
              0.1111111111111111,
              "#46039f"
             ],
             [
              0.2222222222222222,
              "#7201a8"
             ],
             [
              0.3333333333333333,
              "#9c179e"
             ],
             [
              0.4444444444444444,
              "#bd3786"
             ],
             [
              0.5555555555555556,
              "#d8576b"
             ],
             [
              0.6666666666666666,
              "#ed7953"
             ],
             [
              0.7777777777777778,
              "#fb9f3a"
             ],
             [
              0.8888888888888888,
              "#fdca26"
             ],
             [
              1,
              "#f0f921"
             ]
            ],
            "type": "surface"
           }
          ],
          "table": [
           {
            "cells": {
             "fill": {
              "color": "#EBF0F8"
             },
             "line": {
              "color": "white"
             }
            },
            "header": {
             "fill": {
              "color": "#C8D4E3"
             },
             "line": {
              "color": "white"
             }
            },
            "type": "table"
           }
          ]
         },
         "layout": {
          "annotationdefaults": {
           "arrowcolor": "#2a3f5f",
           "arrowhead": 0,
           "arrowwidth": 1
          },
          "autotypenumbers": "strict",
          "coloraxis": {
           "colorbar": {
            "outlinewidth": 0,
            "ticks": ""
           }
          },
          "colorscale": {
           "diverging": [
            [
             0,
             "#8e0152"
            ],
            [
             0.1,
             "#c51b7d"
            ],
            [
             0.2,
             "#de77ae"
            ],
            [
             0.3,
             "#f1b6da"
            ],
            [
             0.4,
             "#fde0ef"
            ],
            [
             0.5,
             "#f7f7f7"
            ],
            [
             0.6,
             "#e6f5d0"
            ],
            [
             0.7,
             "#b8e186"
            ],
            [
             0.8,
             "#7fbc41"
            ],
            [
             0.9,
             "#4d9221"
            ],
            [
             1,
             "#276419"
            ]
           ],
           "sequential": [
            [
             0,
             "#0d0887"
            ],
            [
             0.1111111111111111,
             "#46039f"
            ],
            [
             0.2222222222222222,
             "#7201a8"
            ],
            [
             0.3333333333333333,
             "#9c179e"
            ],
            [
             0.4444444444444444,
             "#bd3786"
            ],
            [
             0.5555555555555556,
             "#d8576b"
            ],
            [
             0.6666666666666666,
             "#ed7953"
            ],
            [
             0.7777777777777778,
             "#fb9f3a"
            ],
            [
             0.8888888888888888,
             "#fdca26"
            ],
            [
             1,
             "#f0f921"
            ]
           ],
           "sequentialminus": [
            [
             0,
             "#0d0887"
            ],
            [
             0.1111111111111111,
             "#46039f"
            ],
            [
             0.2222222222222222,
             "#7201a8"
            ],
            [
             0.3333333333333333,
             "#9c179e"
            ],
            [
             0.4444444444444444,
             "#bd3786"
            ],
            [
             0.5555555555555556,
             "#d8576b"
            ],
            [
             0.6666666666666666,
             "#ed7953"
            ],
            [
             0.7777777777777778,
             "#fb9f3a"
            ],
            [
             0.8888888888888888,
             "#fdca26"
            ],
            [
             1,
             "#f0f921"
            ]
           ]
          },
          "colorway": [
           "#636efa",
           "#EF553B",
           "#00cc96",
           "#ab63fa",
           "#FFA15A",
           "#19d3f3",
           "#FF6692",
           "#B6E880",
           "#FF97FF",
           "#FECB52"
          ],
          "font": {
           "color": "#2a3f5f"
          },
          "geo": {
           "bgcolor": "white",
           "lakecolor": "white",
           "landcolor": "#E5ECF6",
           "showlakes": true,
           "showland": true,
           "subunitcolor": "white"
          },
          "hoverlabel": {
           "align": "left"
          },
          "hovermode": "closest",
          "mapbox": {
           "style": "light"
          },
          "paper_bgcolor": "white",
          "plot_bgcolor": "#E5ECF6",
          "polar": {
           "angularaxis": {
            "gridcolor": "white",
            "linecolor": "white",
            "ticks": ""
           },
           "bgcolor": "#E5ECF6",
           "radialaxis": {
            "gridcolor": "white",
            "linecolor": "white",
            "ticks": ""
           }
          },
          "scene": {
           "xaxis": {
            "backgroundcolor": "#E5ECF6",
            "gridcolor": "white",
            "gridwidth": 2,
            "linecolor": "white",
            "showbackground": true,
            "ticks": "",
            "zerolinecolor": "white"
           },
           "yaxis": {
            "backgroundcolor": "#E5ECF6",
            "gridcolor": "white",
            "gridwidth": 2,
            "linecolor": "white",
            "showbackground": true,
            "ticks": "",
            "zerolinecolor": "white"
           },
           "zaxis": {
            "backgroundcolor": "#E5ECF6",
            "gridcolor": "white",
            "gridwidth": 2,
            "linecolor": "white",
            "showbackground": true,
            "ticks": "",
            "zerolinecolor": "white"
           }
          },
          "shapedefaults": {
           "line": {
            "color": "#2a3f5f"
           }
          },
          "ternary": {
           "aaxis": {
            "gridcolor": "white",
            "linecolor": "white",
            "ticks": ""
           },
           "baxis": {
            "gridcolor": "white",
            "linecolor": "white",
            "ticks": ""
           },
           "bgcolor": "#E5ECF6",
           "caxis": {
            "gridcolor": "white",
            "linecolor": "white",
            "ticks": ""
           }
          },
          "title": {
           "x": 0.05
          },
          "xaxis": {
           "automargin": true,
           "gridcolor": "white",
           "linecolor": "white",
           "ticks": "",
           "title": {
            "standoff": 15
           },
           "zerolinecolor": "white",
           "zerolinewidth": 2
          },
          "yaxis": {
           "automargin": true,
           "gridcolor": "white",
           "linecolor": "white",
           "ticks": "",
           "title": {
            "standoff": 15
           },
           "zerolinecolor": "white",
           "zerolinewidth": 2
          }
         }
        },
        "title": {
         "text": "Optimization History Plot"
        },
        "xaxis": {
         "title": {
          "text": "Trial"
         }
        },
        "yaxis": {
         "title": {
          "text": "Objective Value"
         }
        }
       }
      },
      "text/html": [
       "<div>                            <div id=\"85bd59aa-5073-4766-9a7b-2a51355174a9\" class=\"plotly-graph-div\" style=\"height:525px; width:100%;\"></div>            <script type=\"text/javascript\">                require([\"plotly\"], function(Plotly) {                    window.PLOTLYENV=window.PLOTLYENV || {};                                    if (document.getElementById(\"85bd59aa-5073-4766-9a7b-2a51355174a9\")) {                    Plotly.newPlot(                        \"85bd59aa-5073-4766-9a7b-2a51355174a9\",                        [{\"mode\":\"markers\",\"name\":\"Objective Value\",\"x\":[0,1,2,3,4,5,6,7,8,9],\"y\":[0.8368421052631578,0.9035087719298247,0.887280701754386,0.8732456140350878,0.8864035087719297,0.8662280701754387,0.9021929824561404,0.8942982456140349,0.8697368421052631,0.8368421052631578],\"type\":\"scatter\"},{\"name\":\"Best Value\",\"x\":[0,1,2,3,4,5,6,7,8,9],\"y\":[0.8368421052631578,0.9035087719298247,0.9035087719298247,0.9035087719298247,0.9035087719298247,0.9035087719298247,0.9035087719298247,0.9035087719298247,0.9035087719298247,0.9035087719298247],\"type\":\"scatter\"}],                        {\"title\":{\"text\":\"Optimization History Plot\"},\"xaxis\":{\"title\":{\"text\":\"Trial\"}},\"yaxis\":{\"title\":{\"text\":\"Objective Value\"}},\"template\":{\"data\":{\"histogram2dcontour\":[{\"type\":\"histogram2dcontour\",\"colorbar\":{\"outlinewidth\":0,\"ticks\":\"\"},\"colorscale\":[[0.0,\"#0d0887\"],[0.1111111111111111,\"#46039f\"],[0.2222222222222222,\"#7201a8\"],[0.3333333333333333,\"#9c179e\"],[0.4444444444444444,\"#bd3786\"],[0.5555555555555556,\"#d8576b\"],[0.6666666666666666,\"#ed7953\"],[0.7777777777777778,\"#fb9f3a\"],[0.8888888888888888,\"#fdca26\"],[1.0,\"#f0f921\"]]}],\"choropleth\":[{\"type\":\"choropleth\",\"colorbar\":{\"outlinewidth\":0,\"ticks\":\"\"}}],\"histogram2d\":[{\"type\":\"histogram2d\",\"colorbar\":{\"outlinewidth\":0,\"ticks\":\"\"},\"colorscale\":[[0.0,\"#0d0887\"],[0.1111111111111111,\"#46039f\"],[0.2222222222222222,\"#7201a8\"],[0.3333333333333333,\"#9c179e\"],[0.4444444444444444,\"#bd3786\"],[0.5555555555555556,\"#d8576b\"],[0.6666666666666666,\"#ed7953\"],[0.7777777777777778,\"#fb9f3a\"],[0.8888888888888888,\"#fdca26\"],[1.0,\"#f0f921\"]]}],\"heatmap\":[{\"type\":\"heatmap\",\"colorbar\":{\"outlinewidth\":0,\"ticks\":\"\"},\"colorscale\":[[0.0,\"#0d0887\"],[0.1111111111111111,\"#46039f\"],[0.2222222222222222,\"#7201a8\"],[0.3333333333333333,\"#9c179e\"],[0.4444444444444444,\"#bd3786\"],[0.5555555555555556,\"#d8576b\"],[0.6666666666666666,\"#ed7953\"],[0.7777777777777778,\"#fb9f3a\"],[0.8888888888888888,\"#fdca26\"],[1.0,\"#f0f921\"]]}],\"heatmapgl\":[{\"type\":\"heatmapgl\",\"colorbar\":{\"outlinewidth\":0,\"ticks\":\"\"},\"colorscale\":[[0.0,\"#0d0887\"],[0.1111111111111111,\"#46039f\"],[0.2222222222222222,\"#7201a8\"],[0.3333333333333333,\"#9c179e\"],[0.4444444444444444,\"#bd3786\"],[0.5555555555555556,\"#d8576b\"],[0.6666666666666666,\"#ed7953\"],[0.7777777777777778,\"#fb9f3a\"],[0.8888888888888888,\"#fdca26\"],[1.0,\"#f0f921\"]]}],\"contourcarpet\":[{\"type\":\"contourcarpet\",\"colorbar\":{\"outlinewidth\":0,\"ticks\":\"\"}}],\"contour\":[{\"type\":\"contour\",\"colorbar\":{\"outlinewidth\":0,\"ticks\":\"\"},\"colorscale\":[[0.0,\"#0d0887\"],[0.1111111111111111,\"#46039f\"],[0.2222222222222222,\"#7201a8\"],[0.3333333333333333,\"#9c179e\"],[0.4444444444444444,\"#bd3786\"],[0.5555555555555556,\"#d8576b\"],[0.6666666666666666,\"#ed7953\"],[0.7777777777777778,\"#fb9f3a\"],[0.8888888888888888,\"#fdca26\"],[1.0,\"#f0f921\"]]}],\"surface\":[{\"type\":\"surface\",\"colorbar\":{\"outlinewidth\":0,\"ticks\":\"\"},\"colorscale\":[[0.0,\"#0d0887\"],[0.1111111111111111,\"#46039f\"],[0.2222222222222222,\"#7201a8\"],[0.3333333333333333,\"#9c179e\"],[0.4444444444444444,\"#bd3786\"],[0.5555555555555556,\"#d8576b\"],[0.6666666666666666,\"#ed7953\"],[0.7777777777777778,\"#fb9f3a\"],[0.8888888888888888,\"#fdca26\"],[1.0,\"#f0f921\"]]}],\"mesh3d\":[{\"type\":\"mesh3d\",\"colorbar\":{\"outlinewidth\":0,\"ticks\":\"\"}}],\"scatter\":[{\"fillpattern\":{\"fillmode\":\"overlay\",\"size\":10,\"solidity\":0.2},\"type\":\"scatter\"}],\"parcoords\":[{\"type\":\"parcoords\",\"line\":{\"colorbar\":{\"outlinewidth\":0,\"ticks\":\"\"}}}],\"scatterpolargl\":[{\"type\":\"scatterpolargl\",\"marker\":{\"colorbar\":{\"outlinewidth\":0,\"ticks\":\"\"}}}],\"bar\":[{\"error_x\":{\"color\":\"#2a3f5f\"},\"error_y\":{\"color\":\"#2a3f5f\"},\"marker\":{\"line\":{\"color\":\"#E5ECF6\",\"width\":0.5},\"pattern\":{\"fillmode\":\"overlay\",\"size\":10,\"solidity\":0.2}},\"type\":\"bar\"}],\"scattergeo\":[{\"type\":\"scattergeo\",\"marker\":{\"colorbar\":{\"outlinewidth\":0,\"ticks\":\"\"}}}],\"scatterpolar\":[{\"type\":\"scatterpolar\",\"marker\":{\"colorbar\":{\"outlinewidth\":0,\"ticks\":\"\"}}}],\"histogram\":[{\"marker\":{\"pattern\":{\"fillmode\":\"overlay\",\"size\":10,\"solidity\":0.2}},\"type\":\"histogram\"}],\"scattergl\":[{\"type\":\"scattergl\",\"marker\":{\"colorbar\":{\"outlinewidth\":0,\"ticks\":\"\"}}}],\"scatter3d\":[{\"type\":\"scatter3d\",\"line\":{\"colorbar\":{\"outlinewidth\":0,\"ticks\":\"\"}},\"marker\":{\"colorbar\":{\"outlinewidth\":0,\"ticks\":\"\"}}}],\"scattermapbox\":[{\"type\":\"scattermapbox\",\"marker\":{\"colorbar\":{\"outlinewidth\":0,\"ticks\":\"\"}}}],\"scatterternary\":[{\"type\":\"scatterternary\",\"marker\":{\"colorbar\":{\"outlinewidth\":0,\"ticks\":\"\"}}}],\"scattercarpet\":[{\"type\":\"scattercarpet\",\"marker\":{\"colorbar\":{\"outlinewidth\":0,\"ticks\":\"\"}}}],\"carpet\":[{\"aaxis\":{\"endlinecolor\":\"#2a3f5f\",\"gridcolor\":\"white\",\"linecolor\":\"white\",\"minorgridcolor\":\"white\",\"startlinecolor\":\"#2a3f5f\"},\"baxis\":{\"endlinecolor\":\"#2a3f5f\",\"gridcolor\":\"white\",\"linecolor\":\"white\",\"minorgridcolor\":\"white\",\"startlinecolor\":\"#2a3f5f\"},\"type\":\"carpet\"}],\"table\":[{\"cells\":{\"fill\":{\"color\":\"#EBF0F8\"},\"line\":{\"color\":\"white\"}},\"header\":{\"fill\":{\"color\":\"#C8D4E3\"},\"line\":{\"color\":\"white\"}},\"type\":\"table\"}],\"barpolar\":[{\"marker\":{\"line\":{\"color\":\"#E5ECF6\",\"width\":0.5},\"pattern\":{\"fillmode\":\"overlay\",\"size\":10,\"solidity\":0.2}},\"type\":\"barpolar\"}],\"pie\":[{\"automargin\":true,\"type\":\"pie\"}]},\"layout\":{\"autotypenumbers\":\"strict\",\"colorway\":[\"#636efa\",\"#EF553B\",\"#00cc96\",\"#ab63fa\",\"#FFA15A\",\"#19d3f3\",\"#FF6692\",\"#B6E880\",\"#FF97FF\",\"#FECB52\"],\"font\":{\"color\":\"#2a3f5f\"},\"hovermode\":\"closest\",\"hoverlabel\":{\"align\":\"left\"},\"paper_bgcolor\":\"white\",\"plot_bgcolor\":\"#E5ECF6\",\"polar\":{\"bgcolor\":\"#E5ECF6\",\"angularaxis\":{\"gridcolor\":\"white\",\"linecolor\":\"white\",\"ticks\":\"\"},\"radialaxis\":{\"gridcolor\":\"white\",\"linecolor\":\"white\",\"ticks\":\"\"}},\"ternary\":{\"bgcolor\":\"#E5ECF6\",\"aaxis\":{\"gridcolor\":\"white\",\"linecolor\":\"white\",\"ticks\":\"\"},\"baxis\":{\"gridcolor\":\"white\",\"linecolor\":\"white\",\"ticks\":\"\"},\"caxis\":{\"gridcolor\":\"white\",\"linecolor\":\"white\",\"ticks\":\"\"}},\"coloraxis\":{\"colorbar\":{\"outlinewidth\":0,\"ticks\":\"\"}},\"colorscale\":{\"sequential\":[[0.0,\"#0d0887\"],[0.1111111111111111,\"#46039f\"],[0.2222222222222222,\"#7201a8\"],[0.3333333333333333,\"#9c179e\"],[0.4444444444444444,\"#bd3786\"],[0.5555555555555556,\"#d8576b\"],[0.6666666666666666,\"#ed7953\"],[0.7777777777777778,\"#fb9f3a\"],[0.8888888888888888,\"#fdca26\"],[1.0,\"#f0f921\"]],\"sequentialminus\":[[0.0,\"#0d0887\"],[0.1111111111111111,\"#46039f\"],[0.2222222222222222,\"#7201a8\"],[0.3333333333333333,\"#9c179e\"],[0.4444444444444444,\"#bd3786\"],[0.5555555555555556,\"#d8576b\"],[0.6666666666666666,\"#ed7953\"],[0.7777777777777778,\"#fb9f3a\"],[0.8888888888888888,\"#fdca26\"],[1.0,\"#f0f921\"]],\"diverging\":[[0,\"#8e0152\"],[0.1,\"#c51b7d\"],[0.2,\"#de77ae\"],[0.3,\"#f1b6da\"],[0.4,\"#fde0ef\"],[0.5,\"#f7f7f7\"],[0.6,\"#e6f5d0\"],[0.7,\"#b8e186\"],[0.8,\"#7fbc41\"],[0.9,\"#4d9221\"],[1,\"#276419\"]]},\"xaxis\":{\"gridcolor\":\"white\",\"linecolor\":\"white\",\"ticks\":\"\",\"title\":{\"standoff\":15},\"zerolinecolor\":\"white\",\"automargin\":true,\"zerolinewidth\":2},\"yaxis\":{\"gridcolor\":\"white\",\"linecolor\":\"white\",\"ticks\":\"\",\"title\":{\"standoff\":15},\"zerolinecolor\":\"white\",\"automargin\":true,\"zerolinewidth\":2},\"scene\":{\"xaxis\":{\"backgroundcolor\":\"#E5ECF6\",\"gridcolor\":\"white\",\"linecolor\":\"white\",\"showbackground\":true,\"ticks\":\"\",\"zerolinecolor\":\"white\",\"gridwidth\":2},\"yaxis\":{\"backgroundcolor\":\"#E5ECF6\",\"gridcolor\":\"white\",\"linecolor\":\"white\",\"showbackground\":true,\"ticks\":\"\",\"zerolinecolor\":\"white\",\"gridwidth\":2},\"zaxis\":{\"backgroundcolor\":\"#E5ECF6\",\"gridcolor\":\"white\",\"linecolor\":\"white\",\"showbackground\":true,\"ticks\":\"\",\"zerolinecolor\":\"white\",\"gridwidth\":2}},\"shapedefaults\":{\"line\":{\"color\":\"#2a3f5f\"}},\"annotationdefaults\":{\"arrowcolor\":\"#2a3f5f\",\"arrowhead\":0,\"arrowwidth\":1},\"geo\":{\"bgcolor\":\"white\",\"landcolor\":\"#E5ECF6\",\"subunitcolor\":\"white\",\"showland\":true,\"showlakes\":true,\"lakecolor\":\"white\"},\"title\":{\"x\":0.05},\"mapbox\":{\"style\":\"light\"}}}},                        {\"responsive\": true}                    ).then(function(){\n",
       "                            \n",
       "var gd = document.getElementById('85bd59aa-5073-4766-9a7b-2a51355174a9');\n",
       "var x = new MutationObserver(function (mutations, observer) {{\n",
       "        var display = window.getComputedStyle(gd).display;\n",
       "        if (!display || display === 'none') {{\n",
       "            console.log([gd, 'removed!']);\n",
       "            Plotly.purge(gd);\n",
       "            observer.disconnect();\n",
       "        }}\n",
       "}});\n",
       "\n",
       "// Listen for the removal of the full notebook cells\n",
       "var notebookContainer = gd.closest('#notebook-container');\n",
       "if (notebookContainer) {{\n",
       "    x.observe(notebookContainer, {childList: true});\n",
       "}}\n",
       "\n",
       "// Listen for the clearing of the current output cell\n",
       "var outputEl = gd.closest('.output');\n",
       "if (outputEl) {{\n",
       "    x.observe(outputEl, {childList: true});\n",
       "}}\n",
       "\n",
       "                        })                };                });            </script>        </div>"
      ]
     },
     "metadata": {},
     "output_type": "display_data"
    }
   ],
   "source": [
    "# Plot optimization history of all trials in a study.\n",
    "\n",
    "optuna.visualization.plot_optimization_history(study)"
   ]
  },
  {
   "cell_type": "code",
   "execution_count": 50,
   "id": "2a8dc76a",
   "metadata": {},
   "outputs": [
    {
     "data": {
      "application/vnd.plotly.v1+json": {
       "config": {
        "plotlyServerURL": "https://plot.ly"
       },
       "data": [
        {
         "cliponaxis": false,
         "hovertemplate": [
          "criterion (CategoricalDistribution): 0.017096009634886847<extra></extra>",
          "n_estimators (IntDistribution): 0.03794890396345828<extra></extra>",
          "max_depth (IntDistribution): 0.9449550864016549<extra></extra>"
         ],
         "marker": {
          "color": "rgb(66,146,198)"
         },
         "orientation": "h",
         "text": [
          "0.02",
          "0.04",
          "0.94"
         ],
         "textposition": "outside",
         "type": "bar",
         "x": [
          0.017096009634886847,
          0.03794890396345828,
          0.9449550864016549
         ],
         "y": [
          "criterion",
          "n_estimators",
          "max_depth"
         ]
        }
       ],
       "layout": {
        "showlegend": false,
        "template": {
         "data": {
          "bar": [
           {
            "error_x": {
             "color": "#2a3f5f"
            },
            "error_y": {
             "color": "#2a3f5f"
            },
            "marker": {
             "line": {
              "color": "#E5ECF6",
              "width": 0.5
             },
             "pattern": {
              "fillmode": "overlay",
              "size": 10,
              "solidity": 0.2
             }
            },
            "type": "bar"
           }
          ],
          "barpolar": [
           {
            "marker": {
             "line": {
              "color": "#E5ECF6",
              "width": 0.5
             },
             "pattern": {
              "fillmode": "overlay",
              "size": 10,
              "solidity": 0.2
             }
            },
            "type": "barpolar"
           }
          ],
          "carpet": [
           {
            "aaxis": {
             "endlinecolor": "#2a3f5f",
             "gridcolor": "white",
             "linecolor": "white",
             "minorgridcolor": "white",
             "startlinecolor": "#2a3f5f"
            },
            "baxis": {
             "endlinecolor": "#2a3f5f",
             "gridcolor": "white",
             "linecolor": "white",
             "minorgridcolor": "white",
             "startlinecolor": "#2a3f5f"
            },
            "type": "carpet"
           }
          ],
          "choropleth": [
           {
            "colorbar": {
             "outlinewidth": 0,
             "ticks": ""
            },
            "type": "choropleth"
           }
          ],
          "contour": [
           {
            "colorbar": {
             "outlinewidth": 0,
             "ticks": ""
            },
            "colorscale": [
             [
              0,
              "#0d0887"
             ],
             [
              0.1111111111111111,
              "#46039f"
             ],
             [
              0.2222222222222222,
              "#7201a8"
             ],
             [
              0.3333333333333333,
              "#9c179e"
             ],
             [
              0.4444444444444444,
              "#bd3786"
             ],
             [
              0.5555555555555556,
              "#d8576b"
             ],
             [
              0.6666666666666666,
              "#ed7953"
             ],
             [
              0.7777777777777778,
              "#fb9f3a"
             ],
             [
              0.8888888888888888,
              "#fdca26"
             ],
             [
              1,
              "#f0f921"
             ]
            ],
            "type": "contour"
           }
          ],
          "contourcarpet": [
           {
            "colorbar": {
             "outlinewidth": 0,
             "ticks": ""
            },
            "type": "contourcarpet"
           }
          ],
          "heatmap": [
           {
            "colorbar": {
             "outlinewidth": 0,
             "ticks": ""
            },
            "colorscale": [
             [
              0,
              "#0d0887"
             ],
             [
              0.1111111111111111,
              "#46039f"
             ],
             [
              0.2222222222222222,
              "#7201a8"
             ],
             [
              0.3333333333333333,
              "#9c179e"
             ],
             [
              0.4444444444444444,
              "#bd3786"
             ],
             [
              0.5555555555555556,
              "#d8576b"
             ],
             [
              0.6666666666666666,
              "#ed7953"
             ],
             [
              0.7777777777777778,
              "#fb9f3a"
             ],
             [
              0.8888888888888888,
              "#fdca26"
             ],
             [
              1,
              "#f0f921"
             ]
            ],
            "type": "heatmap"
           }
          ],
          "heatmapgl": [
           {
            "colorbar": {
             "outlinewidth": 0,
             "ticks": ""
            },
            "colorscale": [
             [
              0,
              "#0d0887"
             ],
             [
              0.1111111111111111,
              "#46039f"
             ],
             [
              0.2222222222222222,
              "#7201a8"
             ],
             [
              0.3333333333333333,
              "#9c179e"
             ],
             [
              0.4444444444444444,
              "#bd3786"
             ],
             [
              0.5555555555555556,
              "#d8576b"
             ],
             [
              0.6666666666666666,
              "#ed7953"
             ],
             [
              0.7777777777777778,
              "#fb9f3a"
             ],
             [
              0.8888888888888888,
              "#fdca26"
             ],
             [
              1,
              "#f0f921"
             ]
            ],
            "type": "heatmapgl"
           }
          ],
          "histogram": [
           {
            "marker": {
             "pattern": {
              "fillmode": "overlay",
              "size": 10,
              "solidity": 0.2
             }
            },
            "type": "histogram"
           }
          ],
          "histogram2d": [
           {
            "colorbar": {
             "outlinewidth": 0,
             "ticks": ""
            },
            "colorscale": [
             [
              0,
              "#0d0887"
             ],
             [
              0.1111111111111111,
              "#46039f"
             ],
             [
              0.2222222222222222,
              "#7201a8"
             ],
             [
              0.3333333333333333,
              "#9c179e"
             ],
             [
              0.4444444444444444,
              "#bd3786"
             ],
             [
              0.5555555555555556,
              "#d8576b"
             ],
             [
              0.6666666666666666,
              "#ed7953"
             ],
             [
              0.7777777777777778,
              "#fb9f3a"
             ],
             [
              0.8888888888888888,
              "#fdca26"
             ],
             [
              1,
              "#f0f921"
             ]
            ],
            "type": "histogram2d"
           }
          ],
          "histogram2dcontour": [
           {
            "colorbar": {
             "outlinewidth": 0,
             "ticks": ""
            },
            "colorscale": [
             [
              0,
              "#0d0887"
             ],
             [
              0.1111111111111111,
              "#46039f"
             ],
             [
              0.2222222222222222,
              "#7201a8"
             ],
             [
              0.3333333333333333,
              "#9c179e"
             ],
             [
              0.4444444444444444,
              "#bd3786"
             ],
             [
              0.5555555555555556,
              "#d8576b"
             ],
             [
              0.6666666666666666,
              "#ed7953"
             ],
             [
              0.7777777777777778,
              "#fb9f3a"
             ],
             [
              0.8888888888888888,
              "#fdca26"
             ],
             [
              1,
              "#f0f921"
             ]
            ],
            "type": "histogram2dcontour"
           }
          ],
          "mesh3d": [
           {
            "colorbar": {
             "outlinewidth": 0,
             "ticks": ""
            },
            "type": "mesh3d"
           }
          ],
          "parcoords": [
           {
            "line": {
             "colorbar": {
              "outlinewidth": 0,
              "ticks": ""
             }
            },
            "type": "parcoords"
           }
          ],
          "pie": [
           {
            "automargin": true,
            "type": "pie"
           }
          ],
          "scatter": [
           {
            "fillpattern": {
             "fillmode": "overlay",
             "size": 10,
             "solidity": 0.2
            },
            "type": "scatter"
           }
          ],
          "scatter3d": [
           {
            "line": {
             "colorbar": {
              "outlinewidth": 0,
              "ticks": ""
             }
            },
            "marker": {
             "colorbar": {
              "outlinewidth": 0,
              "ticks": ""
             }
            },
            "type": "scatter3d"
           }
          ],
          "scattercarpet": [
           {
            "marker": {
             "colorbar": {
              "outlinewidth": 0,
              "ticks": ""
             }
            },
            "type": "scattercarpet"
           }
          ],
          "scattergeo": [
           {
            "marker": {
             "colorbar": {
              "outlinewidth": 0,
              "ticks": ""
             }
            },
            "type": "scattergeo"
           }
          ],
          "scattergl": [
           {
            "marker": {
             "colorbar": {
              "outlinewidth": 0,
              "ticks": ""
             }
            },
            "type": "scattergl"
           }
          ],
          "scattermapbox": [
           {
            "marker": {
             "colorbar": {
              "outlinewidth": 0,
              "ticks": ""
             }
            },
            "type": "scattermapbox"
           }
          ],
          "scatterpolar": [
           {
            "marker": {
             "colorbar": {
              "outlinewidth": 0,
              "ticks": ""
             }
            },
            "type": "scatterpolar"
           }
          ],
          "scatterpolargl": [
           {
            "marker": {
             "colorbar": {
              "outlinewidth": 0,
              "ticks": ""
             }
            },
            "type": "scatterpolargl"
           }
          ],
          "scatterternary": [
           {
            "marker": {
             "colorbar": {
              "outlinewidth": 0,
              "ticks": ""
             }
            },
            "type": "scatterternary"
           }
          ],
          "surface": [
           {
            "colorbar": {
             "outlinewidth": 0,
             "ticks": ""
            },
            "colorscale": [
             [
              0,
              "#0d0887"
             ],
             [
              0.1111111111111111,
              "#46039f"
             ],
             [
              0.2222222222222222,
              "#7201a8"
             ],
             [
              0.3333333333333333,
              "#9c179e"
             ],
             [
              0.4444444444444444,
              "#bd3786"
             ],
             [
              0.5555555555555556,
              "#d8576b"
             ],
             [
              0.6666666666666666,
              "#ed7953"
             ],
             [
              0.7777777777777778,
              "#fb9f3a"
             ],
             [
              0.8888888888888888,
              "#fdca26"
             ],
             [
              1,
              "#f0f921"
             ]
            ],
            "type": "surface"
           }
          ],
          "table": [
           {
            "cells": {
             "fill": {
              "color": "#EBF0F8"
             },
             "line": {
              "color": "white"
             }
            },
            "header": {
             "fill": {
              "color": "#C8D4E3"
             },
             "line": {
              "color": "white"
             }
            },
            "type": "table"
           }
          ]
         },
         "layout": {
          "annotationdefaults": {
           "arrowcolor": "#2a3f5f",
           "arrowhead": 0,
           "arrowwidth": 1
          },
          "autotypenumbers": "strict",
          "coloraxis": {
           "colorbar": {
            "outlinewidth": 0,
            "ticks": ""
           }
          },
          "colorscale": {
           "diverging": [
            [
             0,
             "#8e0152"
            ],
            [
             0.1,
             "#c51b7d"
            ],
            [
             0.2,
             "#de77ae"
            ],
            [
             0.3,
             "#f1b6da"
            ],
            [
             0.4,
             "#fde0ef"
            ],
            [
             0.5,
             "#f7f7f7"
            ],
            [
             0.6,
             "#e6f5d0"
            ],
            [
             0.7,
             "#b8e186"
            ],
            [
             0.8,
             "#7fbc41"
            ],
            [
             0.9,
             "#4d9221"
            ],
            [
             1,
             "#276419"
            ]
           ],
           "sequential": [
            [
             0,
             "#0d0887"
            ],
            [
             0.1111111111111111,
             "#46039f"
            ],
            [
             0.2222222222222222,
             "#7201a8"
            ],
            [
             0.3333333333333333,
             "#9c179e"
            ],
            [
             0.4444444444444444,
             "#bd3786"
            ],
            [
             0.5555555555555556,
             "#d8576b"
            ],
            [
             0.6666666666666666,
             "#ed7953"
            ],
            [
             0.7777777777777778,
             "#fb9f3a"
            ],
            [
             0.8888888888888888,
             "#fdca26"
            ],
            [
             1,
             "#f0f921"
            ]
           ],
           "sequentialminus": [
            [
             0,
             "#0d0887"
            ],
            [
             0.1111111111111111,
             "#46039f"
            ],
            [
             0.2222222222222222,
             "#7201a8"
            ],
            [
             0.3333333333333333,
             "#9c179e"
            ],
            [
             0.4444444444444444,
             "#bd3786"
            ],
            [
             0.5555555555555556,
             "#d8576b"
            ],
            [
             0.6666666666666666,
             "#ed7953"
            ],
            [
             0.7777777777777778,
             "#fb9f3a"
            ],
            [
             0.8888888888888888,
             "#fdca26"
            ],
            [
             1,
             "#f0f921"
            ]
           ]
          },
          "colorway": [
           "#636efa",
           "#EF553B",
           "#00cc96",
           "#ab63fa",
           "#FFA15A",
           "#19d3f3",
           "#FF6692",
           "#B6E880",
           "#FF97FF",
           "#FECB52"
          ],
          "font": {
           "color": "#2a3f5f"
          },
          "geo": {
           "bgcolor": "white",
           "lakecolor": "white",
           "landcolor": "#E5ECF6",
           "showlakes": true,
           "showland": true,
           "subunitcolor": "white"
          },
          "hoverlabel": {
           "align": "left"
          },
          "hovermode": "closest",
          "mapbox": {
           "style": "light"
          },
          "paper_bgcolor": "white",
          "plot_bgcolor": "#E5ECF6",
          "polar": {
           "angularaxis": {
            "gridcolor": "white",
            "linecolor": "white",
            "ticks": ""
           },
           "bgcolor": "#E5ECF6",
           "radialaxis": {
            "gridcolor": "white",
            "linecolor": "white",
            "ticks": ""
           }
          },
          "scene": {
           "xaxis": {
            "backgroundcolor": "#E5ECF6",
            "gridcolor": "white",
            "gridwidth": 2,
            "linecolor": "white",
            "showbackground": true,
            "ticks": "",
            "zerolinecolor": "white"
           },
           "yaxis": {
            "backgroundcolor": "#E5ECF6",
            "gridcolor": "white",
            "gridwidth": 2,
            "linecolor": "white",
            "showbackground": true,
            "ticks": "",
            "zerolinecolor": "white"
           },
           "zaxis": {
            "backgroundcolor": "#E5ECF6",
            "gridcolor": "white",
            "gridwidth": 2,
            "linecolor": "white",
            "showbackground": true,
            "ticks": "",
            "zerolinecolor": "white"
           }
          },
          "shapedefaults": {
           "line": {
            "color": "#2a3f5f"
           }
          },
          "ternary": {
           "aaxis": {
            "gridcolor": "white",
            "linecolor": "white",
            "ticks": ""
           },
           "baxis": {
            "gridcolor": "white",
            "linecolor": "white",
            "ticks": ""
           },
           "bgcolor": "#E5ECF6",
           "caxis": {
            "gridcolor": "white",
            "linecolor": "white",
            "ticks": ""
           }
          },
          "title": {
           "x": 0.05
          },
          "xaxis": {
           "automargin": true,
           "gridcolor": "white",
           "linecolor": "white",
           "ticks": "",
           "title": {
            "standoff": 15
           },
           "zerolinecolor": "white",
           "zerolinewidth": 2
          },
          "yaxis": {
           "automargin": true,
           "gridcolor": "white",
           "linecolor": "white",
           "ticks": "",
           "title": {
            "standoff": 15
           },
           "zerolinecolor": "white",
           "zerolinewidth": 2
          }
         }
        },
        "title": {
         "text": "Hyperparameter Importances"
        },
        "xaxis": {
         "title": {
          "text": "Importance for Objective Value"
         }
        },
        "yaxis": {
         "title": {
          "text": "Hyperparameter"
         }
        }
       }
      },
      "text/html": [
       "<div>                            <div id=\"518c00b4-9a44-45b3-920f-b0421f02c436\" class=\"plotly-graph-div\" style=\"height:525px; width:100%;\"></div>            <script type=\"text/javascript\">                require([\"plotly\"], function(Plotly) {                    window.PLOTLYENV=window.PLOTLYENV || {};                                    if (document.getElementById(\"518c00b4-9a44-45b3-920f-b0421f02c436\")) {                    Plotly.newPlot(                        \"518c00b4-9a44-45b3-920f-b0421f02c436\",                        [{\"cliponaxis\":false,\"hovertemplate\":[\"criterion (CategoricalDistribution): 0.017096009634886847<extra></extra>\",\"n_estimators (IntDistribution): 0.03794890396345828<extra></extra>\",\"max_depth (IntDistribution): 0.9449550864016549<extra></extra>\"],\"marker\":{\"color\":\"rgb(66,146,198)\"},\"orientation\":\"h\",\"text\":[\"0.02\",\"0.04\",\"0.94\"],\"textposition\":\"outside\",\"x\":[0.017096009634886847,0.03794890396345828,0.9449550864016549],\"y\":[\"criterion\",\"n_estimators\",\"max_depth\"],\"type\":\"bar\"}],                        {\"showlegend\":false,\"title\":{\"text\":\"Hyperparameter Importances\"},\"xaxis\":{\"title\":{\"text\":\"Importance for Objective Value\"}},\"yaxis\":{\"title\":{\"text\":\"Hyperparameter\"}},\"template\":{\"data\":{\"histogram2dcontour\":[{\"type\":\"histogram2dcontour\",\"colorbar\":{\"outlinewidth\":0,\"ticks\":\"\"},\"colorscale\":[[0.0,\"#0d0887\"],[0.1111111111111111,\"#46039f\"],[0.2222222222222222,\"#7201a8\"],[0.3333333333333333,\"#9c179e\"],[0.4444444444444444,\"#bd3786\"],[0.5555555555555556,\"#d8576b\"],[0.6666666666666666,\"#ed7953\"],[0.7777777777777778,\"#fb9f3a\"],[0.8888888888888888,\"#fdca26\"],[1.0,\"#f0f921\"]]}],\"choropleth\":[{\"type\":\"choropleth\",\"colorbar\":{\"outlinewidth\":0,\"ticks\":\"\"}}],\"histogram2d\":[{\"type\":\"histogram2d\",\"colorbar\":{\"outlinewidth\":0,\"ticks\":\"\"},\"colorscale\":[[0.0,\"#0d0887\"],[0.1111111111111111,\"#46039f\"],[0.2222222222222222,\"#7201a8\"],[0.3333333333333333,\"#9c179e\"],[0.4444444444444444,\"#bd3786\"],[0.5555555555555556,\"#d8576b\"],[0.6666666666666666,\"#ed7953\"],[0.7777777777777778,\"#fb9f3a\"],[0.8888888888888888,\"#fdca26\"],[1.0,\"#f0f921\"]]}],\"heatmap\":[{\"type\":\"heatmap\",\"colorbar\":{\"outlinewidth\":0,\"ticks\":\"\"},\"colorscale\":[[0.0,\"#0d0887\"],[0.1111111111111111,\"#46039f\"],[0.2222222222222222,\"#7201a8\"],[0.3333333333333333,\"#9c179e\"],[0.4444444444444444,\"#bd3786\"],[0.5555555555555556,\"#d8576b\"],[0.6666666666666666,\"#ed7953\"],[0.7777777777777778,\"#fb9f3a\"],[0.8888888888888888,\"#fdca26\"],[1.0,\"#f0f921\"]]}],\"heatmapgl\":[{\"type\":\"heatmapgl\",\"colorbar\":{\"outlinewidth\":0,\"ticks\":\"\"},\"colorscale\":[[0.0,\"#0d0887\"],[0.1111111111111111,\"#46039f\"],[0.2222222222222222,\"#7201a8\"],[0.3333333333333333,\"#9c179e\"],[0.4444444444444444,\"#bd3786\"],[0.5555555555555556,\"#d8576b\"],[0.6666666666666666,\"#ed7953\"],[0.7777777777777778,\"#fb9f3a\"],[0.8888888888888888,\"#fdca26\"],[1.0,\"#f0f921\"]]}],\"contourcarpet\":[{\"type\":\"contourcarpet\",\"colorbar\":{\"outlinewidth\":0,\"ticks\":\"\"}}],\"contour\":[{\"type\":\"contour\",\"colorbar\":{\"outlinewidth\":0,\"ticks\":\"\"},\"colorscale\":[[0.0,\"#0d0887\"],[0.1111111111111111,\"#46039f\"],[0.2222222222222222,\"#7201a8\"],[0.3333333333333333,\"#9c179e\"],[0.4444444444444444,\"#bd3786\"],[0.5555555555555556,\"#d8576b\"],[0.6666666666666666,\"#ed7953\"],[0.7777777777777778,\"#fb9f3a\"],[0.8888888888888888,\"#fdca26\"],[1.0,\"#f0f921\"]]}],\"surface\":[{\"type\":\"surface\",\"colorbar\":{\"outlinewidth\":0,\"ticks\":\"\"},\"colorscale\":[[0.0,\"#0d0887\"],[0.1111111111111111,\"#46039f\"],[0.2222222222222222,\"#7201a8\"],[0.3333333333333333,\"#9c179e\"],[0.4444444444444444,\"#bd3786\"],[0.5555555555555556,\"#d8576b\"],[0.6666666666666666,\"#ed7953\"],[0.7777777777777778,\"#fb9f3a\"],[0.8888888888888888,\"#fdca26\"],[1.0,\"#f0f921\"]]}],\"mesh3d\":[{\"type\":\"mesh3d\",\"colorbar\":{\"outlinewidth\":0,\"ticks\":\"\"}}],\"scatter\":[{\"fillpattern\":{\"fillmode\":\"overlay\",\"size\":10,\"solidity\":0.2},\"type\":\"scatter\"}],\"parcoords\":[{\"type\":\"parcoords\",\"line\":{\"colorbar\":{\"outlinewidth\":0,\"ticks\":\"\"}}}],\"scatterpolargl\":[{\"type\":\"scatterpolargl\",\"marker\":{\"colorbar\":{\"outlinewidth\":0,\"ticks\":\"\"}}}],\"bar\":[{\"error_x\":{\"color\":\"#2a3f5f\"},\"error_y\":{\"color\":\"#2a3f5f\"},\"marker\":{\"line\":{\"color\":\"#E5ECF6\",\"width\":0.5},\"pattern\":{\"fillmode\":\"overlay\",\"size\":10,\"solidity\":0.2}},\"type\":\"bar\"}],\"scattergeo\":[{\"type\":\"scattergeo\",\"marker\":{\"colorbar\":{\"outlinewidth\":0,\"ticks\":\"\"}}}],\"scatterpolar\":[{\"type\":\"scatterpolar\",\"marker\":{\"colorbar\":{\"outlinewidth\":0,\"ticks\":\"\"}}}],\"histogram\":[{\"marker\":{\"pattern\":{\"fillmode\":\"overlay\",\"size\":10,\"solidity\":0.2}},\"type\":\"histogram\"}],\"scattergl\":[{\"type\":\"scattergl\",\"marker\":{\"colorbar\":{\"outlinewidth\":0,\"ticks\":\"\"}}}],\"scatter3d\":[{\"type\":\"scatter3d\",\"line\":{\"colorbar\":{\"outlinewidth\":0,\"ticks\":\"\"}},\"marker\":{\"colorbar\":{\"outlinewidth\":0,\"ticks\":\"\"}}}],\"scattermapbox\":[{\"type\":\"scattermapbox\",\"marker\":{\"colorbar\":{\"outlinewidth\":0,\"ticks\":\"\"}}}],\"scatterternary\":[{\"type\":\"scatterternary\",\"marker\":{\"colorbar\":{\"outlinewidth\":0,\"ticks\":\"\"}}}],\"scattercarpet\":[{\"type\":\"scattercarpet\",\"marker\":{\"colorbar\":{\"outlinewidth\":0,\"ticks\":\"\"}}}],\"carpet\":[{\"aaxis\":{\"endlinecolor\":\"#2a3f5f\",\"gridcolor\":\"white\",\"linecolor\":\"white\",\"minorgridcolor\":\"white\",\"startlinecolor\":\"#2a3f5f\"},\"baxis\":{\"endlinecolor\":\"#2a3f5f\",\"gridcolor\":\"white\",\"linecolor\":\"white\",\"minorgridcolor\":\"white\",\"startlinecolor\":\"#2a3f5f\"},\"type\":\"carpet\"}],\"table\":[{\"cells\":{\"fill\":{\"color\":\"#EBF0F8\"},\"line\":{\"color\":\"white\"}},\"header\":{\"fill\":{\"color\":\"#C8D4E3\"},\"line\":{\"color\":\"white\"}},\"type\":\"table\"}],\"barpolar\":[{\"marker\":{\"line\":{\"color\":\"#E5ECF6\",\"width\":0.5},\"pattern\":{\"fillmode\":\"overlay\",\"size\":10,\"solidity\":0.2}},\"type\":\"barpolar\"}],\"pie\":[{\"automargin\":true,\"type\":\"pie\"}]},\"layout\":{\"autotypenumbers\":\"strict\",\"colorway\":[\"#636efa\",\"#EF553B\",\"#00cc96\",\"#ab63fa\",\"#FFA15A\",\"#19d3f3\",\"#FF6692\",\"#B6E880\",\"#FF97FF\",\"#FECB52\"],\"font\":{\"color\":\"#2a3f5f\"},\"hovermode\":\"closest\",\"hoverlabel\":{\"align\":\"left\"},\"paper_bgcolor\":\"white\",\"plot_bgcolor\":\"#E5ECF6\",\"polar\":{\"bgcolor\":\"#E5ECF6\",\"angularaxis\":{\"gridcolor\":\"white\",\"linecolor\":\"white\",\"ticks\":\"\"},\"radialaxis\":{\"gridcolor\":\"white\",\"linecolor\":\"white\",\"ticks\":\"\"}},\"ternary\":{\"bgcolor\":\"#E5ECF6\",\"aaxis\":{\"gridcolor\":\"white\",\"linecolor\":\"white\",\"ticks\":\"\"},\"baxis\":{\"gridcolor\":\"white\",\"linecolor\":\"white\",\"ticks\":\"\"},\"caxis\":{\"gridcolor\":\"white\",\"linecolor\":\"white\",\"ticks\":\"\"}},\"coloraxis\":{\"colorbar\":{\"outlinewidth\":0,\"ticks\":\"\"}},\"colorscale\":{\"sequential\":[[0.0,\"#0d0887\"],[0.1111111111111111,\"#46039f\"],[0.2222222222222222,\"#7201a8\"],[0.3333333333333333,\"#9c179e\"],[0.4444444444444444,\"#bd3786\"],[0.5555555555555556,\"#d8576b\"],[0.6666666666666666,\"#ed7953\"],[0.7777777777777778,\"#fb9f3a\"],[0.8888888888888888,\"#fdca26\"],[1.0,\"#f0f921\"]],\"sequentialminus\":[[0.0,\"#0d0887\"],[0.1111111111111111,\"#46039f\"],[0.2222222222222222,\"#7201a8\"],[0.3333333333333333,\"#9c179e\"],[0.4444444444444444,\"#bd3786\"],[0.5555555555555556,\"#d8576b\"],[0.6666666666666666,\"#ed7953\"],[0.7777777777777778,\"#fb9f3a\"],[0.8888888888888888,\"#fdca26\"],[1.0,\"#f0f921\"]],\"diverging\":[[0,\"#8e0152\"],[0.1,\"#c51b7d\"],[0.2,\"#de77ae\"],[0.3,\"#f1b6da\"],[0.4,\"#fde0ef\"],[0.5,\"#f7f7f7\"],[0.6,\"#e6f5d0\"],[0.7,\"#b8e186\"],[0.8,\"#7fbc41\"],[0.9,\"#4d9221\"],[1,\"#276419\"]]},\"xaxis\":{\"gridcolor\":\"white\",\"linecolor\":\"white\",\"ticks\":\"\",\"title\":{\"standoff\":15},\"zerolinecolor\":\"white\",\"automargin\":true,\"zerolinewidth\":2},\"yaxis\":{\"gridcolor\":\"white\",\"linecolor\":\"white\",\"ticks\":\"\",\"title\":{\"standoff\":15},\"zerolinecolor\":\"white\",\"automargin\":true,\"zerolinewidth\":2},\"scene\":{\"xaxis\":{\"backgroundcolor\":\"#E5ECF6\",\"gridcolor\":\"white\",\"linecolor\":\"white\",\"showbackground\":true,\"ticks\":\"\",\"zerolinecolor\":\"white\",\"gridwidth\":2},\"yaxis\":{\"backgroundcolor\":\"#E5ECF6\",\"gridcolor\":\"white\",\"linecolor\":\"white\",\"showbackground\":true,\"ticks\":\"\",\"zerolinecolor\":\"white\",\"gridwidth\":2},\"zaxis\":{\"backgroundcolor\":\"#E5ECF6\",\"gridcolor\":\"white\",\"linecolor\":\"white\",\"showbackground\":true,\"ticks\":\"\",\"zerolinecolor\":\"white\",\"gridwidth\":2}},\"shapedefaults\":{\"line\":{\"color\":\"#2a3f5f\"}},\"annotationdefaults\":{\"arrowcolor\":\"#2a3f5f\",\"arrowhead\":0,\"arrowwidth\":1},\"geo\":{\"bgcolor\":\"white\",\"landcolor\":\"#E5ECF6\",\"subunitcolor\":\"white\",\"showland\":true,\"showlakes\":true,\"lakecolor\":\"white\"},\"title\":{\"x\":0.05},\"mapbox\":{\"style\":\"light\"}}}},                        {\"responsive\": true}                    ).then(function(){\n",
       "                            \n",
       "var gd = document.getElementById('518c00b4-9a44-45b3-920f-b0421f02c436');\n",
       "var x = new MutationObserver(function (mutations, observer) {{\n",
       "        var display = window.getComputedStyle(gd).display;\n",
       "        if (!display || display === 'none') {{\n",
       "            console.log([gd, 'removed!']);\n",
       "            Plotly.purge(gd);\n",
       "            observer.disconnect();\n",
       "        }}\n",
       "}});\n",
       "\n",
       "// Listen for the removal of the full notebook cells\n",
       "var notebookContainer = gd.closest('#notebook-container');\n",
       "if (notebookContainer) {{\n",
       "    x.observe(notebookContainer, {childList: true});\n",
       "}}\n",
       "\n",
       "// Listen for the clearing of the current output cell\n",
       "var outputEl = gd.closest('.output');\n",
       "if (outputEl) {{\n",
       "    x.observe(outputEl, {childList: true});\n",
       "}}\n",
       "\n",
       "                        })                };                });            </script>        </div>"
      ]
     },
     "metadata": {},
     "output_type": "display_data"
    }
   ],
   "source": [
    "# Plot hyperparameter importances.\n",
    "\n",
    "optuna.visualization.plot_param_importances(study)"
   ]
  },
  {
   "cell_type": "code",
   "execution_count": 52,
   "id": "bac6aef4",
   "metadata": {},
   "outputs": [
    {
     "data": {
      "text/plain": [
       "'randomForest_optimization'"
      ]
     },
     "execution_count": 52,
     "metadata": {},
     "output_type": "execute_result"
    }
   ],
   "source": [
    "# save your hyperparameter searches \n",
    "#print the study name\n",
    "study.study_name "
   ]
  },
  {
   "cell_type": "code",
   "execution_count": 17,
   "id": "6b17cbd3",
   "metadata": {},
   "outputs": [],
   "source": [
    "# import packages \n",
    "import numpy as np \n",
    "import pandas as pd \n",
    "from sklearn.ensemble import RandomForestClassifier \n",
    "from sklearn import metrics \n",
    "from sklearn.model_selection import GridSearchCV\n",
    "from sklearn.preprocessing import StandardScaler \n",
    "\n",
    "import warnings\n",
    "warnings.filterwarnings(\"ignore\")"
   ]
  },
  {
   "cell_type": "code",
   "execution_count": 18,
   "id": "a518a764",
   "metadata": {},
   "outputs": [],
   "source": [
    "data=pd.read_csv(\"Full_data.csv\")\n"
   ]
  },
  {
   "cell_type": "code",
   "execution_count": 19,
   "id": "2e09224e",
   "metadata": {},
   "outputs": [
    {
     "data": {
      "text/html": [
       "<div>\n",
       "<style scoped>\n",
       "    .dataframe tbody tr th:only-of-type {\n",
       "        vertical-align: middle;\n",
       "    }\n",
       "\n",
       "    .dataframe tbody tr th {\n",
       "        vertical-align: top;\n",
       "    }\n",
       "\n",
       "    .dataframe thead th {\n",
       "        text-align: right;\n",
       "    }\n",
       "</style>\n",
       "<table border=\"1\" class=\"dataframe\">\n",
       "  <thead>\n",
       "    <tr style=\"text-align: right;\">\n",
       "      <th></th>\n",
       "      <th>lat</th>\n",
       "      <th>lng</th>\n",
       "      <th>name</th>\n",
       "      <th>vicinity</th>\n",
       "      <th>Type1</th>\n",
       "      <th>Type2</th>\n",
       "      <th>Type3</th>\n",
       "      <th>Type4</th>\n",
       "      <th>Type5</th>\n",
       "      <th>Type6</th>\n",
       "      <th>rating</th>\n",
       "      <th>user_ratings_total</th>\n",
       "      <th>price_level</th>\n",
       "    </tr>\n",
       "  </thead>\n",
       "  <tbody>\n",
       "    <tr>\n",
       "      <th>0</th>\n",
       "      <td>41.270548</td>\n",
       "      <td>-72.946971</td>\n",
       "      <td>West Haven</td>\n",
       "      <td>West Haven</td>\n",
       "      <td>accounting</td>\n",
       "      <td>finance</td>\n",
       "      <td>point_of_interest</td>\n",
       "      <td>establishment</td>\n",
       "      <td>NaN</td>\n",
       "      <td>NaN</td>\n",
       "      <td>0.0</td>\n",
       "      <td>0</td>\n",
       "      <td>0</td>\n",
       "    </tr>\n",
       "    <tr>\n",
       "      <th>1</th>\n",
       "      <td>41.233086</td>\n",
       "      <td>-73.026043</td>\n",
       "      <td>Hilton Garden Inn Milford</td>\n",
       "      <td>291 Old Gate Lane, Milford</td>\n",
       "      <td>accounting</td>\n",
       "      <td>finance</td>\n",
       "      <td>local_government_office</td>\n",
       "      <td>point_of_interest</td>\n",
       "      <td>establishment</td>\n",
       "      <td>NaN</td>\n",
       "      <td>4.0</td>\n",
       "      <td>813</td>\n",
       "      <td>0</td>\n",
       "    </tr>\n",
       "    <tr>\n",
       "      <th>2</th>\n",
       "      <td>41.231155</td>\n",
       "      <td>-73.029880</td>\n",
       "      <td>Hyatt Place Milford / New Haven</td>\n",
       "      <td>190 Old Gate Lane, Milford</td>\n",
       "      <td>accounting</td>\n",
       "      <td>local_government_office</td>\n",
       "      <td>finance</td>\n",
       "      <td>point_of_interest</td>\n",
       "      <td>establishment</td>\n",
       "      <td>NaN</td>\n",
       "      <td>4.0</td>\n",
       "      <td>664</td>\n",
       "      <td>0</td>\n",
       "    </tr>\n",
       "    <tr>\n",
       "      <th>3</th>\n",
       "      <td>41.255831</td>\n",
       "      <td>-73.001768</td>\n",
       "      <td>Courtyard by Marriott New Haven Orange/Milford</td>\n",
       "      <td>136 Marsh Hill Road, Orange</td>\n",
       "      <td>accounting</td>\n",
       "      <td>finance</td>\n",
       "      <td>point_of_interest</td>\n",
       "      <td>establishment</td>\n",
       "      <td>NaN</td>\n",
       "      <td>NaN</td>\n",
       "      <td>4.0</td>\n",
       "      <td>499</td>\n",
       "      <td>0</td>\n",
       "    </tr>\n",
       "    <tr>\n",
       "      <th>4</th>\n",
       "      <td>41.223208</td>\n",
       "      <td>-73.077087</td>\n",
       "      <td>Hampton Inn Milford</td>\n",
       "      <td>129 Plains Road, Milford</td>\n",
       "      <td>accounting</td>\n",
       "      <td>finance</td>\n",
       "      <td>point_of_interest</td>\n",
       "      <td>establishment</td>\n",
       "      <td>NaN</td>\n",
       "      <td>NaN</td>\n",
       "      <td>3.8</td>\n",
       "      <td>824</td>\n",
       "      <td>0</td>\n",
       "    </tr>\n",
       "  </tbody>\n",
       "</table>\n",
       "</div>"
      ],
      "text/plain": [
       "         lat        lng                                            name  \\\n",
       "0  41.270548 -72.946971                                      West Haven   \n",
       "1  41.233086 -73.026043                       Hilton Garden Inn Milford   \n",
       "2  41.231155 -73.029880                 Hyatt Place Milford / New Haven   \n",
       "3  41.255831 -73.001768  Courtyard by Marriott New Haven Orange/Milford   \n",
       "4  41.223208 -73.077087                             Hampton Inn Milford   \n",
       "\n",
       "                      vicinity       Type1                    Type2  \\\n",
       "0                   West Haven  accounting                  finance   \n",
       "1   291 Old Gate Lane, Milford  accounting                  finance   \n",
       "2   190 Old Gate Lane, Milford  accounting  local_government_office   \n",
       "3  136 Marsh Hill Road, Orange  accounting                  finance   \n",
       "4     129 Plains Road, Milford  accounting                  finance   \n",
       "\n",
       "                     Type3              Type4          Type5 Type6  rating  \\\n",
       "0        point_of_interest      establishment            NaN   NaN     0.0   \n",
       "1  local_government_office  point_of_interest  establishment   NaN     4.0   \n",
       "2                  finance  point_of_interest  establishment   NaN     4.0   \n",
       "3        point_of_interest      establishment            NaN   NaN     4.0   \n",
       "4        point_of_interest      establishment            NaN   NaN     3.8   \n",
       "\n",
       "   user_ratings_total  price_level  \n",
       "0                   0            0  \n",
       "1                 813            0  \n",
       "2                 664            0  \n",
       "3                 499            0  \n",
       "4                 824            0  "
      ]
     },
     "execution_count": 19,
     "metadata": {},
     "output_type": "execute_result"
    }
   ],
   "source": [
    "\n",
    "data.head()"
   ]
  },
  {
   "cell_type": "code",
   "execution_count": 21,
   "id": "a069c405",
   "metadata": {},
   "outputs": [
    {
     "data": {
      "text/plain": [
       "(2280, 13)"
      ]
     },
     "execution_count": 21,
     "metadata": {},
     "output_type": "execute_result"
    }
   ],
   "source": [
    "data.shape"
   ]
  },
  {
   "cell_type": "code",
   "execution_count": 22,
   "id": "baf53623",
   "metadata": {},
   "outputs": [
    {
     "data": {
      "text/plain": [
       "['lat',\n",
       " 'lng',\n",
       " 'name',\n",
       " 'vicinity',\n",
       " 'Type1',\n",
       " 'Type2',\n",
       " 'Type3',\n",
       " 'Type4',\n",
       " 'Type5',\n",
       " 'Type6',\n",
       " 'rating',\n",
       " 'user_ratings_total',\n",
       " 'price_level']"
      ]
     },
     "execution_count": 22,
     "metadata": {},
     "output_type": "execute_result"
    }
   ],
   "source": [
    "list(data.columns)"
   ]
  },
  {
   "cell_type": "code",
   "execution_count": 23,
   "id": "3e66dcef",
   "metadata": {},
   "outputs": [
    {
     "data": {
      "text/html": [
       "<div>\n",
       "<style scoped>\n",
       "    .dataframe tbody tr th:only-of-type {\n",
       "        vertical-align: middle;\n",
       "    }\n",
       "\n",
       "    .dataframe tbody tr th {\n",
       "        vertical-align: top;\n",
       "    }\n",
       "\n",
       "    .dataframe thead th {\n",
       "        text-align: right;\n",
       "    }\n",
       "</style>\n",
       "<table border=\"1\" class=\"dataframe\">\n",
       "  <thead>\n",
       "    <tr style=\"text-align: right;\">\n",
       "      <th></th>\n",
       "      <th>lat</th>\n",
       "      <th>lng</th>\n",
       "      <th>rating</th>\n",
       "      <th>user_ratings_total</th>\n",
       "      <th>price_level</th>\n",
       "    </tr>\n",
       "  </thead>\n",
       "  <tbody>\n",
       "    <tr>\n",
       "      <th>count</th>\n",
       "      <td>2280.000000</td>\n",
       "      <td>2280.000000</td>\n",
       "      <td>2280.000000</td>\n",
       "      <td>2280.000000</td>\n",
       "      <td>2280.000000</td>\n",
       "    </tr>\n",
       "    <tr>\n",
       "      <th>mean</th>\n",
       "      <td>41.435773</td>\n",
       "      <td>-72.783370</td>\n",
       "      <td>2.746272</td>\n",
       "      <td>344.301316</td>\n",
       "      <td>0.305263</td>\n",
       "    </tr>\n",
       "    <tr>\n",
       "      <th>std</th>\n",
       "      <td>0.217592</td>\n",
       "      <td>0.353734</td>\n",
       "      <td>2.029706</td>\n",
       "      <td>918.820560</td>\n",
       "      <td>0.741054</td>\n",
       "    </tr>\n",
       "    <tr>\n",
       "      <th>min</th>\n",
       "      <td>41.053430</td>\n",
       "      <td>-73.557534</td>\n",
       "      <td>0.000000</td>\n",
       "      <td>0.000000</td>\n",
       "      <td>0.000000</td>\n",
       "    </tr>\n",
       "    <tr>\n",
       "      <th>25%</th>\n",
       "      <td>41.284400</td>\n",
       "      <td>-72.957610</td>\n",
       "      <td>0.000000</td>\n",
       "      <td>0.000000</td>\n",
       "      <td>0.000000</td>\n",
       "    </tr>\n",
       "    <tr>\n",
       "      <th>50%</th>\n",
       "      <td>41.316789</td>\n",
       "      <td>-72.924454</td>\n",
       "      <td>3.800000</td>\n",
       "      <td>13.000000</td>\n",
       "      <td>0.000000</td>\n",
       "    </tr>\n",
       "    <tr>\n",
       "      <th>75%</th>\n",
       "      <td>41.659346</td>\n",
       "      <td>-72.662967</td>\n",
       "      <td>4.500000</td>\n",
       "      <td>242.000000</td>\n",
       "      <td>0.000000</td>\n",
       "    </tr>\n",
       "    <tr>\n",
       "      <th>max</th>\n",
       "      <td>41.868338</td>\n",
       "      <td>-71.833415</td>\n",
       "      <td>5.000000</td>\n",
       "      <td>13335.000000</td>\n",
       "      <td>4.000000</td>\n",
       "    </tr>\n",
       "  </tbody>\n",
       "</table>\n",
       "</div>"
      ],
      "text/plain": [
       "               lat          lng       rating  user_ratings_total  price_level\n",
       "count  2280.000000  2280.000000  2280.000000         2280.000000  2280.000000\n",
       "mean     41.435773   -72.783370     2.746272          344.301316     0.305263\n",
       "std       0.217592     0.353734     2.029706          918.820560     0.741054\n",
       "min      41.053430   -73.557534     0.000000            0.000000     0.000000\n",
       "25%      41.284400   -72.957610     0.000000            0.000000     0.000000\n",
       "50%      41.316789   -72.924454     3.800000           13.000000     0.000000\n",
       "75%      41.659346   -72.662967     4.500000          242.000000     0.000000\n",
       "max      41.868338   -71.833415     5.000000        13335.000000     4.000000"
      ]
     },
     "execution_count": 23,
     "metadata": {},
     "output_type": "execute_result"
    }
   ],
   "source": [
    "data.describe()"
   ]
  },
  {
   "cell_type": "code",
   "execution_count": 24,
   "id": "1f574b71",
   "metadata": {},
   "outputs": [
    {
     "name": "stdout",
     "output_type": "stream",
     "text": [
      "<class 'pandas.core.frame.DataFrame'>\n",
      "RangeIndex: 2280 entries, 0 to 2279\n",
      "Data columns (total 13 columns):\n",
      " #   Column              Non-Null Count  Dtype  \n",
      "---  ------              --------------  -----  \n",
      " 0   lat                 2280 non-null   float64\n",
      " 1   lng                 2280 non-null   float64\n",
      " 2   name                2280 non-null   object \n",
      " 3   vicinity            2280 non-null   object \n",
      " 4   Type1               2280 non-null   object \n",
      " 5   Type2               2279 non-null   object \n",
      " 6   Type3               1998 non-null   object \n",
      " 7   Type4               1392 non-null   object \n",
      " 8   Type5               401 non-null    object \n",
      " 9   Type6               163 non-null    object \n",
      " 10  rating              2280 non-null   float64\n",
      " 11  user_ratings_total  2280 non-null   int64  \n",
      " 12  price_level         2280 non-null   int64  \n",
      "dtypes: float64(3), int64(2), object(8)\n",
      "memory usage: 231.7+ KB\n"
     ]
    }
   ],
   "source": [
    "data.info()"
   ]
  },
  {
   "cell_type": "code",
   "execution_count": 25,
   "id": "3c113f03",
   "metadata": {},
   "outputs": [
    {
     "data": {
      "text/plain": [
       "lat                      0\n",
       "lng                      0\n",
       "name                     0\n",
       "vicinity                 0\n",
       "Type1                    0\n",
       "Type2                    1\n",
       "Type3                  282\n",
       "Type4                  888\n",
       "Type5                 1879\n",
       "Type6                 2117\n",
       "rating                   0\n",
       "user_ratings_total       0\n",
       "price_level              0\n",
       "dtype: int64"
      ]
     },
     "execution_count": 25,
     "metadata": {},
     "output_type": "execute_result"
    }
   ],
   "source": [
    "data.isnull().sum()"
   ]
  },
  {
   "cell_type": "code",
   "execution_count": 26,
   "id": "0df4c069",
   "metadata": {},
   "outputs": [],
   "source": [
    "\n",
    "X = data[['rating', 'user_ratings_total', ]]\n",
    "y = data['price_level']"
   ]
  },
  {
   "cell_type": "code",
   "execution_count": 27,
   "id": "734ae790",
   "metadata": {},
   "outputs": [],
   "source": [
    "# standardize the feature variables \n",
    "scaler = StandardScaler()\n",
    "X_scaled = scaler.fit_transform(X)"
   ]
  },
  {
   "cell_type": "code",
   "execution_count": 28,
   "id": "f1372c2f",
   "metadata": {},
   "outputs": [],
   "source": [
    "#Create classifier \n",
    "rf_classifier = RandomForestClassifier(n_jobs=-1) "
   ]
  },
  {
   "cell_type": "code",
   "execution_count": 29,
   "id": "aa12d763",
   "metadata": {},
   "outputs": [],
   "source": [
    "# set different parameter values to tune\n",
    "param_grid = {\n",
    "    \"n_estimators\": [100, 200, 300, 400],\n",
    "    \"max_depth\": [1, 3, 5, 7, 9],\n",
    "    \"criterion\": [\"gini\", \"entropy\"],\n",
    "}"
   ]
  },
  {
   "cell_type": "code",
   "execution_count": 31,
   "id": "815f2aaa",
   "metadata": {},
   "outputs": [
    {
     "name": "stdout",
     "output_type": "stream",
     "text": [
      "Fitting 5 folds for each of 40 candidates, totalling 200 fits\n",
      "[CV] END ......criterion=gini, max_depth=1, n_estimators=100; total time=   3.4s\n",
      "[CV] END ......criterion=gini, max_depth=1, n_estimators=100; total time=   0.1s\n",
      "[CV] END ......criterion=gini, max_depth=1, n_estimators=100; total time=   0.2s\n",
      "[CV] END ......criterion=gini, max_depth=1, n_estimators=100; total time=   0.1s\n",
      "[CV] END ......criterion=gini, max_depth=1, n_estimators=100; total time=   0.1s\n",
      "[CV] END ......criterion=gini, max_depth=1, n_estimators=200; total time=   0.3s\n",
      "[CV] END ......criterion=gini, max_depth=1, n_estimators=200; total time=   0.4s\n",
      "[CV] END ......criterion=gini, max_depth=1, n_estimators=200; total time=   0.3s\n",
      "[CV] END ......criterion=gini, max_depth=1, n_estimators=200; total time=   0.3s\n",
      "[CV] END ......criterion=gini, max_depth=1, n_estimators=200; total time=   0.3s\n",
      "[CV] END ......criterion=gini, max_depth=1, n_estimators=300; total time=   0.5s\n",
      "[CV] END ......criterion=gini, max_depth=1, n_estimators=300; total time=   0.5s\n",
      "[CV] END ......criterion=gini, max_depth=1, n_estimators=300; total time=   0.6s\n",
      "[CV] END ......criterion=gini, max_depth=1, n_estimators=300; total time=   0.7s\n",
      "[CV] END ......criterion=gini, max_depth=1, n_estimators=300; total time=   0.7s\n",
      "[CV] END ......criterion=gini, max_depth=1, n_estimators=400; total time=   0.8s\n",
      "[CV] END ......criterion=gini, max_depth=1, n_estimators=400; total time=   0.8s\n",
      "[CV] END ......criterion=gini, max_depth=1, n_estimators=400; total time=   0.8s\n",
      "[CV] END ......criterion=gini, max_depth=1, n_estimators=400; total time=   0.8s\n",
      "[CV] END ......criterion=gini, max_depth=1, n_estimators=400; total time=   0.8s\n",
      "[CV] END ......criterion=gini, max_depth=3, n_estimators=100; total time=   0.2s\n",
      "[CV] END ......criterion=gini, max_depth=3, n_estimators=100; total time=   0.2s\n",
      "[CV] END ......criterion=gini, max_depth=3, n_estimators=100; total time=   0.2s\n",
      "[CV] END ......criterion=gini, max_depth=3, n_estimators=100; total time=   0.2s\n",
      "[CV] END ......criterion=gini, max_depth=3, n_estimators=100; total time=   0.2s\n",
      "[CV] END ......criterion=gini, max_depth=3, n_estimators=200; total time=   0.4s\n",
      "[CV] END ......criterion=gini, max_depth=3, n_estimators=200; total time=   0.4s\n",
      "[CV] END ......criterion=gini, max_depth=3, n_estimators=200; total time=   0.4s\n",
      "[CV] END ......criterion=gini, max_depth=3, n_estimators=200; total time=   0.4s\n",
      "[CV] END ......criterion=gini, max_depth=3, n_estimators=200; total time=   0.4s\n",
      "[CV] END ......criterion=gini, max_depth=3, n_estimators=300; total time=   0.6s\n",
      "[CV] END ......criterion=gini, max_depth=3, n_estimators=300; total time=   0.6s\n",
      "[CV] END ......criterion=gini, max_depth=3, n_estimators=300; total time=   0.6s\n",
      "[CV] END ......criterion=gini, max_depth=3, n_estimators=300; total time=   0.7s\n",
      "[CV] END ......criterion=gini, max_depth=3, n_estimators=300; total time=   0.6s\n",
      "[CV] END ......criterion=gini, max_depth=3, n_estimators=400; total time=   0.8s\n",
      "[CV] END ......criterion=gini, max_depth=3, n_estimators=400; total time=   0.7s\n",
      "[CV] END ......criterion=gini, max_depth=3, n_estimators=400; total time=   0.8s\n",
      "[CV] END ......criterion=gini, max_depth=3, n_estimators=400; total time=   0.7s\n",
      "[CV] END ......criterion=gini, max_depth=3, n_estimators=400; total time=   0.7s\n",
      "[CV] END ......criterion=gini, max_depth=5, n_estimators=100; total time=   0.2s\n",
      "[CV] END ......criterion=gini, max_depth=5, n_estimators=100; total time=   0.2s\n",
      "[CV] END ......criterion=gini, max_depth=5, n_estimators=100; total time=   0.2s\n",
      "[CV] END ......criterion=gini, max_depth=5, n_estimators=100; total time=   0.2s\n",
      "[CV] END ......criterion=gini, max_depth=5, n_estimators=100; total time=   0.2s\n",
      "[CV] END ......criterion=gini, max_depth=5, n_estimators=200; total time=   0.4s\n",
      "[CV] END ......criterion=gini, max_depth=5, n_estimators=200; total time=   0.4s\n",
      "[CV] END ......criterion=gini, max_depth=5, n_estimators=200; total time=   0.4s\n",
      "[CV] END ......criterion=gini, max_depth=5, n_estimators=200; total time=   0.3s\n",
      "[CV] END ......criterion=gini, max_depth=5, n_estimators=200; total time=   0.4s\n",
      "[CV] END ......criterion=gini, max_depth=5, n_estimators=300; total time=   0.6s\n",
      "[CV] END ......criterion=gini, max_depth=5, n_estimators=300; total time=   0.6s\n",
      "[CV] END ......criterion=gini, max_depth=5, n_estimators=300; total time=   0.6s\n",
      "[CV] END ......criterion=gini, max_depth=5, n_estimators=300; total time=   0.7s\n",
      "[CV] END ......criterion=gini, max_depth=5, n_estimators=300; total time=   0.7s\n",
      "[CV] END ......criterion=gini, max_depth=5, n_estimators=400; total time=   0.8s\n",
      "[CV] END ......criterion=gini, max_depth=5, n_estimators=400; total time=   0.8s\n",
      "[CV] END ......criterion=gini, max_depth=5, n_estimators=400; total time=   0.8s\n",
      "[CV] END ......criterion=gini, max_depth=5, n_estimators=400; total time=   0.7s\n",
      "[CV] END ......criterion=gini, max_depth=5, n_estimators=400; total time=   0.8s\n",
      "[CV] END ......criterion=gini, max_depth=7, n_estimators=100; total time=   0.2s\n",
      "[CV] END ......criterion=gini, max_depth=7, n_estimators=100; total time=   0.2s\n",
      "[CV] END ......criterion=gini, max_depth=7, n_estimators=100; total time=   0.2s\n",
      "[CV] END ......criterion=gini, max_depth=7, n_estimators=100; total time=   0.2s\n",
      "[CV] END ......criterion=gini, max_depth=7, n_estimators=100; total time=   0.2s\n",
      "[CV] END ......criterion=gini, max_depth=7, n_estimators=200; total time=   0.4s\n",
      "[CV] END ......criterion=gini, max_depth=7, n_estimators=200; total time=   0.4s\n",
      "[CV] END ......criterion=gini, max_depth=7, n_estimators=200; total time=   0.4s\n",
      "[CV] END ......criterion=gini, max_depth=7, n_estimators=200; total time=   0.4s\n",
      "[CV] END ......criterion=gini, max_depth=7, n_estimators=200; total time=   0.4s\n",
      "[CV] END ......criterion=gini, max_depth=7, n_estimators=300; total time=   0.6s\n",
      "[CV] END ......criterion=gini, max_depth=7, n_estimators=300; total time=   0.7s\n",
      "[CV] END ......criterion=gini, max_depth=7, n_estimators=300; total time=   0.6s\n",
      "[CV] END ......criterion=gini, max_depth=7, n_estimators=300; total time=   0.7s\n",
      "[CV] END ......criterion=gini, max_depth=7, n_estimators=300; total time=   0.7s\n",
      "[CV] END ......criterion=gini, max_depth=7, n_estimators=400; total time=   0.8s\n",
      "[CV] END ......criterion=gini, max_depth=7, n_estimators=400; total time=   0.8s\n",
      "[CV] END ......criterion=gini, max_depth=7, n_estimators=400; total time=   0.8s\n",
      "[CV] END ......criterion=gini, max_depth=7, n_estimators=400; total time=   0.9s\n",
      "[CV] END ......criterion=gini, max_depth=7, n_estimators=400; total time=   0.8s\n",
      "[CV] END ......criterion=gini, max_depth=9, n_estimators=100; total time=   0.2s\n",
      "[CV] END ......criterion=gini, max_depth=9, n_estimators=100; total time=   0.3s\n",
      "[CV] END ......criterion=gini, max_depth=9, n_estimators=100; total time=   0.2s\n",
      "[CV] END ......criterion=gini, max_depth=9, n_estimators=100; total time=   0.2s\n",
      "[CV] END ......criterion=gini, max_depth=9, n_estimators=100; total time=   0.2s\n",
      "[CV] END ......criterion=gini, max_depth=9, n_estimators=200; total time=   0.4s\n",
      "[CV] END ......criterion=gini, max_depth=9, n_estimators=200; total time=   0.4s\n",
      "[CV] END ......criterion=gini, max_depth=9, n_estimators=200; total time=   0.4s\n",
      "[CV] END ......criterion=gini, max_depth=9, n_estimators=200; total time=   0.4s\n",
      "[CV] END ......criterion=gini, max_depth=9, n_estimators=200; total time=   0.4s\n",
      "[CV] END ......criterion=gini, max_depth=9, n_estimators=300; total time=   0.5s\n",
      "[CV] END ......criterion=gini, max_depth=9, n_estimators=300; total time=   0.6s\n",
      "[CV] END ......criterion=gini, max_depth=9, n_estimators=300; total time=   0.7s\n",
      "[CV] END ......criterion=gini, max_depth=9, n_estimators=300; total time=   0.7s\n",
      "[CV] END ......criterion=gini, max_depth=9, n_estimators=300; total time=   0.7s\n",
      "[CV] END ......criterion=gini, max_depth=9, n_estimators=400; total time=   0.9s\n",
      "[CV] END ......criterion=gini, max_depth=9, n_estimators=400; total time=   0.7s\n",
      "[CV] END ......criterion=gini, max_depth=9, n_estimators=400; total time=   0.8s\n",
      "[CV] END ......criterion=gini, max_depth=9, n_estimators=400; total time=   0.9s\n",
      "[CV] END ......criterion=gini, max_depth=9, n_estimators=400; total time=   0.8s\n",
      "[CV] END ...criterion=entropy, max_depth=1, n_estimators=100; total time=   0.2s\n"
     ]
    },
    {
     "name": "stdout",
     "output_type": "stream",
     "text": [
      "[CV] END ...criterion=entropy, max_depth=1, n_estimators=100; total time=   0.2s\n",
      "[CV] END ...criterion=entropy, max_depth=1, n_estimators=100; total time=   0.2s\n",
      "[CV] END ...criterion=entropy, max_depth=1, n_estimators=100; total time=   0.2s\n",
      "[CV] END ...criterion=entropy, max_depth=1, n_estimators=100; total time=   0.2s\n",
      "[CV] END ...criterion=entropy, max_depth=1, n_estimators=200; total time=   0.4s\n",
      "[CV] END ...criterion=entropy, max_depth=1, n_estimators=200; total time=   0.4s\n",
      "[CV] END ...criterion=entropy, max_depth=1, n_estimators=200; total time=   0.4s\n",
      "[CV] END ...criterion=entropy, max_depth=1, n_estimators=200; total time=   0.4s\n",
      "[CV] END ...criterion=entropy, max_depth=1, n_estimators=200; total time=   0.4s\n",
      "[CV] END ...criterion=entropy, max_depth=1, n_estimators=300; total time=   0.6s\n",
      "[CV] END ...criterion=entropy, max_depth=1, n_estimators=300; total time=   0.6s\n",
      "[CV] END ...criterion=entropy, max_depth=1, n_estimators=300; total time=   0.7s\n",
      "[CV] END ...criterion=entropy, max_depth=1, n_estimators=300; total time=   0.7s\n",
      "[CV] END ...criterion=entropy, max_depth=1, n_estimators=300; total time=   0.6s\n",
      "[CV] END ...criterion=entropy, max_depth=1, n_estimators=400; total time=   0.8s\n",
      "[CV] END ...criterion=entropy, max_depth=1, n_estimators=400; total time=   0.8s\n",
      "[CV] END ...criterion=entropy, max_depth=1, n_estimators=400; total time=   0.8s\n",
      "[CV] END ...criterion=entropy, max_depth=1, n_estimators=400; total time=   0.8s\n",
      "[CV] END ...criterion=entropy, max_depth=1, n_estimators=400; total time=   0.9s\n",
      "[CV] END ...criterion=entropy, max_depth=3, n_estimators=100; total time=   0.2s\n",
      "[CV] END ...criterion=entropy, max_depth=3, n_estimators=100; total time=   0.2s\n",
      "[CV] END ...criterion=entropy, max_depth=3, n_estimators=100; total time=   0.2s\n",
      "[CV] END ...criterion=entropy, max_depth=3, n_estimators=100; total time=   0.2s\n",
      "[CV] END ...criterion=entropy, max_depth=3, n_estimators=100; total time=   0.2s\n",
      "[CV] END ...criterion=entropy, max_depth=3, n_estimators=200; total time=   0.5s\n",
      "[CV] END ...criterion=entropy, max_depth=3, n_estimators=200; total time=   0.4s\n",
      "[CV] END ...criterion=entropy, max_depth=3, n_estimators=200; total time=   0.4s\n",
      "[CV] END ...criterion=entropy, max_depth=3, n_estimators=200; total time=   0.4s\n",
      "[CV] END ...criterion=entropy, max_depth=3, n_estimators=200; total time=   0.4s\n",
      "[CV] END ...criterion=entropy, max_depth=3, n_estimators=300; total time=   0.6s\n",
      "[CV] END ...criterion=entropy, max_depth=3, n_estimators=300; total time=   0.6s\n",
      "[CV] END ...criterion=entropy, max_depth=3, n_estimators=300; total time=   0.6s\n",
      "[CV] END ...criterion=entropy, max_depth=3, n_estimators=300; total time=   0.6s\n",
      "[CV] END ...criterion=entropy, max_depth=3, n_estimators=300; total time=   0.6s\n",
      "[CV] END ...criterion=entropy, max_depth=3, n_estimators=400; total time=   0.8s\n",
      "[CV] END ...criterion=entropy, max_depth=3, n_estimators=400; total time=   0.7s\n",
      "[CV] END ...criterion=entropy, max_depth=3, n_estimators=400; total time=   0.8s\n",
      "[CV] END ...criterion=entropy, max_depth=3, n_estimators=400; total time=   0.7s\n",
      "[CV] END ...criterion=entropy, max_depth=3, n_estimators=400; total time=   0.8s\n",
      "[CV] END ...criterion=entropy, max_depth=5, n_estimators=100; total time=   0.2s\n",
      "[CV] END ...criterion=entropy, max_depth=5, n_estimators=100; total time=   0.2s\n",
      "[CV] END ...criterion=entropy, max_depth=5, n_estimators=100; total time=   0.2s\n",
      "[CV] END ...criterion=entropy, max_depth=5, n_estimators=100; total time=   0.2s\n",
      "[CV] END ...criterion=entropy, max_depth=5, n_estimators=100; total time=   0.2s\n",
      "[CV] END ...criterion=entropy, max_depth=5, n_estimators=200; total time=   0.4s\n",
      "[CV] END ...criterion=entropy, max_depth=5, n_estimators=200; total time=   0.5s\n",
      "[CV] END ...criterion=entropy, max_depth=5, n_estimators=200; total time=   0.4s\n",
      "[CV] END ...criterion=entropy, max_depth=5, n_estimators=200; total time=   0.4s\n",
      "[CV] END ...criterion=entropy, max_depth=5, n_estimators=200; total time=   0.4s\n",
      "[CV] END ...criterion=entropy, max_depth=5, n_estimators=300; total time=   0.7s\n",
      "[CV] END ...criterion=entropy, max_depth=5, n_estimators=300; total time=   0.6s\n",
      "[CV] END ...criterion=entropy, max_depth=5, n_estimators=300; total time=   0.6s\n",
      "[CV] END ...criterion=entropy, max_depth=5, n_estimators=300; total time=   0.7s\n",
      "[CV] END ...criterion=entropy, max_depth=5, n_estimators=300; total time=   0.7s\n",
      "[CV] END ...criterion=entropy, max_depth=5, n_estimators=400; total time=   0.8s\n",
      "[CV] END ...criterion=entropy, max_depth=5, n_estimators=400; total time=   0.8s\n",
      "[CV] END ...criterion=entropy, max_depth=5, n_estimators=400; total time=   0.8s\n",
      "[CV] END ...criterion=entropy, max_depth=5, n_estimators=400; total time=   0.8s\n",
      "[CV] END ...criterion=entropy, max_depth=5, n_estimators=400; total time=   0.8s\n",
      "[CV] END ...criterion=entropy, max_depth=7, n_estimators=100; total time=   0.2s\n",
      "[CV] END ...criterion=entropy, max_depth=7, n_estimators=100; total time=   0.2s\n",
      "[CV] END ...criterion=entropy, max_depth=7, n_estimators=100; total time=   0.2s\n",
      "[CV] END ...criterion=entropy, max_depth=7, n_estimators=100; total time=   0.2s\n",
      "[CV] END ...criterion=entropy, max_depth=7, n_estimators=100; total time=   0.2s\n",
      "[CV] END ...criterion=entropy, max_depth=7, n_estimators=200; total time=   0.4s\n",
      "[CV] END ...criterion=entropy, max_depth=7, n_estimators=200; total time=   0.4s\n",
      "[CV] END ...criterion=entropy, max_depth=7, n_estimators=200; total time=   0.4s\n",
      "[CV] END ...criterion=entropy, max_depth=7, n_estimators=200; total time=   0.4s\n",
      "[CV] END ...criterion=entropy, max_depth=7, n_estimators=200; total time=   0.4s\n",
      "[CV] END ...criterion=entropy, max_depth=7, n_estimators=300; total time=   0.7s\n",
      "[CV] END ...criterion=entropy, max_depth=7, n_estimators=300; total time=   0.7s\n",
      "[CV] END ...criterion=entropy, max_depth=7, n_estimators=300; total time=   0.6s\n",
      "[CV] END ...criterion=entropy, max_depth=7, n_estimators=300; total time=   0.7s\n",
      "[CV] END ...criterion=entropy, max_depth=7, n_estimators=300; total time=   0.7s\n",
      "[CV] END ...criterion=entropy, max_depth=7, n_estimators=400; total time=   0.8s\n",
      "[CV] END ...criterion=entropy, max_depth=7, n_estimators=400; total time=   0.8s\n",
      "[CV] END ...criterion=entropy, max_depth=7, n_estimators=400; total time=   0.8s\n",
      "[CV] END ...criterion=entropy, max_depth=7, n_estimators=400; total time=   0.8s\n",
      "[CV] END ...criterion=entropy, max_depth=7, n_estimators=400; total time=   0.8s\n",
      "[CV] END ...criterion=entropy, max_depth=9, n_estimators=100; total time=   0.2s\n",
      "[CV] END ...criterion=entropy, max_depth=9, n_estimators=100; total time=   0.2s\n",
      "[CV] END ...criterion=entropy, max_depth=9, n_estimators=100; total time=   0.2s\n",
      "[CV] END ...criterion=entropy, max_depth=9, n_estimators=100; total time=   0.2s\n",
      "[CV] END ...criterion=entropy, max_depth=9, n_estimators=100; total time=   0.2s\n",
      "[CV] END ...criterion=entropy, max_depth=9, n_estimators=200; total time=   0.4s\n",
      "[CV] END ...criterion=entropy, max_depth=9, n_estimators=200; total time=   0.5s\n",
      "[CV] END ...criterion=entropy, max_depth=9, n_estimators=200; total time=   0.4s\n",
      "[CV] END ...criterion=entropy, max_depth=9, n_estimators=200; total time=   0.4s\n",
      "[CV] END ...criterion=entropy, max_depth=9, n_estimators=200; total time=   0.4s\n",
      "[CV] END ...criterion=entropy, max_depth=9, n_estimators=300; total time=   0.7s\n",
      "[CV] END ...criterion=entropy, max_depth=9, n_estimators=300; total time=   0.7s\n",
      "[CV] END ...criterion=entropy, max_depth=9, n_estimators=300; total time=   0.6s\n",
      "[CV] END ...criterion=entropy, max_depth=9, n_estimators=300; total time=   0.6s\n",
      "[CV] END ...criterion=entropy, max_depth=9, n_estimators=300; total time=   0.7s\n",
      "[CV] END ...criterion=entropy, max_depth=9, n_estimators=400; total time=   0.8s\n",
      "[CV] END ...criterion=entropy, max_depth=9, n_estimators=400; total time=   0.9s\n",
      "[CV] END ...criterion=entropy, max_depth=9, n_estimators=400; total time=   0.8s\n",
      "[CV] END ...criterion=entropy, max_depth=9, n_estimators=400; total time=   0.9s\n",
      "[CV] END ...criterion=entropy, max_depth=9, n_estimators=400; total time=   0.7s\n"
     ]
    },
    {
     "data": {
      "text/plain": [
       "GridSearchCV(cv=5, estimator=RandomForestClassifier(n_jobs=-1), n_jobs=1,\n",
       "             param_grid={'criterion': ['gini', 'entropy'],\n",
       "                         'max_depth': [1, 3, 5, 7, 9],\n",
       "                         'n_estimators': [100, 200, 300, 400]},\n",
       "             verbose=2)"
      ]
     },
     "execution_count": 31,
     "metadata": {},
     "output_type": "execute_result"
    }
   ],
   "source": [
    "# train the model with gridserchCV \n",
    "model.fit(X_scaled,y)"
   ]
  },
  {
   "cell_type": "code",
   "execution_count": 32,
   "id": "5a4b55df",
   "metadata": {},
   "outputs": [
    {
     "name": "stdout",
     "output_type": "stream",
     "text": [
      "0.9052631578947368\n",
      "{'bootstrap': True, 'ccp_alpha': 0.0, 'class_weight': None, 'criterion': 'gini', 'max_depth': 9, 'max_features': 'auto', 'max_leaf_nodes': None, 'max_samples': None, 'min_impurity_decrease': 0.0, 'min_samples_leaf': 1, 'min_samples_split': 2, 'min_weight_fraction_leaf': 0.0, 'n_estimators': 200, 'n_jobs': -1, 'oob_score': False, 'random_state': None, 'verbose': 0, 'warm_start': False}\n"
     ]
    }
   ],
   "source": [
    "# print the best score and estimator \n",
    "print(model.best_score_)\n",
    "print(model.best_estimator_.get_params())"
   ]
  },
  {
   "cell_type": "code",
   "execution_count": 53,
   "id": "33996029",
   "metadata": {},
   "outputs": [],
   "source": [
    "# import packages\n",
    "import numpy as np\n",
    "import pandas as pd\n",
    "from sklearn.ensemble import RandomForestClassifier\n",
    "from sklearn import metrics\n",
    "from sklearn.model_selection import cross_val_score \n",
    "from sklearn.preprocessing import StandardScaler\n",
    "from skopt.searchcv import BayesSearchCV\n",
    "from skopt.space import Integer, Real, Categorical \n",
    "from skopt.utils import use_named_args\n",
    "from skopt import gp_minimize\n",
    "\n",
    "import warnings\n",
    "\n",
    "warnings.filterwarnings(\"ignore\")"
   ]
  },
  {
   "cell_type": "code",
   "execution_count": 54,
   "id": "01ada282",
   "metadata": {},
   "outputs": [],
   "source": [
    "data=pd.read_csv(\"Full_data.csv\")"
   ]
  },
  {
   "cell_type": "code",
   "execution_count": 55,
   "id": "3b202615",
   "metadata": {},
   "outputs": [
    {
     "data": {
      "text/html": [
       "<div>\n",
       "<style scoped>\n",
       "    .dataframe tbody tr th:only-of-type {\n",
       "        vertical-align: middle;\n",
       "    }\n",
       "\n",
       "    .dataframe tbody tr th {\n",
       "        vertical-align: top;\n",
       "    }\n",
       "\n",
       "    .dataframe thead th {\n",
       "        text-align: right;\n",
       "    }\n",
       "</style>\n",
       "<table border=\"1\" class=\"dataframe\">\n",
       "  <thead>\n",
       "    <tr style=\"text-align: right;\">\n",
       "      <th></th>\n",
       "      <th>lat</th>\n",
       "      <th>lng</th>\n",
       "      <th>name</th>\n",
       "      <th>vicinity</th>\n",
       "      <th>Type1</th>\n",
       "      <th>Type2</th>\n",
       "      <th>Type3</th>\n",
       "      <th>Type4</th>\n",
       "      <th>Type5</th>\n",
       "      <th>Type6</th>\n",
       "      <th>rating</th>\n",
       "      <th>user_ratings_total</th>\n",
       "      <th>price_level</th>\n",
       "    </tr>\n",
       "  </thead>\n",
       "  <tbody>\n",
       "    <tr>\n",
       "      <th>0</th>\n",
       "      <td>41.270548</td>\n",
       "      <td>-72.946971</td>\n",
       "      <td>West Haven</td>\n",
       "      <td>West Haven</td>\n",
       "      <td>accounting</td>\n",
       "      <td>finance</td>\n",
       "      <td>point_of_interest</td>\n",
       "      <td>establishment</td>\n",
       "      <td>NaN</td>\n",
       "      <td>NaN</td>\n",
       "      <td>0.0</td>\n",
       "      <td>0</td>\n",
       "      <td>0</td>\n",
       "    </tr>\n",
       "    <tr>\n",
       "      <th>1</th>\n",
       "      <td>41.233086</td>\n",
       "      <td>-73.026043</td>\n",
       "      <td>Hilton Garden Inn Milford</td>\n",
       "      <td>291 Old Gate Lane, Milford</td>\n",
       "      <td>accounting</td>\n",
       "      <td>finance</td>\n",
       "      <td>local_government_office</td>\n",
       "      <td>point_of_interest</td>\n",
       "      <td>establishment</td>\n",
       "      <td>NaN</td>\n",
       "      <td>4.0</td>\n",
       "      <td>813</td>\n",
       "      <td>0</td>\n",
       "    </tr>\n",
       "    <tr>\n",
       "      <th>2</th>\n",
       "      <td>41.231155</td>\n",
       "      <td>-73.029880</td>\n",
       "      <td>Hyatt Place Milford / New Haven</td>\n",
       "      <td>190 Old Gate Lane, Milford</td>\n",
       "      <td>accounting</td>\n",
       "      <td>local_government_office</td>\n",
       "      <td>finance</td>\n",
       "      <td>point_of_interest</td>\n",
       "      <td>establishment</td>\n",
       "      <td>NaN</td>\n",
       "      <td>4.0</td>\n",
       "      <td>664</td>\n",
       "      <td>0</td>\n",
       "    </tr>\n",
       "    <tr>\n",
       "      <th>3</th>\n",
       "      <td>41.255831</td>\n",
       "      <td>-73.001768</td>\n",
       "      <td>Courtyard by Marriott New Haven Orange/Milford</td>\n",
       "      <td>136 Marsh Hill Road, Orange</td>\n",
       "      <td>accounting</td>\n",
       "      <td>finance</td>\n",
       "      <td>point_of_interest</td>\n",
       "      <td>establishment</td>\n",
       "      <td>NaN</td>\n",
       "      <td>NaN</td>\n",
       "      <td>4.0</td>\n",
       "      <td>499</td>\n",
       "      <td>0</td>\n",
       "    </tr>\n",
       "    <tr>\n",
       "      <th>4</th>\n",
       "      <td>41.223208</td>\n",
       "      <td>-73.077087</td>\n",
       "      <td>Hampton Inn Milford</td>\n",
       "      <td>129 Plains Road, Milford</td>\n",
       "      <td>accounting</td>\n",
       "      <td>finance</td>\n",
       "      <td>point_of_interest</td>\n",
       "      <td>establishment</td>\n",
       "      <td>NaN</td>\n",
       "      <td>NaN</td>\n",
       "      <td>3.8</td>\n",
       "      <td>824</td>\n",
       "      <td>0</td>\n",
       "    </tr>\n",
       "  </tbody>\n",
       "</table>\n",
       "</div>"
      ],
      "text/plain": [
       "         lat        lng                                            name  \\\n",
       "0  41.270548 -72.946971                                      West Haven   \n",
       "1  41.233086 -73.026043                       Hilton Garden Inn Milford   \n",
       "2  41.231155 -73.029880                 Hyatt Place Milford / New Haven   \n",
       "3  41.255831 -73.001768  Courtyard by Marriott New Haven Orange/Milford   \n",
       "4  41.223208 -73.077087                             Hampton Inn Milford   \n",
       "\n",
       "                      vicinity       Type1                    Type2  \\\n",
       "0                   West Haven  accounting                  finance   \n",
       "1   291 Old Gate Lane, Milford  accounting                  finance   \n",
       "2   190 Old Gate Lane, Milford  accounting  local_government_office   \n",
       "3  136 Marsh Hill Road, Orange  accounting                  finance   \n",
       "4     129 Plains Road, Milford  accounting                  finance   \n",
       "\n",
       "                     Type3              Type4          Type5 Type6  rating  \\\n",
       "0        point_of_interest      establishment            NaN   NaN     0.0   \n",
       "1  local_government_office  point_of_interest  establishment   NaN     4.0   \n",
       "2                  finance  point_of_interest  establishment   NaN     4.0   \n",
       "3        point_of_interest      establishment            NaN   NaN     4.0   \n",
       "4        point_of_interest      establishment            NaN   NaN     3.8   \n",
       "\n",
       "   user_ratings_total  price_level  \n",
       "0                   0            0  \n",
       "1                 813            0  \n",
       "2                 664            0  \n",
       "3                 499            0  \n",
       "4                 824            0  "
      ]
     },
     "execution_count": 55,
     "metadata": {},
     "output_type": "execute_result"
    }
   ],
   "source": [
    "data.head()"
   ]
  },
  {
   "cell_type": "code",
   "execution_count": 56,
   "id": "b12457f6",
   "metadata": {},
   "outputs": [
    {
     "data": {
      "text/plain": [
       "(2280, 13)"
      ]
     },
     "execution_count": 56,
     "metadata": {},
     "output_type": "execute_result"
    }
   ],
   "source": [
    "data.shape"
   ]
  },
  {
   "cell_type": "code",
   "execution_count": 57,
   "id": "7ca510a4",
   "metadata": {},
   "outputs": [
    {
     "data": {
      "text/plain": [
       "['lat',\n",
       " 'lng',\n",
       " 'name',\n",
       " 'vicinity',\n",
       " 'Type1',\n",
       " 'Type2',\n",
       " 'Type3',\n",
       " 'Type4',\n",
       " 'Type5',\n",
       " 'Type6',\n",
       " 'rating',\n",
       " 'user_ratings_total',\n",
       " 'price_level']"
      ]
     },
     "execution_count": 57,
     "metadata": {},
     "output_type": "execute_result"
    }
   ],
   "source": [
    "list(data.columns)"
   ]
  },
  {
   "cell_type": "code",
   "execution_count": 58,
   "id": "79af9ceb",
   "metadata": {},
   "outputs": [
    {
     "data": {
      "text/html": [
       "<div>\n",
       "<style scoped>\n",
       "    .dataframe tbody tr th:only-of-type {\n",
       "        vertical-align: middle;\n",
       "    }\n",
       "\n",
       "    .dataframe tbody tr th {\n",
       "        vertical-align: top;\n",
       "    }\n",
       "\n",
       "    .dataframe thead th {\n",
       "        text-align: right;\n",
       "    }\n",
       "</style>\n",
       "<table border=\"1\" class=\"dataframe\">\n",
       "  <thead>\n",
       "    <tr style=\"text-align: right;\">\n",
       "      <th></th>\n",
       "      <th>lat</th>\n",
       "      <th>lng</th>\n",
       "      <th>rating</th>\n",
       "      <th>user_ratings_total</th>\n",
       "      <th>price_level</th>\n",
       "    </tr>\n",
       "  </thead>\n",
       "  <tbody>\n",
       "    <tr>\n",
       "      <th>count</th>\n",
       "      <td>2280.000000</td>\n",
       "      <td>2280.000000</td>\n",
       "      <td>2280.000000</td>\n",
       "      <td>2280.000000</td>\n",
       "      <td>2280.000000</td>\n",
       "    </tr>\n",
       "    <tr>\n",
       "      <th>mean</th>\n",
       "      <td>41.435773</td>\n",
       "      <td>-72.783370</td>\n",
       "      <td>2.746272</td>\n",
       "      <td>344.301316</td>\n",
       "      <td>0.305263</td>\n",
       "    </tr>\n",
       "    <tr>\n",
       "      <th>std</th>\n",
       "      <td>0.217592</td>\n",
       "      <td>0.353734</td>\n",
       "      <td>2.029706</td>\n",
       "      <td>918.820560</td>\n",
       "      <td>0.741054</td>\n",
       "    </tr>\n",
       "    <tr>\n",
       "      <th>min</th>\n",
       "      <td>41.053430</td>\n",
       "      <td>-73.557534</td>\n",
       "      <td>0.000000</td>\n",
       "      <td>0.000000</td>\n",
       "      <td>0.000000</td>\n",
       "    </tr>\n",
       "    <tr>\n",
       "      <th>25%</th>\n",
       "      <td>41.284400</td>\n",
       "      <td>-72.957610</td>\n",
       "      <td>0.000000</td>\n",
       "      <td>0.000000</td>\n",
       "      <td>0.000000</td>\n",
       "    </tr>\n",
       "    <tr>\n",
       "      <th>50%</th>\n",
       "      <td>41.316789</td>\n",
       "      <td>-72.924454</td>\n",
       "      <td>3.800000</td>\n",
       "      <td>13.000000</td>\n",
       "      <td>0.000000</td>\n",
       "    </tr>\n",
       "    <tr>\n",
       "      <th>75%</th>\n",
       "      <td>41.659346</td>\n",
       "      <td>-72.662967</td>\n",
       "      <td>4.500000</td>\n",
       "      <td>242.000000</td>\n",
       "      <td>0.000000</td>\n",
       "    </tr>\n",
       "    <tr>\n",
       "      <th>max</th>\n",
       "      <td>41.868338</td>\n",
       "      <td>-71.833415</td>\n",
       "      <td>5.000000</td>\n",
       "      <td>13335.000000</td>\n",
       "      <td>4.000000</td>\n",
       "    </tr>\n",
       "  </tbody>\n",
       "</table>\n",
       "</div>"
      ],
      "text/plain": [
       "               lat          lng       rating  user_ratings_total  price_level\n",
       "count  2280.000000  2280.000000  2280.000000         2280.000000  2280.000000\n",
       "mean     41.435773   -72.783370     2.746272          344.301316     0.305263\n",
       "std       0.217592     0.353734     2.029706          918.820560     0.741054\n",
       "min      41.053430   -73.557534     0.000000            0.000000     0.000000\n",
       "25%      41.284400   -72.957610     0.000000            0.000000     0.000000\n",
       "50%      41.316789   -72.924454     3.800000           13.000000     0.000000\n",
       "75%      41.659346   -72.662967     4.500000          242.000000     0.000000\n",
       "max      41.868338   -71.833415     5.000000        13335.000000     4.000000"
      ]
     },
     "execution_count": 58,
     "metadata": {},
     "output_type": "execute_result"
    }
   ],
   "source": [
    "data.describe()"
   ]
  },
  {
   "cell_type": "code",
   "execution_count": 59,
   "id": "127d7f20",
   "metadata": {},
   "outputs": [
    {
     "name": "stdout",
     "output_type": "stream",
     "text": [
      "<class 'pandas.core.frame.DataFrame'>\n",
      "RangeIndex: 2280 entries, 0 to 2279\n",
      "Data columns (total 13 columns):\n",
      " #   Column              Non-Null Count  Dtype  \n",
      "---  ------              --------------  -----  \n",
      " 0   lat                 2280 non-null   float64\n",
      " 1   lng                 2280 non-null   float64\n",
      " 2   name                2280 non-null   object \n",
      " 3   vicinity            2280 non-null   object \n",
      " 4   Type1               2280 non-null   object \n",
      " 5   Type2               2279 non-null   object \n",
      " 6   Type3               1998 non-null   object \n",
      " 7   Type4               1392 non-null   object \n",
      " 8   Type5               401 non-null    object \n",
      " 9   Type6               163 non-null    object \n",
      " 10  rating              2280 non-null   float64\n",
      " 11  user_ratings_total  2280 non-null   int64  \n",
      " 12  price_level         2280 non-null   int64  \n",
      "dtypes: float64(3), int64(2), object(8)\n",
      "memory usage: 231.7+ KB\n"
     ]
    }
   ],
   "source": [
    "data.info()"
   ]
  },
  {
   "cell_type": "code",
   "execution_count": 60,
   "id": "c01efb78",
   "metadata": {},
   "outputs": [
    {
     "data": {
      "text/plain": [
       "lat                      0\n",
       "lng                      0\n",
       "name                     0\n",
       "vicinity                 0\n",
       "Type1                    0\n",
       "Type2                    1\n",
       "Type3                  282\n",
       "Type4                  888\n",
       "Type5                 1879\n",
       "Type6                 2117\n",
       "rating                   0\n",
       "user_ratings_total       0\n",
       "price_level              0\n",
       "dtype: int64"
      ]
     },
     "execution_count": 60,
     "metadata": {},
     "output_type": "execute_result"
    }
   ],
   "source": [
    "data.isnull().sum()"
   ]
  },
  {
   "cell_type": "code",
   "execution_count": 61,
   "id": "f4feb4f0",
   "metadata": {},
   "outputs": [],
   "source": [
    "\n",
    "X = data[['rating', 'user_ratings_total', ]]\n",
    "y = data['price_level']"
   ]
  },
  {
   "cell_type": "code",
   "execution_count": 62,
   "id": "e9f39659",
   "metadata": {},
   "outputs": [],
   "source": [
    "# standardize the feature variables \n",
    "scaler = StandardScaler()\n",
    "X_scaled = scaler.fit_transform(X)"
   ]
  },
  {
   "cell_type": "code",
   "execution_count": 63,
   "id": "b5ed1199",
   "metadata": {},
   "outputs": [],
   "source": [
    "#Create classifier \n",
    "rf_classifier = RandomForestClassifier(n_jobs=-1) "
   ]
  },
  {
   "cell_type": "code",
   "execution_count": 64,
   "id": "9b1c81d9",
   "metadata": {},
   "outputs": [],
   "source": [
    "# define search space \n",
    "params = {\n",
    "    \"n_estimators\": [100, 200, 300, 400],\n",
    "    \"max_depth\": (1, 9),\n",
    "    \"criterion\": [\"gini\", \"entropy\"],\n",
    "}"
   ]
  },
  {
   "cell_type": "code",
   "execution_count": 65,
   "id": "3a67ff37",
   "metadata": {},
   "outputs": [],
   "source": [
    "# define the search\n",
    "search = BayesSearchCV(\n",
    "    estimator=rf_classifier,\n",
    "    search_spaces=params,\n",
    "    n_jobs=1,\n",
    "    cv=5,\n",
    "    n_iter=30,\n",
    "    scoring=\"accuracy\",\n",
    "    verbose=4,\n",
    "    random_state=42\n",
    ")"
   ]
  },
  {
   "cell_type": "code",
   "execution_count": 66,
   "id": "f6f649ef",
   "metadata": {},
   "outputs": [
    {
     "name": "stdout",
     "output_type": "stream",
     "text": [
      "Fitting 5 folds for each of 1 candidates, totalling 5 fits\n",
      "[CV 1/5] END criterion=entropy, max_depth=7, n_estimators=400;, score=0.899 total time=   3.8s\n",
      "[CV 2/5] END criterion=entropy, max_depth=7, n_estimators=400;, score=0.884 total time=   0.6s\n",
      "[CV 3/5] END criterion=entropy, max_depth=7, n_estimators=400;, score=0.877 total time=   0.7s\n",
      "[CV 4/5] END criterion=entropy, max_depth=7, n_estimators=400;, score=0.895 total time=   0.6s\n",
      "[CV 5/5] END criterion=entropy, max_depth=7, n_estimators=400;, score=0.879 total time=   0.7s\n",
      "Fitting 5 folds for each of 1 candidates, totalling 5 fits\n",
      "[CV 1/5] END criterion=gini, max_depth=8, n_estimators=200;, score=0.925 total time=   0.4s\n",
      "[CV 2/5] END criterion=gini, max_depth=8, n_estimators=200;, score=0.879 total time=   0.4s\n",
      "[CV 3/5] END criterion=gini, max_depth=8, n_estimators=200;, score=0.884 total time=   0.3s\n",
      "[CV 4/5] END criterion=gini, max_depth=8, n_estimators=200;, score=0.906 total time=   0.4s\n",
      "[CV 5/5] END criterion=gini, max_depth=8, n_estimators=200;, score=0.893 total time=   0.4s\n",
      "Fitting 5 folds for each of 1 candidates, totalling 5 fits\n",
      "[CV 1/5] END criterion=entropy, max_depth=8, n_estimators=100;, score=0.923 total time=   0.2s\n",
      "[CV 2/5] END criterion=entropy, max_depth=8, n_estimators=100;, score=0.877 total time=   0.2s\n",
      "[CV 3/5] END criterion=entropy, max_depth=8, n_estimators=100;, score=0.890 total time=   0.2s\n",
      "[CV 4/5] END criterion=entropy, max_depth=8, n_estimators=100;, score=0.904 total time=   0.2s\n",
      "[CV 5/5] END criterion=entropy, max_depth=8, n_estimators=100;, score=0.895 total time=   0.2s\n",
      "Fitting 5 folds for each of 1 candidates, totalling 5 fits\n",
      "[CV 1/5] END criterion=gini, max_depth=2, n_estimators=300;, score=0.838 total time=   0.7s\n",
      "[CV 2/5] END criterion=gini, max_depth=2, n_estimators=300;, score=0.838 total time=   0.6s\n",
      "[CV 3/5] END criterion=gini, max_depth=2, n_estimators=300;, score=0.838 total time=   0.6s\n",
      "[CV 4/5] END criterion=gini, max_depth=2, n_estimators=300;, score=0.836 total time=   0.7s\n",
      "[CV 5/5] END criterion=gini, max_depth=2, n_estimators=300;, score=0.836 total time=   0.7s\n",
      "Fitting 5 folds for each of 1 candidates, totalling 5 fits\n",
      "[CV 1/5] END criterion=gini, max_depth=5, n_estimators=300;, score=0.888 total time=   0.8s\n",
      "[CV 2/5] END criterion=gini, max_depth=5, n_estimators=300;, score=0.871 total time=   0.7s\n",
      "[CV 3/5] END criterion=gini, max_depth=5, n_estimators=300;, score=0.857 total time=   0.7s\n",
      "[CV 4/5] END criterion=gini, max_depth=5, n_estimators=300;, score=0.886 total time=   0.7s\n",
      "[CV 5/5] END criterion=gini, max_depth=5, n_estimators=300;, score=0.871 total time=   0.7s\n",
      "Fitting 5 folds for each of 1 candidates, totalling 5 fits\n",
      "[CV 1/5] END criterion=gini, max_depth=9, n_estimators=100;, score=0.925 total time=   0.2s\n",
      "[CV 2/5] END criterion=gini, max_depth=9, n_estimators=100;, score=0.884 total time=   0.2s\n",
      "[CV 3/5] END criterion=gini, max_depth=9, n_estimators=100;, score=0.897 total time=   0.2s\n",
      "[CV 4/5] END criterion=gini, max_depth=9, n_estimators=100;, score=0.912 total time=   0.2s\n",
      "[CV 5/5] END criterion=gini, max_depth=9, n_estimators=100;, score=0.901 total time=   0.2s\n",
      "Fitting 5 folds for each of 1 candidates, totalling 5 fits\n",
      "[CV 1/5] END criterion=gini, max_depth=7, n_estimators=200;, score=0.899 total time=   0.5s\n",
      "[CV 2/5] END criterion=gini, max_depth=7, n_estimators=200;, score=0.882 total time=   0.4s\n",
      "[CV 3/5] END criterion=gini, max_depth=7, n_estimators=200;, score=0.875 total time=   0.4s\n",
      "[CV 4/5] END criterion=gini, max_depth=7, n_estimators=200;, score=0.901 total time=   0.4s\n",
      "[CV 5/5] END criterion=gini, max_depth=7, n_estimators=200;, score=0.879 total time=   0.4s\n",
      "Fitting 5 folds for each of 1 candidates, totalling 5 fits\n",
      "[CV 1/5] END criterion=gini, max_depth=8, n_estimators=200;, score=0.914 total time=   0.4s\n",
      "[CV 2/5] END criterion=gini, max_depth=8, n_estimators=200;, score=0.879 total time=   0.4s\n",
      "[CV 3/5] END criterion=gini, max_depth=8, n_estimators=200;, score=0.884 total time=   0.4s\n",
      "[CV 4/5] END criterion=gini, max_depth=8, n_estimators=200;, score=0.904 total time=   0.4s\n",
      "[CV 5/5] END criterion=gini, max_depth=8, n_estimators=200;, score=0.899 total time=   0.4s\n",
      "Fitting 5 folds for each of 1 candidates, totalling 5 fits\n",
      "[CV 1/5] END criterion=gini, max_depth=7, n_estimators=400;, score=0.910 total time=   0.8s\n",
      "[CV 2/5] END criterion=gini, max_depth=7, n_estimators=400;, score=0.877 total time=   0.8s\n",
      "[CV 3/5] END criterion=gini, max_depth=7, n_estimators=400;, score=0.873 total time=   0.7s\n",
      "[CV 4/5] END criterion=gini, max_depth=7, n_estimators=400;, score=0.897 total time=   0.8s\n",
      "[CV 5/5] END criterion=gini, max_depth=7, n_estimators=400;, score=0.882 total time=   0.8s\n",
      "Fitting 5 folds for each of 1 candidates, totalling 5 fits\n",
      "[CV 1/5] END criterion=entropy, max_depth=8, n_estimators=300;, score=0.923 total time=   0.7s\n",
      "[CV 2/5] END criterion=entropy, max_depth=8, n_estimators=300;, score=0.882 total time=   0.7s\n",
      "[CV 3/5] END criterion=entropy, max_depth=8, n_estimators=300;, score=0.890 total time=   0.7s\n",
      "[CV 4/5] END criterion=entropy, max_depth=8, n_estimators=300;, score=0.901 total time=   0.7s\n",
      "[CV 5/5] END criterion=entropy, max_depth=8, n_estimators=300;, score=0.895 total time=   0.7s\n",
      "Fitting 5 folds for each of 1 candidates, totalling 5 fits\n",
      "[CV 1/5] END criterion=entropy, max_depth=9, n_estimators=400;, score=0.919 total time=   0.8s\n",
      "[CV 2/5] END criterion=entropy, max_depth=9, n_estimators=400;, score=0.888 total time=   0.8s\n",
      "[CV 3/5] END criterion=entropy, max_depth=9, n_estimators=400;, score=0.899 total time=   0.7s\n",
      "[CV 4/5] END criterion=entropy, max_depth=9, n_estimators=400;, score=0.908 total time=   0.8s\n",
      "[CV 5/5] END criterion=entropy, max_depth=9, n_estimators=400;, score=0.901 total time=   0.8s\n",
      "Fitting 5 folds for each of 1 candidates, totalling 5 fits\n",
      "[CV 1/5] END criterion=entropy, max_depth=1, n_estimators=100;, score=0.838 total time=   0.2s\n",
      "[CV 2/5] END criterion=entropy, max_depth=1, n_estimators=100;, score=0.838 total time=   0.2s\n",
      "[CV 3/5] END criterion=entropy, max_depth=1, n_estimators=100;, score=0.838 total time=   0.2s\n",
      "[CV 4/5] END criterion=entropy, max_depth=1, n_estimators=100;, score=0.836 total time=   0.2s\n",
      "[CV 5/5] END criterion=entropy, max_depth=1, n_estimators=100;, score=0.836 total time=   0.2s\n",
      "Fitting 5 folds for each of 1 candidates, totalling 5 fits\n",
      "[CV 1/5] END criterion=entropy, max_depth=4, n_estimators=100;, score=0.875 total time=   0.2s\n",
      "[CV 2/5] END criterion=entropy, max_depth=4, n_estimators=100;, score=0.857 total time=   0.2s\n",
      "[CV 3/5] END criterion=entropy, max_depth=4, n_estimators=100;, score=0.844 total time=   0.2s\n",
      "[CV 4/5] END criterion=entropy, max_depth=4, n_estimators=100;, score=0.877 total time=   0.2s\n",
      "[CV 5/5] END criterion=entropy, max_depth=4, n_estimators=100;, score=0.871 total time=   0.2s\n",
      "Fitting 5 folds for each of 1 candidates, totalling 5 fits\n",
      "[CV 1/5] END criterion=entropy, max_depth=9, n_estimators=100;, score=0.917 total time=   0.2s\n",
      "[CV 2/5] END criterion=entropy, max_depth=9, n_estimators=100;, score=0.886 total time=   0.2s\n",
      "[CV 3/5] END criterion=entropy, max_depth=9, n_estimators=100;, score=0.899 total time=   0.2s\n",
      "[CV 4/5] END criterion=entropy, max_depth=9, n_estimators=100;, score=0.910 total time=   0.2s\n",
      "[CV 5/5] END criterion=entropy, max_depth=9, n_estimators=100;, score=0.906 total time=   0.2s\n",
      "Fitting 5 folds for each of 1 candidates, totalling 5 fits\n",
      "[CV 1/5] END criterion=entropy, max_depth=6, n_estimators=100;, score=0.893 total time=   0.2s\n",
      "[CV 2/5] END criterion=entropy, max_depth=6, n_estimators=100;, score=0.879 total time=   0.2s\n",
      "[CV 3/5] END criterion=entropy, max_depth=6, n_estimators=100;, score=0.864 total time=   0.2s\n",
      "[CV 4/5] END criterion=entropy, max_depth=6, n_estimators=100;, score=0.890 total time=   0.2s\n",
      "[CV 5/5] END criterion=entropy, max_depth=6, n_estimators=100;, score=0.873 total time=   0.3s\n",
      "Fitting 5 folds for each of 1 candidates, totalling 5 fits\n",
      "[CV 1/5] END criterion=gini, max_depth=9, n_estimators=400;, score=0.923 total time=   0.8s\n",
      "[CV 2/5] END criterion=gini, max_depth=9, n_estimators=400;, score=0.882 total time=   0.8s\n",
      "[CV 3/5] END criterion=gini, max_depth=9, n_estimators=400;, score=0.901 total time=   0.8s\n"
     ]
    },
    {
     "name": "stdout",
     "output_type": "stream",
     "text": [
      "[CV 4/5] END criterion=gini, max_depth=9, n_estimators=400;, score=0.908 total time=   0.8s\n",
      "[CV 5/5] END criterion=gini, max_depth=9, n_estimators=400;, score=0.904 total time=   0.8s\n",
      "Fitting 5 folds for each of 1 candidates, totalling 5 fits\n",
      "[CV 1/5] END criterion=entropy, max_depth=9, n_estimators=100;, score=0.917 total time=   0.2s\n",
      "[CV 2/5] END criterion=entropy, max_depth=9, n_estimators=100;, score=0.886 total time=   0.2s\n",
      "[CV 3/5] END criterion=entropy, max_depth=9, n_estimators=100;, score=0.904 total time=   0.2s\n",
      "[CV 4/5] END criterion=entropy, max_depth=9, n_estimators=100;, score=0.914 total time=   0.2s\n",
      "[CV 5/5] END criterion=entropy, max_depth=9, n_estimators=100;, score=0.906 total time=   0.2s\n",
      "Fitting 5 folds for each of 1 candidates, totalling 5 fits\n",
      "[CV 1/5] END criterion=gini, max_depth=9, n_estimators=400;, score=0.921 total time=   0.7s\n",
      "[CV 2/5] END criterion=gini, max_depth=9, n_estimators=400;, score=0.884 total time=   0.8s\n",
      "[CV 3/5] END criterion=gini, max_depth=9, n_estimators=400;, score=0.897 total time=   0.8s\n",
      "[CV 4/5] END criterion=gini, max_depth=9, n_estimators=400;, score=0.910 total time=   0.8s\n",
      "[CV 5/5] END criterion=gini, max_depth=9, n_estimators=400;, score=0.901 total time=   0.7s\n",
      "Fitting 5 folds for each of 1 candidates, totalling 5 fits\n",
      "[CV 1/5] END criterion=gini, max_depth=9, n_estimators=100;, score=0.923 total time=   0.2s\n",
      "[CV 2/5] END criterion=gini, max_depth=9, n_estimators=100;, score=0.871 total time=   0.2s\n",
      "[CV 3/5] END criterion=gini, max_depth=9, n_estimators=100;, score=0.897 total time=   0.2s\n",
      "[CV 4/5] END criterion=gini, max_depth=9, n_estimators=100;, score=0.908 total time=   0.2s\n",
      "[CV 5/5] END criterion=gini, max_depth=9, n_estimators=100;, score=0.901 total time=   0.2s\n",
      "Fitting 5 folds for each of 1 candidates, totalling 5 fits\n",
      "[CV 1/5] END criterion=entropy, max_depth=9, n_estimators=400;, score=0.919 total time=   0.8s\n",
      "[CV 2/5] END criterion=entropy, max_depth=9, n_estimators=400;, score=0.888 total time=   0.8s\n",
      "[CV 3/5] END criterion=entropy, max_depth=9, n_estimators=400;, score=0.895 total time=   0.7s\n",
      "[CV 4/5] END criterion=entropy, max_depth=9, n_estimators=400;, score=0.910 total time=   0.8s\n",
      "[CV 5/5] END criterion=entropy, max_depth=9, n_estimators=400;, score=0.904 total time=   0.8s\n",
      "Fitting 5 folds for each of 1 candidates, totalling 5 fits\n",
      "[CV 1/5] END criterion=entropy, max_depth=9, n_estimators=100;, score=0.917 total time=   0.2s\n",
      "[CV 2/5] END criterion=entropy, max_depth=9, n_estimators=100;, score=0.888 total time=   0.2s\n",
      "[CV 3/5] END criterion=entropy, max_depth=9, n_estimators=100;, score=0.897 total time=   0.2s\n",
      "[CV 4/5] END criterion=entropy, max_depth=9, n_estimators=100;, score=0.912 total time=   0.2s\n",
      "[CV 5/5] END criterion=entropy, max_depth=9, n_estimators=100;, score=0.901 total time=   0.2s\n",
      "Fitting 5 folds for each of 1 candidates, totalling 5 fits\n",
      "[CV 1/5] END criterion=gini, max_depth=9, n_estimators=400;, score=0.921 total time=   0.8s\n",
      "[CV 2/5] END criterion=gini, max_depth=9, n_estimators=400;, score=0.877 total time=   0.8s\n",
      "[CV 3/5] END criterion=gini, max_depth=9, n_estimators=400;, score=0.904 total time=   0.8s\n",
      "[CV 4/5] END criterion=gini, max_depth=9, n_estimators=400;, score=0.912 total time=   0.8s\n",
      "[CV 5/5] END criterion=gini, max_depth=9, n_estimators=400;, score=0.901 total time=   0.8s\n",
      "Fitting 5 folds for each of 1 candidates, totalling 5 fits\n",
      "[CV 1/5] END criterion=entropy, max_depth=9, n_estimators=400;, score=0.923 total time=   0.8s\n",
      "[CV 2/5] END criterion=entropy, max_depth=9, n_estimators=400;, score=0.886 total time=   0.8s\n",
      "[CV 3/5] END criterion=entropy, max_depth=9, n_estimators=400;, score=0.904 total time=   0.8s\n",
      "[CV 4/5] END criterion=entropy, max_depth=9, n_estimators=400;, score=0.910 total time=   0.8s\n",
      "[CV 5/5] END criterion=entropy, max_depth=9, n_estimators=400;, score=0.904 total time=   0.9s\n",
      "Fitting 5 folds for each of 1 candidates, totalling 5 fits\n",
      "[CV 1/5] END criterion=gini, max_depth=9, n_estimators=100;, score=0.928 total time=   0.2s\n",
      "[CV 2/5] END criterion=gini, max_depth=9, n_estimators=100;, score=0.879 total time=   0.2s\n",
      "[CV 3/5] END criterion=gini, max_depth=9, n_estimators=100;, score=0.895 total time=   0.2s\n",
      "[CV 4/5] END criterion=gini, max_depth=9, n_estimators=100;, score=0.906 total time=   0.2s\n",
      "[CV 5/5] END criterion=gini, max_depth=9, n_estimators=100;, score=0.906 total time=   0.2s\n",
      "Fitting 5 folds for each of 1 candidates, totalling 5 fits\n",
      "[CV 1/5] END criterion=entropy, max_depth=9, n_estimators=400;, score=0.919 total time=   0.8s\n",
      "[CV 2/5] END criterion=entropy, max_depth=9, n_estimators=400;, score=0.890 total time=   0.8s\n",
      "[CV 3/5] END criterion=entropy, max_depth=9, n_estimators=400;, score=0.901 total time=   0.8s\n",
      "[CV 4/5] END criterion=entropy, max_depth=9, n_estimators=400;, score=0.910 total time=   0.8s\n",
      "[CV 5/5] END criterion=entropy, max_depth=9, n_estimators=400;, score=0.901 total time=   0.8s\n",
      "Fitting 5 folds for each of 1 candidates, totalling 5 fits\n",
      "[CV 1/5] END criterion=entropy, max_depth=9, n_estimators=100;, score=0.917 total time=   0.2s\n",
      "[CV 2/5] END criterion=entropy, max_depth=9, n_estimators=100;, score=0.886 total time=   0.2s\n",
      "[CV 3/5] END criterion=entropy, max_depth=9, n_estimators=100;, score=0.901 total time=   0.2s\n",
      "[CV 4/5] END criterion=entropy, max_depth=9, n_estimators=100;, score=0.908 total time=   0.2s\n",
      "[CV 5/5] END criterion=entropy, max_depth=9, n_estimators=100;, score=0.904 total time=   0.2s\n",
      "Fitting 5 folds for each of 1 candidates, totalling 5 fits\n",
      "[CV 1/5] END criterion=entropy, max_depth=8, n_estimators=400;, score=0.921 total time=   0.7s\n",
      "[CV 2/5] END criterion=entropy, max_depth=8, n_estimators=400;, score=0.884 total time=   0.8s\n",
      "[CV 3/5] END criterion=entropy, max_depth=8, n_estimators=400;, score=0.893 total time=   0.8s\n",
      "[CV 4/5] END criterion=entropy, max_depth=8, n_estimators=400;, score=0.906 total time=   0.8s\n",
      "[CV 5/5] END criterion=entropy, max_depth=8, n_estimators=400;, score=0.895 total time=   0.8s\n",
      "Fitting 5 folds for each of 1 candidates, totalling 5 fits\n",
      "[CV 1/5] END criterion=gini, max_depth=9, n_estimators=400;, score=0.917 total time=   0.8s\n",
      "[CV 2/5] END criterion=gini, max_depth=9, n_estimators=400;, score=0.879 total time=   0.8s\n",
      "[CV 3/5] END criterion=gini, max_depth=9, n_estimators=400;, score=0.897 total time=   0.8s\n",
      "[CV 4/5] END criterion=gini, max_depth=9, n_estimators=400;, score=0.910 total time=   0.8s\n",
      "[CV 5/5] END criterion=gini, max_depth=9, n_estimators=400;, score=0.901 total time=   0.8s\n",
      "Fitting 5 folds for each of 1 candidates, totalling 5 fits\n",
      "[CV 1/5] END criterion=entropy, max_depth=9, n_estimators=100;, score=0.923 total time=   0.2s\n",
      "[CV 2/5] END criterion=entropy, max_depth=9, n_estimators=100;, score=0.888 total time=   0.2s\n",
      "[CV 3/5] END criterion=entropy, max_depth=9, n_estimators=100;, score=0.899 total time=   0.2s\n",
      "[CV 4/5] END criterion=entropy, max_depth=9, n_estimators=100;, score=0.910 total time=   0.2s\n",
      "[CV 5/5] END criterion=entropy, max_depth=9, n_estimators=100;, score=0.901 total time=   0.2s\n",
      "Fitting 5 folds for each of 1 candidates, totalling 5 fits\n",
      "[CV 1/5] END criterion=entropy, max_depth=9, n_estimators=400;, score=0.923 total time=   0.8s\n",
      "[CV 2/5] END criterion=entropy, max_depth=9, n_estimators=400;, score=0.886 total time=   0.9s\n",
      "[CV 3/5] END criterion=entropy, max_depth=9, n_estimators=400;, score=0.901 total time=   0.8s\n",
      "[CV 4/5] END criterion=entropy, max_depth=9, n_estimators=400;, score=0.910 total time=   0.8s\n",
      "[CV 5/5] END criterion=entropy, max_depth=9, n_estimators=400;, score=0.901 total time=   0.8s\n"
     ]
    },
    {
     "data": {
      "text/plain": [
       "BayesSearchCV(cv=5, estimator=RandomForestClassifier(n_jobs=-1), n_iter=30,\n",
       "              random_state=42, scoring='accuracy',\n",
       "              search_spaces={'criterion': ['gini', 'entropy'],\n",
       "                             'max_depth': (1, 9),\n",
       "                             'n_estimators': [100, 200, 300, 400]},\n",
       "              verbose=4)"
      ]
     },
     "execution_count": 66,
     "metadata": {},
     "output_type": "execute_result"
    }
   ],
   "source": [
    "# perform the search\n",
    "search.fit(X_scaled,y)"
   ]
  },
  {
   "cell_type": "code",
   "execution_count": 68,
   "id": "c41e0844",
   "metadata": {},
   "outputs": [],
   "source": [
    "# define the space of hyperparameters to search\n",
    "search_space = list()\n",
    "search_space.append(Categorical([100, 200, 300, 400], name='n_estimators'))\n",
    "search_space.append(Categorical(['gini', 'entropy'], name='criterion'))\n",
    "search_space.append(Integer(1, 9, name='max_depth'))"
   ]
  },
  {
   "cell_type": "code",
   "execution_count": 69,
   "id": "ac08d791",
   "metadata": {},
   "outputs": [],
   "source": [
    "# define the function used to evaluate a given configuration\n",
    "@use_named_args(search_space)\n",
    "def evaluate_model(**params):\n",
    "    # configure the model with specific hyperparameters\n",
    "    clf = RandomForestClassifier(**params, n_jobs=-1)\n",
    "    acc = cross_val_score(clf, X_scaled, y, scoring=\"accuracy\").mean()\n",
    "    return -acc"
   ]
  },
  {
   "cell_type": "code",
   "execution_count": 70,
   "id": "4f6c5ef4",
   "metadata": {},
   "outputs": [
    {
     "name": "stdout",
     "output_type": "stream",
     "text": [
      "Iteration No: 1 started. Evaluating function at random point.\n",
      "Iteration No: 1 ended. Evaluation done at random point.\n",
      "Time taken: 3.8747\n",
      "Function value obtained: -0.8882\n",
      "Current minimum: -0.8882\n",
      "Iteration No: 2 started. Evaluating function at random point.\n",
      "Iteration No: 2 ended. Evaluation done at random point.\n",
      "Time taken: 3.8083\n",
      "Function value obtained: -0.8368\n",
      "Current minimum: -0.8882\n",
      "Iteration No: 3 started. Evaluating function at random point.\n",
      "Iteration No: 3 ended. Evaluation done at random point.\n",
      "Time taken: 2.3749\n",
      "Function value obtained: -0.8368\n",
      "Current minimum: -0.8882\n",
      "Iteration No: 4 started. Evaluating function at random point.\n",
      "Iteration No: 4 ended. Evaluation done at random point.\n",
      "Time taken: 3.8165\n",
      "Function value obtained: -0.8873\n",
      "Current minimum: -0.8882\n",
      "Iteration No: 5 started. Evaluating function at random point.\n",
      "Iteration No: 5 ended. Evaluation done at random point.\n",
      "Time taken: 4.5116\n",
      "Function value obtained: -0.9026\n",
      "Current minimum: -0.9026\n",
      "Iteration No: 6 started. Evaluating function at random point.\n",
      "Iteration No: 6 ended. Evaluation done at random point.\n",
      "Time taken: 3.6423\n",
      "Function value obtained: -0.8368\n",
      "Current minimum: -0.9026\n",
      "Iteration No: 7 started. Evaluating function at random point.\n",
      "Iteration No: 7 ended. Evaluation done at random point.\n",
      "Time taken: 1.4994\n",
      "Function value obtained: -0.8697\n",
      "Current minimum: -0.9026\n",
      "Iteration No: 8 started. Evaluating function at random point.\n",
      "Iteration No: 8 ended. Evaluation done at random point.\n",
      "Time taken: 1.5275\n",
      "Function value obtained: -0.8605\n",
      "Current minimum: -0.9026\n",
      "Iteration No: 9 started. Evaluating function at random point.\n",
      "Iteration No: 9 ended. Evaluation done at random point.\n",
      "Time taken: 1.5155\n",
      "Function value obtained: -0.8724\n",
      "Current minimum: -0.9026\n",
      "Iteration No: 10 started. Evaluating function at random point.\n",
      "Iteration No: 10 ended. Evaluation done at random point.\n",
      "Time taken: 5.3216\n",
      "Function value obtained: -0.8991\n",
      "Current minimum: -0.9026\n",
      "Iteration No: 11 started. Searching for the next optimal point.\n",
      "Iteration No: 11 ended. Search finished for the next optimal point.\n",
      "Time taken: 2.1744\n",
      "Function value obtained: -0.9039\n",
      "Current minimum: -0.9039\n",
      "Iteration No: 12 started. Searching for the next optimal point.\n",
      "Iteration No: 12 ended. Search finished for the next optimal point.\n",
      "Time taken: 5.2190\n",
      "Function value obtained: -0.8947\n",
      "Current minimum: -0.9039\n",
      "Iteration No: 13 started. Searching for the next optimal point.\n",
      "Iteration No: 13 ended. Search finished for the next optimal point.\n",
      "Time taken: 5.2152\n",
      "Function value obtained: -0.9031\n",
      "Current minimum: -0.9039\n",
      "Iteration No: 14 started. Searching for the next optimal point.\n",
      "Iteration No: 14 ended. Search finished for the next optimal point.\n",
      "Time taken: 2.1477\n",
      "Function value obtained: -0.9009\n",
      "Current minimum: -0.9039\n",
      "Iteration No: 15 started. Searching for the next optimal point.\n",
      "Iteration No: 15 ended. Search finished for the next optimal point.\n",
      "Time taken: 5.3136\n",
      "Function value obtained: -0.9066\n",
      "Current minimum: -0.9066\n",
      "Iteration No: 16 started. Searching for the next optimal point.\n",
      "Iteration No: 16 ended. Search finished for the next optimal point.\n",
      "Time taken: 5.2400\n",
      "Function value obtained: -0.8807\n",
      "Current minimum: -0.9066\n",
      "Iteration No: 17 started. Searching for the next optimal point.\n",
      "Iteration No: 17 ended. Search finished for the next optimal point.\n",
      "Time taken: 5.2170\n",
      "Function value obtained: -0.9031\n",
      "Current minimum: -0.9066\n",
      "Iteration No: 18 started. Searching for the next optimal point.\n",
      "Iteration No: 18 ended. Search finished for the next optimal point.\n",
      "Time taken: 5.1814\n",
      "Function value obtained: -0.8724\n",
      "Current minimum: -0.9066\n",
      "Iteration No: 19 started. Searching for the next optimal point.\n",
      "Iteration No: 19 ended. Search finished for the next optimal point.\n",
      "Time taken: 5.5887\n",
      "Function value obtained: -0.9044\n",
      "Current minimum: -0.9066\n",
      "Iteration No: 20 started. Searching for the next optimal point.\n",
      "Iteration No: 20 ended. Search finished for the next optimal point.\n",
      "Time taken: 2.3183\n",
      "Function value obtained: -0.9053\n",
      "Current minimum: -0.9066\n",
      "Iteration No: 21 started. Searching for the next optimal point.\n",
      "Iteration No: 21 ended. Search finished for the next optimal point.\n",
      "Time taken: 2.2368\n",
      "Function value obtained: -0.8965\n",
      "Current minimum: -0.9066\n",
      "Iteration No: 22 started. Searching for the next optimal point.\n",
      "Iteration No: 22 ended. Search finished for the next optimal point.\n",
      "Time taken: 2.6554\n",
      "Function value obtained: -0.9026\n",
      "Current minimum: -0.9066\n",
      "Iteration No: 23 started. Searching for the next optimal point.\n",
      "Iteration No: 23 ended. Search finished for the next optimal point.\n",
      "Time taken: 2.4368\n",
      "Function value obtained: -0.9031\n",
      "Current minimum: -0.9066\n",
      "Iteration No: 24 started. Searching for the next optimal point.\n",
      "Iteration No: 24 ended. Search finished for the next optimal point.\n",
      "Time taken: 2.2224\n",
      "Function value obtained: -0.8996\n",
      "Current minimum: -0.9066\n",
      "Iteration No: 25 started. Searching for the next optimal point.\n",
      "Iteration No: 25 ended. Search finished for the next optimal point.\n",
      "Time taken: 5.5689\n",
      "Function value obtained: -0.9044\n",
      "Current minimum: -0.9066\n",
      "Iteration No: 26 started. Searching for the next optimal point.\n",
      "Iteration No: 26 ended. Search finished for the next optimal point.\n",
      "Time taken: 5.3632\n",
      "Function value obtained: -0.9061\n",
      "Current minimum: -0.9066\n",
      "Iteration No: 27 started. Searching for the next optimal point.\n",
      "Iteration No: 27 ended. Search finished for the next optimal point.\n",
      "Time taken: 2.2269\n",
      "Function value obtained: -0.8987\n",
      "Current minimum: -0.9066\n",
      "Iteration No: 28 started. Searching for the next optimal point.\n",
      "Iteration No: 28 ended. Search finished for the next optimal point.\n",
      "Time taken: 2.2779\n",
      "Function value obtained: -0.9022\n",
      "Current minimum: -0.9066\n",
      "Iteration No: 29 started. Searching for the next optimal point.\n",
      "Iteration No: 29 ended. Search finished for the next optimal point.\n",
      "Time taken: 5.6036\n",
      "Function value obtained: -0.9031\n",
      "Current minimum: -0.9066\n",
      "Iteration No: 30 started. Searching for the next optimal point.\n",
      "Iteration No: 30 ended. Search finished for the next optimal point.\n",
      "Time taken: 5.4985\n",
      "Function value obtained: -0.9018\n",
      "Current minimum: -0.9066\n"
     ]
    }
   ],
   "source": [
    "# perform optimization\n",
    "result = gp_minimize(\n",
    "    func=evaluate_model,\n",
    "    dimensions=search_space,\n",
    "    n_calls=30,\n",
    "    random_state=42,\n",
    "    verbose=True,\n",
    "    n_jobs=1,\n",
    ")"
   ]
  },
  {
   "cell_type": "code",
   "execution_count": 71,
   "id": "a5882ca9",
   "metadata": {},
   "outputs": [
    {
     "name": "stdout",
     "output_type": "stream",
     "text": [
      "Best Accuracy: 0.907\n",
      "Best Parameters: [400, 'gini', 9]\n"
     ]
    }
   ],
   "source": [
    "# summarizing finding:\n",
    "print('Best Accuracy: %.3f' % (abs(result.fun))) \n",
    "print('Best Parameters: %s' % (result.x))"
   ]
  },
  {
   "cell_type": "code",
   "execution_count": 72,
   "id": "fafe2792",
   "metadata": {},
   "outputs": [
    {
     "data": {
      "text/plain": [
       "array([-0.88815789, -0.83684211, -0.83684211, -0.8872807 , -0.90263158,\n",
       "       -0.83684211, -0.86973684, -0.86052632, -0.87236842, -0.89912281,\n",
       "       -0.90394737, -0.89473684, -0.90307018, -0.90087719, -0.90657895,\n",
       "       -0.88070175, -0.90307018, -0.87236842, -0.90438596, -0.90526316,\n",
       "       -0.89649123, -0.90263158, -0.90307018, -0.8995614 , -0.90438596,\n",
       "       -0.90614035, -0.89868421, -0.90219298, -0.90307018, -0.90175439])"
      ]
     },
     "execution_count": 72,
     "metadata": {},
     "output_type": "execute_result"
    }
   ],
   "source": [
    "# print function values at each iteration\n",
    "result.func_vals "
   ]
  },
  {
   "cell_type": "code",
   "execution_count": 73,
   "id": "57380b84",
   "metadata": {},
   "outputs": [
    {
     "data": {
      "text/plain": [
       "<AxesSubplot:title={'center':'Convergence plot'}, xlabel='Number of calls $n$', ylabel='$\\\\min f(x)$ after $n$ calls'>"
      ]
     },
     "execution_count": 73,
     "metadata": {},
     "output_type": "execute_result"
    },
    {
     "data": {
      "image/png": "[encoded data removed]",
      "text/plain": [
       "<Figure size 640x480 with 1 Axes>"
      ]
     },
     "metadata": {},
     "output_type": "display_data"
    }
   ],
   "source": [
    "# plot convergence \n",
    "\n",
    "from skopt.plots import plot_convergence\n",
    "\n",
    "plot_convergence(result) "
   ]
  },
  {
   "cell_type": "code",
   "execution_count": 1,
   "id": "6ec1a19b",
   "metadata": {},
   "outputs": [],
   "source": [
    "# import libraries\n",
    "from sklearn.ensemble import AdaBoostClassifier\n",
    "from sklearn.tree import DecisionTreeClassifier\n",
    "from sklearn.model_selection import train_test_split, GridSearchCV\n",
    "from sklearn.metrics import accuracy_score\n",
    "import pandas as pd\n"
   ]
  },
  {
   "cell_type": "code",
   "execution_count": 2,
   "id": "40794944",
   "metadata": {},
   "outputs": [],
   "source": [
    "data=pd.read_csv(\"Full_data.csv\")"
   ]
  },
  {
   "cell_type": "code",
   "execution_count": 3,
   "id": "d1b07251",
   "metadata": {},
   "outputs": [],
   "source": [
    "X = data[['rating', 'user_ratings_total', ]]\n",
    "y = data['price_level']"
   ]
  },
  {
   "cell_type": "code",
   "execution_count": 4,
   "id": "c5719404",
   "metadata": {},
   "outputs": [],
   "source": [
    "X_train, X_test, y_train, y_test = train_test_split(X, y, test_size=0.3)"
   ]
  },
  {
   "cell_type": "code",
   "execution_count": 5,
   "id": "60c24a95",
   "metadata": {},
   "outputs": [],
   "source": [
    "weak_learner = DecisionTreeClassifier(max_depth=1)"
   ]
  },
  {
   "cell_type": "code",
   "execution_count": 6,
   "id": "00a7ef2f",
   "metadata": {},
   "outputs": [],
   "source": [
    "# define AdaBoost classifier\n",
    "ada_boost = AdaBoostClassifier(base_estimator=weak_learner)"
   ]
  },
  {
   "cell_type": "code",
   "execution_count": 7,
   "id": "6c9d07a0",
   "metadata": {},
   "outputs": [],
   "source": [
    "# define hyperparameters to tune\n",
    "params = {\n",
    "    \"n_estimators\": [50, 100, 150],\n",
    "    \"learning_rate\": [0.1, 0.5, 1.0]\n",
    "}"
   ]
  },
  {
   "cell_type": "code",
   "execution_count": 8,
   "id": "e8f5da6b",
   "metadata": {},
   "outputs": [
    {
     "data": {
      "text/plain": [
       "GridSearchCV(cv=5,\n",
       "             estimator=AdaBoostClassifier(base_estimator=DecisionTreeClassifier(max_depth=1)),\n",
       "             param_grid={'learning_rate': [0.1, 0.5, 1.0],\n",
       "                         'n_estimators': [50, 100, 150]})"
      ]
     },
     "execution_count": 8,
     "metadata": {},
     "output_type": "execute_result"
    }
   ],
   "source": [
    "\n",
    "# use GridSearchCV to find optimal hyperparameters\n",
    "grid_search = GridSearchCV(ada_boost, params, cv=5)\n",
    "grid_search.fit(X_train, y_train)\n"
   ]
  },
  {
   "cell_type": "code",
   "execution_count": 9,
   "id": "a8485340",
   "metadata": {},
   "outputs": [
    {
     "name": "stdout",
     "output_type": "stream",
     "text": [
      "Optimal hyperparameters: {'learning_rate': 0.1, 'n_estimators': 50}\n"
     ]
    }
   ],
   "source": [
    "# print optimal hyperparameters\n",
    "print(\"Optimal hyperparameters:\", grid_search.best_params_)\n"
   ]
  },
  {
   "cell_type": "code",
   "execution_count": 10,
   "id": "31be0618",
   "metadata": {},
   "outputs": [],
   "source": [
    "# make predictions on test set using optimized model\n",
    "y_pred = grid_search.predict(X_test)\n"
   ]
  },
  {
   "cell_type": "code",
   "execution_count": 11,
   "id": "fe5c090e",
   "metadata": {},
   "outputs": [
    {
     "name": "stdout",
     "output_type": "stream",
     "text": [
      "Accuracy: 0.8406432748538012\n"
     ]
    }
   ],
   "source": [
    "# evaluate accuracy of the model\n",
    "accuracy = accuracy_score(y_test, y_pred)\n",
    "print(\"Accuracy:\", accuracy)"
   ]
  },
  {
   "cell_type": "code",
   "execution_count": null,
   "id": "3e9d434c",
   "metadata": {},
   "outputs": [],
   "source": []
  }
 ],
 "metadata": {
  "kernelspec": {
   "display_name": "Python 3 (ipykernel)",
   "language": "python",
   "name": "python3"
  },
  "language_info": {
   "codemirror_mode": {
    "name": "ipython",
    "version": 3
   },
   "file_extension": ".py",
   "mimetype": "text/x-python",
   "name": "python",
   "nbconvert_exporter": "python",
   "pygments_lexer": "ipython3",
   "version": "3.9.13"
  }
 },
 "nbformat": 4,
 "nbformat_minor": 5
}
